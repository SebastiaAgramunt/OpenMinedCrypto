{
 "cells": [
  {
   "cell_type": "markdown",
   "id": "stunning-oxygen",
   "metadata": {},
   "source": [
    "# ElGamal Cryptosystem"
   ]
  },
  {
   "cell_type": "markdown",
   "id": "elect-interview",
   "metadata": {},
   "source": [
    "## Key Generation\n",
    "\n",
    "Steps:\n",
    "\n",
    "* A trusted party chooses a prime number $p$ and an element of the field $g$ (of large order, ideally a generator).\n",
    "* The party that generates the keys draws a private key $a$<$p$ and computes $A=g^a (\\text{mod }p)$. Publishes $A$ as the public key\n",
    "\n",
    "The public key is $A$ and the private key $a$."
   ]
  },
  {
   "cell_type": "code",
   "execution_count": null,
   "id": "outstanding-insider",
   "metadata": {},
   "outputs": [],
   "source": [
    "from crypto import GeneratePrimeGeneratorPair\n",
    "\n",
    "size_bits = 16\n",
    "\n",
    "p, g = GeneratePrimeGeneratorPair(size_bits)\n",
    "\n",
    "print(f\"p = {p}\")\n",
    "print(f\"g = {g}\")"
   ]
  },
  {
   "cell_type": "code",
   "execution_count": null,
   "id": "welcome-allen",
   "metadata": {},
   "outputs": [],
   "source": [
    "from random import randrange\n",
    "\n",
    "\n",
    "\n",
    "print(f\"PublicKey: {A}\")\n",
    "print(f\"PrivateKey: {a}\")"
   ]
  },
  {
   "cell_type": "markdown",
   "id": "naval-julian",
   "metadata": {},
   "source": [
    "## Encryption function\n",
    "\n",
    "The party that wants to send a message $m$ and knows the public parameters knows $p$, $g$ and $A$ (the latter one is the public key). To encrypt we need a random ephemeral key $k$ to compute the two parts of the ciphertext\n",
    "\n",
    "$$c_1=g^k (\\text{mod }p)$$\n",
    "$$c_2=mA^k (\\text{mod }p)$$\n",
    "\n",
    "The ciphertext is the tuple ($c_1$, $c_2$)."
   ]
  },
  {
   "cell_type": "code",
   "execution_count": null,
   "id": "permanent-university",
   "metadata": {},
   "outputs": [],
   "source": [
    "\n",
    "\n",
    "print(f\"m: {m}\")\n",
    "print(f\"k: {k}\")\n",
    "print(f\"c: {c}\")"
   ]
  },
  {
   "cell_type": "markdown",
   "id": "changing-highlight",
   "metadata": {},
   "source": [
    "## Decryption function\n",
    "\n",
    "The decryption function computes the ciphertext $c$=($c_1$, $c_2$) to the original message $m$. \n",
    "\n",
    "$$m = (c_1^a)^{-1}*c_2 (\\text{mod }p)$$\n"
   ]
  },
  {
   "cell_type": "code",
   "execution_count": null,
   "id": "labeled-singer",
   "metadata": {},
   "outputs": [],
   "source": [
    "from crypto import InverseFermat\n",
    "\n",
    "\n",
    "\n",
    "print(f\"message decrypted: {m2}\")"
   ]
  },
  {
   "cell_type": "markdown",
   "id": "thorough-center",
   "metadata": {},
   "source": [
    "Let's check analitically that the previous equation holds. On the one hand we have $(c_1^a)^{-1}$:\n",
    "\n",
    "$$(c_1^a)^{-1}(\\text{mod }p)=(g^{ka})^{-1}(\\text{mod }p)=(A^{k})^{-1}(\\text{mod }p)$$\n",
    "\n",
    "Also\n",
    "\n",
    "$$c_2(\\text{mod }p)=m*A^k(\\text{mod }p)$$\n",
    "\n",
    "if we multiply both we get\n",
    "\n",
    "$$(c_1^a)^{-1}*c_2 (\\text{mod }p)=(A^{k})^{-1}*m*A^k(\\text{mod }p)=m(\\text{mod }p)$$\n",
    "\n",
    "proving that the previous decryption is correct."
   ]
  },
  {
   "cell_type": "code",
   "execution_count": null,
   "id": "developed-minimum",
   "metadata": {},
   "outputs": [],
   "source": [
    "from typing import Tuple\n",
    "\n",
    "def ElGamalKeyGenerator(size: int = 64):\n",
    "    '''\n",
    "    Implementation of El Gamal Cryptosystem\n",
    "    This function generates plublic and private keys\n",
    "    Input:\n",
    "        size: size in bits of the field\n",
    "    Output:\n",
    "        PublicKey: (A, g, p)\n",
    "        PrivateKey: (sk, p)\n",
    "    '''\n",
    "    p, g = GeneratePrimeGeneratorPair(size)\n",
    "    sk = randrange(2, p-1)\n",
    "    A = pow(g, sk, p)\n",
    "\n",
    "    # Return public key and private key\n",
    "    return (A, g, p), (sk, p)\n",
    "\n",
    "def ElGamalEncrypt(m: int, PublicKey: Tuple[int]):\n",
    "    '''\n",
    "    Encrypts a message m using the ElGamal public key\n",
    "    Input:\n",
    "        m: message (An integer message) (mod p)\n",
    "        PublicKey: A tuple (A, g, p)\n",
    "    Output:\n",
    "        c: tuple (c1, c2) encrypted message \n",
    "    '''\n",
    "    A, g, p = PublicKey[0], PublicKey[1], PublicKey[2]\n",
    "    k = randrange(2, p-1)\n",
    "\n",
    "    return (pow(g, k, p), pow(A, k, p)*m%p)\n",
    "\n",
    "\n",
    "def ElGamalDecrypt(c: Tuple[int, int], PrivateKey: Tuple[int]):\n",
    "    '''\n",
    "    Decrypts a ciphertext m using the El Gamnal private key\n",
    "    Input:\n",
    "        c: tuple (c1, c2) the ciphertext of the message\n",
    "        PublicKey: A tuple (sk, p)\n",
    "    Output:\n",
    "        m: Decrypted message\n",
    "    '''\n",
    "    c1, c2 = c[0], c[1]\n",
    "    sk, p = PrivateKey[0], PrivateKey[1]\n",
    "    x = InverseFermat(pow(c1, sk, p), p)\n",
    "    return (x * c2)%p"
   ]
  },
  {
   "cell_type": "markdown",
   "id": "flying-queensland",
   "metadata": {},
   "source": [
    "## What is the difficulty of breaking this code?\n",
    "\n",
    "In order to decrypt the messages one has to find the secret key $a$. Let's take the decryption algorithm:\n",
    "\n",
    "$$m = (c_1^a)^{-1}*c_2 (\\text{mod }p)$$\n",
    "\n",
    "and multiply by $c_2^{-1}$ to both sides\n",
    "\n",
    "$$m*c_2^{-1} = (c_1^a)^{-1} (\\text{mod }p)$$\n",
    "\n",
    "and apply the inverse to both sides\n",
    "\n",
    "$$m^{-1}*c_2 = c_1^a (\\text{mod }p)$$\n",
    "\n",
    "this is equivalent to the discrete lograithm problem: Try to find $y$ given $x$, $g$ and $p$.\n",
    "\n",
    "$$x=g^y \\textit{(mod p)}$$\n",
    "\n",
    "In our case\n",
    "\n",
    "$$x=m^{-1}*c_2$$\n",
    "$$g=c_1$$\n",
    "and\n",
    "\n",
    "$$y=a$$\n"
   ]
  },
  {
   "cell_type": "code",
   "execution_count": null,
   "id": "descending-perception",
   "metadata": {},
   "outputs": [],
   "source": [
    "x = InverseFermat(m, p)*c2%p\n",
    "g = c1\n",
    "y = randrange(p)\n",
    "\n",
    "while x!=pow(g, y, p):\n",
    "    y = randrange(p)\n",
    "    \n",
    "print(f\"y: {y}\")\n",
    "print(f\"a: {a}\")"
   ]
  },
  {
   "cell_type": "code",
   "execution_count": null,
   "id": "present-developer",
   "metadata": {},
   "outputs": [],
   "source": []
  }
 ],
 "metadata": {
  "kernelspec": {
   "display_name": "Python 3",
   "language": "python",
   "name": "python3"
  },
  "language_info": {
   "codemirror_mode": {
    "name": "ipython",
    "version": 3
   },
   "file_extension": ".py",
   "mimetype": "text/x-python",
   "name": "python",
   "nbconvert_exporter": "python",
   "pygments_lexer": "ipython3",
   "version": "3.6.7"
  }
 },
 "nbformat": 4,
 "nbformat_minor": 5
}
