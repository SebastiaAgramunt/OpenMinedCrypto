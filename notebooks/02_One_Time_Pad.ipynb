{
 "cells": [
  {
   "cell_type": "markdown",
   "metadata": {},
   "source": [
    "# One time pad\n",
    "\n",
    "In the previous lesson we performed an attack over the Monoalphabetic cipher where the attacker (Charlie) only knew that Alice and Bob were communicating in english and that they were using this concrete cipher. Therefore the ciphertext is leaking information. Can we find a cipher whose ciphertext doesn't leak any information on the original message?. We are going to answer this question using the Vigenere cipher.\n",
    "\n",
    "\n",
    "## Vigenère cipher revisited\n",
    "First, lets copy paste the code for the Vingenère cipher already coded in the first notebook\n"
   ]
  },
  {
   "cell_type": "code",
   "execution_count": 1,
   "metadata": {},
   "outputs": [],
   "source": [
    "from copy import deepcopy\n",
    "from random import randrange\n",
    "import string\n",
    "\n",
    "characters = string.ascii_lowercase\n",
    "\n",
    "def vigenere_key_generator(secret_key_size: int):\n",
    "    \"\"\"Generates a key of fixed lenght\n",
    "    \"\"\"\n",
    "    n = len(string.ascii_lowercase)\n",
    "    secret_key = ''\n",
    "    while len(secret_key) < secret_key_size:\n",
    "        secret_key += string.ascii_lowercase[randrange(n)]\n",
    "    \n",
    "    return secret_key\n",
    "\n",
    "\n",
    "def shift_letter(letter: str, shiftby: str, forward=True):\n",
    "    \"\"\"Shift a letter a certain ammount of spaces\n",
    "    letter: an element from string.ascii_lowercase\n",
    "    shiftby: a letter from string.asccii_lowercase indicating th ammount of shift\n",
    "    \"\"\"\n",
    "    n = len(string.ascii_lowercase)\n",
    "    char_to_num = {c:i for i, c in enumerate(string.ascii_lowercase)}\n",
    "\n",
    "    if letter == ' ':\n",
    "        return letter\n",
    "    \n",
    "    shift = char_to_num[shiftby]\n",
    "    i = char_to_num[letter]\n",
    "    \n",
    "    if forward:\n",
    "        return string.ascii_lowercase[(i + shift)%n]\n",
    "    else:\n",
    "        return string.ascii_lowercase[(i - shift)%n]\n",
    "\n",
    "\n",
    "def vigenere_encrypt_decrypt(message, secret_key, encrypt:bool = True):\n",
    "    key_len = len(secret_key)\n",
    "    \n",
    "    encoded = ''\n",
    "    for i, letter in enumerate(message):\n",
    "        c = shift_letter(letter, secret_key[i%key_len],forward=encrypt)\n",
    "        encoded += c\n",
    "        \n",
    "    return encoded"
   ]
  },
  {
   "cell_type": "markdown",
   "metadata": {},
   "source": [
    "## Downloading data from the book Nineteen Eighty Four"
   ]
  },
  {
   "cell_type": "code",
   "execution_count": 2,
   "metadata": {},
   "outputs": [],
   "source": [
    "from utils import download_data, process_load_textfile\n",
    "import string\n",
    "import os\n",
    "\n",
    "url = 'http://gutenberg.net.au/ebooks01/0100021.txt'\n",
    "filename = 'Nineteen-eighty-four_Orwell.txt'\n",
    "download_path = '/'.join(os.getcwd().split('/')[:-1]) + '/data/'\n",
    "\n",
    "#download data to specified path\n",
    "download_data(url, filename, download_path)\n",
    "\n",
    "#load data and process\n",
    "data = process_load_textfile(filename, download_path)"
   ]
  },
  {
   "cell_type": "markdown",
   "metadata": {},
   "source": [
    "Have a look at the data"
   ]
  },
  {
   "cell_type": "code",
   "execution_count": 3,
   "metadata": {},
   "outputs": [
    {
     "data": {
      "text/plain": [
       "'ook its smooth creamy paper a little yellowed by age was of a kind that had not been manufactured for at least forty years past he could guess however that the book was much older than that he had seen it lying in the window of a frowsy little junkshop in a slummy quarter of the town just what quarter he did not now remember and had been stricken immediately by an overwhelming desire to possess it party members were supposed not to go into ordinary shops dealing on the free market it was called but the rule was not strictly kept because there were various things such as shoelaces and razor blades which it was impossible to get hold of in any other way he had given a quick glance up and down the street and then had slipped inside and bought the book for two dollars fifty at the time he was not conscious of wanting it for any particular purpose he had carried it guiltily home in his briefcase even with nothing written in it it was a compromising possession the thing that he was about to '"
      ]
     },
     "execution_count": 3,
     "metadata": {},
     "output_type": "execute_result"
    }
   ],
   "source": [
    "data[10000:11000]"
   ]
  },
  {
   "cell_type": "markdown",
   "metadata": {},
   "source": [
    "Let's remove the blank spaces for the next section"
   ]
  },
  {
   "cell_type": "code",
   "execution_count": 4,
   "metadata": {},
   "outputs": [],
   "source": [
    "data = data.replace(\" \", \"\")"
   ]
  },
  {
   "cell_type": "markdown",
   "metadata": {},
   "source": [
    "## Counting letter frequencies\n",
    "\n",
    "First we write a function to count the frequency of the letters for a given text and outputs a sorted tuple with the letter and the counts of that letter"
   ]
  },
  {
   "cell_type": "code",
   "execution_count": 5,
   "metadata": {},
   "outputs": [],
   "source": [
    "from typing import List, Tuple\n",
    "from collections import Counter\n",
    "\n",
    "def letter_frequency(text: str) -> List[Tuple[str, int]]:\n",
    "    count = Counter(text.replace(\" \",\"\"))\n",
    "    most_common = count.most_common()\n",
    "    most_common.sort(key = lambda x: x[0])\n",
    "    return most_common"
   ]
  },
  {
   "cell_type": "markdown",
   "metadata": {},
   "source": [
    "And calculate the frequency for the book nineteen eighty four"
   ]
  },
  {
   "cell_type": "code",
   "execution_count": 6,
   "metadata": {},
   "outputs": [
    {
     "data": {
      "text/plain": [
       "[('a', 36523),\n",
       " ('b', 7653),\n",
       " ('c', 11636),\n",
       " ('d', 19022),\n",
       " ('e', 59619),\n",
       " ('f', 10188),\n",
       " ('g', 9283),\n",
       " ('h', 29164),\n",
       " ('i', 31950),\n",
       " ('j', 463),\n",
       " ('k', 3609),\n",
       " ('l', 18657),\n",
       " ('m', 10828),\n",
       " ('n', 31986),\n",
       " ('o', 35051),\n",
       " ('p', 8614),\n",
       " ('q', 409),\n",
       " ('r', 26126),\n",
       " ('s', 28972),\n",
       " ('t', 43877),\n",
       " ('u', 13037),\n",
       " ('v', 4313),\n",
       " ('w', 12243),\n",
       " ('x', 792),\n",
       " ('y', 9423),\n",
       " ('z', 306)]"
      ]
     },
     "execution_count": 6,
     "metadata": {},
     "output_type": "execute_result"
    }
   ],
   "source": [
    "freq = letter_frequency(data)\n",
    "freq"
   ]
  },
  {
   "cell_type": "markdown",
   "metadata": {},
   "source": [
    "And let's write a function that gives a bar plot for the frequencies:"
   ]
  },
  {
   "cell_type": "code",
   "execution_count": 7,
   "metadata": {},
   "outputs": [],
   "source": [
    "import matplotlib.pyplot as plt\n",
    "\n",
    "def freq_plotter(text: str, title: str) -> plt.figure:\n",
    "\n",
    "    plt.clf()\n",
    "    freq = letter_frequency(text)\n",
    "    names = [x[0] for x in freq]\n",
    "    values = [x[1] for x in freq]\n",
    "\n",
    "    fig = plt.figure(figsize=(16,7))\n",
    "\n",
    "    plt.bar(names, values)\n",
    "    plt.title(title)\n",
    "    return fig"
   ]
  },
  {
   "cell_type": "code",
   "execution_count": 8,
   "metadata": {},
   "outputs": [
    {
     "data": {
      "text/plain": [
       "<Figure size 432x288 with 0 Axes>"
      ]
     },
     "metadata": {},
     "output_type": "display_data"
    },
    {
     "data": {
      "image/png": "[encoded data removed]",
      "text/plain": [
       "<Figure size 1152x504 with 1 Axes>"
      ]
     },
     "metadata": {
      "needs_background": "light"
     },
     "output_type": "display_data"
    }
   ],
   "source": [
    "fig = freq_plotter(data, \"Frequencies of letters for Nineteen Eighty Four\")"
   ]
  },
  {
   "cell_type": "markdown",
   "metadata": {},
   "source": [
    "And finally let's code another nice utility, a function that randomly draws a random portion of the text"
   ]
  },
  {
   "cell_type": "code",
   "execution_count": 9,
   "metadata": {},
   "outputs": [],
   "source": [
    "from random import randrange, seed\n",
    "\n",
    "def draw_sample(text: str, size: int) -> str:\n",
    "    n = len(text)\n",
    "    i_init = randrange(n)\n",
    "    i_final = i_init + size\n",
    "    \n",
    "    c = ''\n",
    "    for i in range(i_init, i_final):\n",
    "        c += text[i%n]\n",
    "    return c"
   ]
  },
  {
   "cell_type": "code",
   "execution_count": 10,
   "metadata": {},
   "outputs": [
    {
     "data": {
      "text/plain": [
       "'eeverythingwasallrighthefellasleepmurmuringsanityisnotstatisticalwiththefeelingthatthisremarkcontain'"
      ]
     },
     "execution_count": 10,
     "metadata": {},
     "output_type": "execute_result"
    }
   ],
   "source": [
    "seed(5)\n",
    "draw_sample(data, 100)"
   ]
  },
  {
   "cell_type": "markdown",
   "metadata": {},
   "source": [
    "## Counting frequencies with short key\n",
    "\n",
    "Now let's count the frequency in the ciphertext for a randomly sampled text from the book. Let's begin with the shift cipher (i.e. Vigenere with key size 1)"
   ]
  },
  {
   "cell_type": "code",
   "execution_count": 14,
   "metadata": {},
   "outputs": [
    {
     "name": "stdout",
     "output_type": "stream",
     "text": [
      "message_size = 115936\n",
      "secret_key_size = 1\n"
     ]
    }
   ],
   "source": [
    "seed(10)\n",
    "message_size = len(data)//4\n",
    "secret_key_size = 1\n",
    "print(f\"message_size = {message_size}\\nsecret_key_size = {secret_key_size}\")\n",
    "\n",
    "# generating random message\n",
    "message = draw_sample(data, message_size)\n",
    "\n",
    "# generating secret key\n",
    "secret_key = vigenere_key_generator(secret_key_size)\n",
    "\n",
    "# calculating ciphertext that Alice sends to Bob\n",
    "ciphertext = vigenere_encrypt_decrypt(message, secret_key, encrypt=True)\n",
    "\n",
    "# just to make sure Vigenere is well coded\n",
    "assert message==vigenere_encrypt_decrypt(ciphertext, secret_key, encrypt=False), \"something went wrong\""
   ]
  },
  {
   "cell_type": "code",
   "execution_count": 15,
   "metadata": {},
   "outputs": [
    {
     "data": {
      "text/plain": [
       "<Figure size 432x288 with 0 Axes>"
      ]
     },
     "metadata": {},
     "output_type": "display_data"
    },
    {
     "data": {
      "image/png": "[encoded data removed]",
      "text/plain": [
       "<Figure size 1152x504 with 1 Axes>"
      ]
     },
     "metadata": {
      "needs_background": "light"
     },
     "output_type": "display_data"
    }
   ],
   "source": [
    "fig = freq_plotter(ciphertext, f\"Frequencies for ciphertext size {message_size} and key size {secret_key_size}\")"
   ]
  },
  {
   "cell_type": "markdown",
   "metadata": {},
   "source": [
    "We observe that the frequencies of the letters are not the same, and therefore if the attacker knows Alice and Bob communicate in english he will probably be able to say that the shift is 1, i.e. the secret key is \"b\" because the most frequent letter in english is \"e\" and that corresponds to the peak in \"f\", therefore the shift is of one position. Here we can extract information from the ciphertext."
   ]
  },
  {
   "cell_type": "markdown",
   "metadata": {},
   "source": [
    "## Counting frequencies with large key\n",
    "\n",
    "Instead of having a short key, let's take a super long key, actually the size of our message:"
   ]
  },
  {
   "cell_type": "code",
   "execution_count": 17,
   "metadata": {},
   "outputs": [
    {
     "name": "stdout",
     "output_type": "stream",
     "text": [
      "message_size = 115936\n",
      "secret_key_size = 115936\n"
     ]
    }
   ],
   "source": [
    "seed(10)\n",
    "message_size = len(data)//4\n",
    "secret_key_size = message_size\n",
    "print(f\"message_size = {message_size}\\nsecret_key_size = {secret_key_size}\")\n",
    "\n",
    "# generating random message\n",
    "message = draw_sample(data, message_size)\n",
    "\n",
    "# generating secret key\n",
    "secret_key = vigenere_key_generator(secret_key_size)\n",
    "\n",
    "# calculating ciphertext that Alice sends to Bob\n",
    "ciphertext = vigenere_encrypt_decrypt(message, secret_key, encrypt=True)\n",
    "\n",
    "# just to make sure Vigenere is well coded\n",
    "assert message==vigenere_encrypt_decrypt(ciphertext, secret_key, encrypt=False), \"something went wrong\""
   ]
  },
  {
   "cell_type": "code",
   "execution_count": 18,
   "metadata": {},
   "outputs": [
    {
     "data": {
      "text/plain": [
       "<Figure size 432x288 with 0 Axes>"
      ]
     },
     "metadata": {},
     "output_type": "display_data"
    },
    {
     "data": {
      "image/png": "[encoded data removed]",
      "text/plain": [
       "<Figure size 1152x504 with 1 Axes>"
      ]
     },
     "metadata": {
      "needs_background": "light"
     },
     "output_type": "display_data"
    }
   ],
   "source": [
    "fig = freq_plotter(ciphertext, f\"Frequencies for ciphertext size {message_size} and key size {secret_key_size}\")"
   ]
  },
  {
   "cell_type": "markdown",
   "metadata": {},
   "source": [
    "Great!. The attacker computes the frequency of the letters in the ciphertext and determines that the probability for each letter to appear is almost the same. In this context we can say that the ciphertext does not contain any information from the original message."
   ]
  },
  {
   "cell_type": "markdown",
   "metadata": {},
   "source": [
    "## The one time pad\n",
    "\n",
    "Let's have a deeper look on what we've done in the previous section. First let's see what is the frequency for each letter when randomly generating the key"
   ]
  },
  {
   "cell_type": "code",
   "execution_count": 19,
   "metadata": {},
   "outputs": [],
   "source": [
    "rdm_secret_keys = [vigenere_key_generator(secret_key_size=1) for _ in range(5000)]\n",
    "count = Counter(rdm_secret_keys)"
   ]
  },
  {
   "cell_type": "code",
   "execution_count": 20,
   "metadata": {},
   "outputs": [
    {
     "data": {
      "text/plain": [
       "[('a', 218),\n",
       " ('g', 217),\n",
       " ('o', 214),\n",
       " ('h', 211),\n",
       " ('x', 206),\n",
       " ('i', 203),\n",
       " ('d', 199),\n",
       " ('w', 198),\n",
       " ('b', 198),\n",
       " ('q', 197),\n",
       " ('k', 196),\n",
       " ('y', 195),\n",
       " ('p', 192),\n",
       " ('l', 191),\n",
       " ('s', 190),\n",
       " ('m', 189),\n",
       " ('e', 189),\n",
       " ('f', 189),\n",
       " ('r', 187),\n",
       " ('j', 186),\n",
       " ('u', 183),\n",
       " ('t', 177),\n",
       " ('c', 173),\n",
       " ('z', 172),\n",
       " ('v', 170),\n",
       " ('n', 160)]"
      ]
     },
     "execution_count": 20,
     "metadata": {},
     "output_type": "execute_result"
    }
   ],
   "source": [
    "count.most_common()"
   ]
  },
  {
   "cell_type": "markdown",
   "metadata": {},
   "source": [
    "These are very similar, this means that the probability for generating any letter is almost the same, around 1/26.  Then when we encrypt what we do is to \"shift\" or \"pad\" our character by the key number. This means that the character in the ciphertext has probability 1/26 independent on what the character of the message was. We can formalise this using Bayesian statistics: \n",
    "\n",
    "A cryptosystem has perfect secrecy if for all possible messages and for all possible ciphertext the probability of finding a message is independent of the ciphertext\n",
    "\n",
    "$$P(m|c) = P(m)$$\n",
    "\n",
    "where $P(m)$ is the probability of message $m$ from the corpus of all possible messages $M$ and $P(m|c)$ is the conditional probability for $m$ having observed the ciphertext $c$ belonging to the corpus of all possible ciphertexts $C$.\n",
    "\n",
    "Equivalently we can write \n",
    "\n",
    "$$P(m|c) = P(m|c^\\prime)$$\n",
    "\n",
    "for any two arbitrary ciphertext $c$ and $c^\\prime$. This means that the probability for the message $m$ is independent of the ciphertext. "
   ]
  },
  {
   "cell_type": "markdown",
   "metadata": {},
   "source": [
    "## One time pad is impractical because...\n",
    "\n",
    "* The key has to be at least as long as the message one wants to transmit\n",
    "* For perfect secrecy one has to use a new key every time.\n",
    "* Alice and Bob have to make sure that they are the only ones that know the key. They cannot stablish a common key communicating through an insecure channel"
   ]
  },
  {
   "cell_type": "code",
   "execution_count": null,
   "metadata": {},
   "outputs": [],
   "source": []
  }
 ],
 "metadata": {
  "kernelspec": {
   "display_name": "Python 3",
   "language": "python",
   "name": "python3"
  },
  "language_info": {
   "codemirror_mode": {
    "name": "ipython",
    "version": 3
   },
   "file_extension": ".py",
   "mimetype": "text/x-python",
   "name": "python",
   "nbconvert_exporter": "python",
   "pygments_lexer": "ipython3",
   "version": "3.6.7"
  }
 },
 "nbformat": 4,
 "nbformat_minor": 4
}
