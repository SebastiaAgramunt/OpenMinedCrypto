{
 "cells": [
  {
   "cell_type": "markdown",
   "metadata": {},
   "source": [
    "# On homomorphisms\n",
    "\n",
    "This section is devoted to understand what are homomoprhism and how can we compute on the ciphertext sums and multiplications.\n",
    "\n",
    "## Homomorphisms in algebraic groups\n",
    "\n",
    "Let's put some formalism first. Let $(G, \\bigstar)$ and $(H, \\square)$ be algebraic groups. A group homomorphism from $G$ to $H$ is a function\n",
    "\n",
    "$$f: G \\rightarrow H$$\n",
    "\n",
    "such that\n",
    "\n",
    "$$f(x \\bigstar y) = f(x)\\square f(y)$$\n",
    "$$\\forall x, y \\in A$$\n",
    "\n",
    "As a simple example, take the two groups $(\\mathbb{R}, +)$ and $(\\mathbb{R}^+, \\cdot)$, i.e. the real numbers with addition group and real positive numbers with multiplication group. Take the function $f(x)=exp(x)$, then $f$ defines an homomorphism with the two groups since\n",
    "\n",
    "$$f(x+y)=e^{x+y}=e^x\\cdot e^y=f(x)\\cdot f(y)$$\n",
    "\n",
    "### Paillier \n",
    "\n",
    "Paillier cryptosystem defines an homomorphism on the group $(\\mathbb{Z}_{N^2}, +)$ where $f$ is the encryption function, this is:\n",
    "\n",
    "$$Enc: (\\mathbb{Z}_{N}, +) \\rightarrow (\\mathbb{Z}_{N^2}, \\cdot)$$\n",
    "\n",
    "where the function $Enc(x)$ is\n",
    "\n",
    "$$Enc(x)=g^x \\cdot r^N \\pmod{N^2}$$\n",
    "\n",
    "and $N$ is the product of two prime numbers $p$ and $q$ such that the maximum common multiple of $N$ and $(p-1)(q-1)$ is 1. At the same time, $g$ is a random element of $\\mathbb{Z}_{N^2}$ and $r$ is a random number the range $0<r<N$ and part of the group ($\\mathbb{Z}_N, \\cdot$) i.e. $gcm(r, N)=1$.\n",
    "\n",
    "There is another calculated parameter kept private \n",
    "\n",
    "$$\\mu=(L(g^{\\lambda}\\pmod{N^2}))^{-1}\\pmod{N}$$\n",
    "\n",
    "where the function $L$ is defined as\n",
    "\n",
    "$$L(x)=\\frac{x-1}{n}$$\n",
    "\n",
    "taking the integer part of the divison and $\\lambda$ is the least common multiple of the order of the primes i.e. of $p-1$ and $q-1$. \n",
    "\n",
    "One can decrypt the ciphertext $c$ and recover the original message $x$ as\n",
    "\n",
    "$$x=L(c^{\\lambda} \\pmod{N^2})\\cdot \\mu \\pmod{N}$$\n",
    "\n",
    "$$Enc(m_1+m_2)=Enc(m_1)\\cdot Enc(m_2)$$\n",
    "\n",
    "Thus the encryption of two plaintexts in $N^2$ is the multipication of their ciphertexts. Let's try to show this in some examples, the proof of the homomorphic encryption can be found [elsewhere](https://doi.org/10.1016/B978-0-12-801595-7.00005-7)."
   ]
  },
  {
   "cell_type": "code",
   "execution_count": 1,
   "metadata": {},
   "outputs": [],
   "source": [
    "from crypto import PaillierKeyGenerator, PaillierEncrypt, PaillierDecrypt\n",
    "from random import randrange, seed"
   ]
  },
  {
   "cell_type": "code",
   "execution_count": 2,
   "metadata": {},
   "outputs": [
    {
     "name": "stdout",
     "output_type": "stream",
     "text": [
      "Paillier parameters:\n",
      "-Public:\n",
      "\tN=115110739666747791921112868975170199429\n",
      "\tg=11746404183990965317467258256377031871479383309643100914212204965039274386264\n",
      "\n",
      "-Private:\n",
      "\tN=115110739666747791921112868975170199429\n",
      "\tlambda=57555369833373895949823801437082429942\n",
      "\tmu=95320834247969698761071847846388744935\n",
      "Plaintext messages:\n",
      "m1=51272\n",
      "m2=4023\n",
      "\n"
     ]
    }
   ],
   "source": [
    "bits = 64\n",
    "seed(3)\n",
    "\n",
    "PublicKeyPaillier, PrivateKeyPaillier = PaillierKeyGenerator(bits)\n",
    "N = PublicKeyPaillier[0]\n",
    "g = PublicKeyPaillier[1]\n",
    "\n",
    "l = PrivateKeyPaillier[1]\n",
    "mu = PrivateKeyPaillier[2]\n",
    "\n",
    "m1, m2 = randrange(2, 2**(bits//4)), randrange(2, 2**(bits//4))\n",
    "print(f\"Paillier parameters:\\n-Public:\\n\\tN={N}\\n\\tg={g}\")\n",
    "print(f\"\\n-Private:\\n\\tN={N}\\n\\tlambda={l}\\n\\tmu={mu}\")\n",
    "print(f\"Plaintext messages:\\nm1={m1}\\nm2={m2}\\n\")"
   ]
  },
  {
   "cell_type": "markdown",
   "metadata": {},
   "source": [
    "We will test that \n",
    "\n",
    "$$m_1+m_2 \\pmod{N} = Dec(Enc(m_1)\\cdot Enc(m_2)\\pmod{N^2})$$\n",
    "\n",
    "on plaintext because the encryption on Paillier is not bijective, i.e. applying the same algorithm on the same input we won't get the same result, that is because it depends on a randomly sampled $r$ (look at the source code of encryption). "
   ]
  },
  {
   "cell_type": "code",
   "execution_count": 3,
   "metadata": {},
   "outputs": [
    {
     "name": "stdout",
     "output_type": "stream",
     "text": [
      "Sum modulo N of plaintexts: 55295\n",
      "Decryption of the product encoded 55295\n"
     ]
    }
   ],
   "source": [
    "print(f\"Sum modulo N of plaintexts: {(m1+m2)%N}\")\n",
    "prod_ciphertext = PaillierEncrypt(m1, PublicKeyPaillier)*PaillierEncrypt(m2, PublicKeyPaillier)%(N**2)\n",
    "decripted_prod = PaillierDecrypt(prod_ciphertext, PrivateKeyPaillier)\n",
    "print(f\"Decryption of the product encoded {decripted_prod}\")\n",
    "\n",
    "assert decripted_prod==(m1+m2)%N, \"something went wrong\""
   ]
  },
  {
   "cell_type": "markdown",
   "metadata": {},
   "source": [
    "It can also be shown that\n",
    "\n",
    "$$Dec(Enc(m1)g^{m_2}\\pmod{N^2})=m_1+m_2 \\pmod{N}$$"
   ]
  },
  {
   "cell_type": "code",
   "execution_count": 5,
   "metadata": {},
   "outputs": [
    {
     "name": "stdout",
     "output_type": "stream",
     "text": [
      "Sum modulo N of plaintexts: 55295\n",
      "Decrypted product: 55295\n"
     ]
    }
   ],
   "source": [
    "decrypted_prod = PaillierDecrypt(PaillierEncrypt(m1, PublicKeyPaillier)*pow(g, m2, N**2), PrivateKeyPaillier)\n",
    "assert (m1+m2)%N==decrypted_prod, \"something went wrong\"\n",
    "\n",
    "print(f\"Sum modulo N of plaintexts: {(m1+m2)%N}\")\n",
    "print(f\"Decrypted product: {decrypted_prod}\")"
   ]
  },
  {
   "cell_type": "markdown",
   "metadata": {},
   "source": [
    "but this does not define any homomorphism since we are multiplying an exponenciated plaintext (from the first group) to a ciphertext (from the second group). "
   ]
  },
  {
   "cell_type": "markdown",
   "metadata": {},
   "source": [
    "### El Gamal"
   ]
  },
  {
   "cell_type": "markdown",
   "metadata": {},
   "source": [
    "El Gamal cryptosystem defines a homomorphism on $(\\mathbb{Z}_p, \\cdot)$ \n",
    "\n",
    "$$Enc: (\\mathbb{Z}_p, \\cdot) \\rightarrow (\\mathbb{Z}_p, \\cdot) \\times (\\mathbb{Z}_p, \\cdot)$$\n",
    "\n",
    "s. t \n",
    "\n",
    "$$Enc(m) = c = (c_1, c_2)$$\n",
    "\n",
    "This cryptosystem has been explained in another notebook so I refer the reader there to understand it better. The muliplication in the plaintext is defined the usual way but on the ciphertext we multiply pointwise (Shorr):\n",
    "\n",
    "$$Enc(m_x) = (c_{x1}, c_{x2})$$\n",
    "$$Enc(m_y) = (c_{y1}, c_{y2})$$\n",
    "$$Enc(m_x)\\cdot Enc(m_y) = (c_{x1}\\cdot c_{y1}, c_{x2}\\cdot c_{y2})$$"
   ]
  },
  {
   "cell_type": "code",
   "execution_count": 7,
   "metadata": {},
   "outputs": [
    {
     "name": "stdout",
     "output_type": "stream",
     "text": [
      "ElGamal parameters:\n",
      "-Public:\n",
      "\tA=6449297829066993208\n",
      "\tg=1588082161193385932\n",
      "\tp=9628098341074011907\n",
      "\n",
      "-Private:\n",
      "\tsk=4567125481059076332\n",
      "\tp=9628098341074011907\n",
      "\n",
      "Plaintext messages:\n",
      "m1=51272\n",
      "m2=4023\n",
      "\n"
     ]
    }
   ],
   "source": [
    "from crypto import ElGamalKeyGenerator, ElGamalEncrypt, ElGamalDecrypt\n",
    "\n",
    "PublicKeyElGamal, PrivateKeyElGamal = ElGamalKeyGenerator(bits)\n",
    "A = PublicKeyElGamal[0]\n",
    "g = PublicKeyElGamal[1]\n",
    "p = PublicKeyElGamal[2]\n",
    "\n",
    "sk = PrivateKeyElGamal[0]\n",
    "\n",
    "print(f\"ElGamal parameters:\\n-Public:\\n\\tA={A}\\n\\tg={g}\\n\\tp={p}\")\n",
    "print(f\"\\n-Private:\\n\\tsk={sk}\\n\\tp={p}\\n\")\n",
    "print(f\"Plaintext messages:\\nm1={m1}\\nm2={m2}\\n\")"
   ]
  },
  {
   "cell_type": "markdown",
   "metadata": {},
   "source": [
    "We have to test the homomorphism:\n",
    "\n",
    "$$Enc(m_1\\cdot m_2)=Enc(m_1)\\cdot Enc(m_2) = (c_{x1}\\cdot c_{y1}, c_{x2} \\cdot c_{y2})$$\n",
    "\n",
    "or equivalently \n",
    "\n",
    "$$Dec(Enc(m_1)\\cdot Enc(m_2))=m_1\\cdot m_2$$"
   ]
  },
  {
   "cell_type": "code",
   "execution_count": 8,
   "metadata": {},
   "outputs": [
    {
     "name": "stdout",
     "output_type": "stream",
     "text": [
      "ciphertext 1 = (462294334783848541, 8031718722232746477)\n",
      "ciphertext 2 = (1886934172774992497, 1817741287222691966)\n",
      "\n",
      "Product of m1 and m2 in ciphertext = (232960339427637275, 7521723794363113892)\n",
      "Decrypting the product of ciphertext 206267256\n",
      "Product of the plaintexts 206267256\n"
     ]
    }
   ],
   "source": [
    "c1 = ElGamalEncrypt(m1, PublicKeyElGamal)\n",
    "c2 = ElGamalEncrypt(m2, PublicKeyElGamal)\n",
    "\n",
    "# Plaintext multiplication\n",
    "m1m2 = m1*m2%p\n",
    "\n",
    "#encryption and decryption of the multiplied\n",
    "#m1m2p = ElGamalDecrypt(ElGamalEncrypt(m1m2, PublicKeyElGamal),PrivateKeyElGamal)\n",
    "\n",
    "cipher_mult = (c1[0]*c2[0]%p, c1[1]*c2[1]%p)\n",
    "dec_cipher_mult = ElGamalDecrypt(cipher_mult, PrivateKeyElGamal)\n",
    "assert m1m2==dec_cipher_mult, \"something went wrong\"\n",
    "\n",
    "\n",
    "print(f\"ciphertext 1 = {c1}\\nciphertext 2 = {c2}\\n\")\n",
    "print(f\"Product of m1 and m2 in ciphertext = {cipher_mult}\")\n",
    "print(f\"Decrypting the product of ciphertext {dec_cipher_mult}\")\n",
    "print(f\"Product of the plaintexts {m1m2}\")"
   ]
  },
  {
   "cell_type": "markdown",
   "metadata": {},
   "source": [
    "Wehey! the encription function defined in ElGamal cryptosystem is homomorphic with respect to the product modulo $p$.\n",
    "\n",
    "### RSA\n",
    "\n",
    "RSA cryptosystem defines a homomorphism on $(\\mathbb{Z}_p, \\cdot)$ \n",
    "\n",
    "$$Enc: (\\mathbb{Z}_N, \\cdot) \\rightarrow (\\mathbb{Z}_N, \\cdot)$$\n",
    "\n",
    "\n",
    "Again, this cryptosystem has been explained in another notebook (I remind you though that here $N$ is a public parameter product of two randomly chosen primes $p$ and $q$).\n",
    "\n",
    "We will test that:\n",
    "\n",
    "$$Dec(Enc(m_x)\\cdot Enc(m_y)) = m_x\\cdot m_y$$\n"
   ]
  },
  {
   "cell_type": "code",
   "execution_count": 10,
   "metadata": {},
   "outputs": [
    {
     "name": "stdout",
     "output_type": "stream",
     "text": [
      "RSA parameters:\n",
      "-Public:\n",
      "\tN=244989162561977907934275807015985604489\n",
      "\te=165922732068119469232623197434682897999\n",
      "\n",
      "-Private:\n",
      "\td=15677817482069909727012744543932415599\n",
      "Plaintext messages:\n",
      "m1=19942\n",
      "m2=59313\n",
      "\n"
     ]
    }
   ],
   "source": [
    "from crypto import RSAKeyGenerator, RSAEncrypt, RSADecrypt\n",
    "\n",
    "PublicKeyRSA, PrivateKeyRSA = RSAKeyGenerator(bits)\n",
    "\n",
    "N = PublicKeyRSA[0]\n",
    "e = PublicKeyRSA[1]\n",
    "d = PrivateKeyRSA[1]\n",
    "\n",
    "m1, m2 = randrange(2, 2**(bits//4)), randrange(2, 2**(bits//4))\n",
    "\n",
    "print(f\"RSA parameters:\\n-Public:\\n\\tN={N}\\n\\te={e}\")\n",
    "print(f\"\\n-Private:\\n\\td={d}\")\n",
    "print(f\"Plaintext messages:\\nm1={m1}\\nm2={m2}\\n\")"
   ]
  },
  {
   "cell_type": "code",
   "execution_count": 11,
   "metadata": {},
   "outputs": [
    {
     "name": "stdout",
     "output_type": "stream",
     "text": [
      "plaintext multiplication: 1182819846\n",
      "ciphertext multiplication and decryption: 1182819846\n"
     ]
    }
   ],
   "source": [
    "mult = m1*m2%N\n",
    "mult2 = RSADecrypt(RSAEncrypt(m1, PublicKeyRSA)*RSAEncrypt(m2, PublicKeyRSA)%N, PrivateKeyRSA)\n",
    "\n",
    "assert mult==mult2, \"something went wrong\"\n",
    "\n",
    "\n",
    "print(f\"plaintext multiplication: {mult}\")\n",
    "print(f\"ciphertext multiplication and decryption: {mult2}\")"
   ]
  },
  {
   "cell_type": "markdown",
   "metadata": {},
   "source": [
    "Up until now we have seen that RSA, ElGamal and Paillier encryption schemes are homomorphic with a certain operation. Furthermore this operation can be applied to all elements of the group (i.e. no matter what are the two oringinal messages as long as they belong to the initial group set). This properties defines what we know as **partial homomorphic encryption**.\n",
    "\n",
    "## Fully homomorphic encryption\n",
    "\n",
    "Ideally we would like to define encryption functions such that they do not only work in one operation (say sum or product) but with the two at the same time. This is what the community coins as fully **homomorphic encryption**. During many years there was a quest to find a fully homomorphic encryption scheme and finally [Craig Gentry](https://en.wikipedia.org/wiki/Craig_Gentry_(computer_scientist)) published his PhD thesis in 2009 with the first fully homomorphic encryption scheme based on [algebraic lattices](https://en.wikipedia.org/wiki/Lattice-based_cryptography)."
   ]
  },
  {
   "cell_type": "code",
   "execution_count": null,
   "metadata": {},
   "outputs": [],
   "source": [
    "# TODO: Explain lattices and learning with errors"
   ]
  }
 ],
 "metadata": {
  "kernelspec": {
   "display_name": "Python 3",
   "language": "python",
   "name": "python3"
  },
  "language_info": {
   "codemirror_mode": {
    "name": "ipython",
    "version": 3
   },
   "file_extension": ".py",
   "mimetype": "text/x-python",
   "name": "python",
   "nbconvert_exporter": "python",
   "pygments_lexer": "ipython3",
   "version": "3.6.7"
  }
 },
 "nbformat": 4,
 "nbformat_minor": 4
}
