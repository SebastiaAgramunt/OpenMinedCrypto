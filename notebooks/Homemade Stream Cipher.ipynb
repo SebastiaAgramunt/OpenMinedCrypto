{
 "cells": [
  {
   "cell_type": "markdown",
   "id": "sunrise-catholic",
   "metadata": {},
   "source": [
    "# A homemade stream cipher\n",
    "\n",
    "In this notebook we will use a pseudorandom generator to build our first homemade cipher\n",
    "\n",
    "## Encoding a message to bytes\n",
    "\n",
    "To code our first cipher based on a pseudorandom generator we need to understand a little bit better how information is encoded in python. For this, we coded several functions to help us."
   ]
  },
  {
   "cell_type": "code",
   "execution_count": 1,
   "id": "ethical-kruger",
   "metadata": {},
   "outputs": [
    {
     "name": "stdout",
     "output_type": "stream",
     "text": [
      "message:\n",
      "b'simple message'\n",
      "len bytes: 14\n",
      "\n",
      "message in binary:\n",
      "0111001101101001011011010111000001101100011001010010000001101101011001010111001101110011011000010110011101100101\n",
      "len bits: 112\n",
      "\n",
      "message in hexadecimal:\n",
      "73696d706c65206d657373616765\n",
      "len hex:28\n",
      "\n"
     ]
    }
   ],
   "source": [
    "from crypto import bytes_to_bin, bytes_to_hex\n",
    "\n",
    "message = b\"simple message\"\n",
    "\n",
    "bin_repr = bytes_to_bin(message, pre=\"\")\n",
    "hex_repr = bytes_to_hex(message, pre=\"\")\n",
    "\n",
    "print(f\"message:\\n{message}\\nlen bytes: {len(message)}\\n\")\n",
    "print(f\"message in binary:\\n{bin_repr}\\nlen bits: {len(bin_repr)}\\n\")\n",
    "print(f\"message in hexadecimal:\\n{hex_repr}\\nlen hex:{len(hex_repr)}\\n\")"
   ]
  },
  {
   "cell_type": "markdown",
   "id": "ecological-forum",
   "metadata": {},
   "source": [
    "## Stream Cipher\n",
    "\n",
    "In our first cipher we are going to pad our messeage with a pseudorandom \"stream\" of bytes. This kind of cipher is known as stream cipher.\n",
    "\n",
    "<img src=\"img/stream_cipher.png\" style=\"width:900px\"/>"
   ]
  },
  {
   "cell_type": "markdown",
   "id": "electrical-employer",
   "metadata": {},
   "source": [
    "## Padding bytes (XOR operation)\n",
    "\n",
    "We need to implement the XOR operation byte-wise, that is how we \"pad\" our message to convert it to its encrypted form."
   ]
  },
  {
   "cell_type": "code",
   "execution_count": 4,
   "id": "exposed-median",
   "metadata": {},
   "outputs": [
    {
     "name": "stdout",
     "output_type": "stream",
     "text": [
      "a: 195 (int), c3 (hex), 11000011 (bin)\n",
      "b: 191 (int), bf (hex), 10111111 (bin)\n",
      "x: 124 (int), 7c (hex), 01111100 (bin)\n",
      "\n",
      "11000011\n",
      "+\n",
      "10111111\n",
      "=\n",
      "01111100\n"
     ]
    }
   ],
   "source": [
    "from crypto import binary, hexadecimal\n",
    "import random\n",
    "\n",
    "a = random.randrange(256)\n",
    "b = random.randrange(256)\n",
    "\n",
    "print(f\"a: {a} (int), {hexadecimal(a, pre='')} (hex), {binary(a, pre='')} (bin)\")\n",
    "print(f\"b: {b} (int), {hexadecimal(b, pre='')} (hex), {binary(b, pre='')} (bin)\")\n",
    "\n",
    "xored = a ^ b\n",
    "print(f\"x: {xored} (int), {hexadecimal(xored, pre='')} (hex), {binary(xored, pre='')} (bin)\")\n",
    "\n",
    "print(f\"\\n{binary(a, pre='')}\\n+\\n{binary(b, pre='')}\\n=\\n{binary(xored, pre='')}\")"
   ]
  },
  {
   "cell_type": "markdown",
   "id": "federal-numbers",
   "metadata": {},
   "source": [
    "## Bytes random generator\n",
    "\n",
    "We need a pseudorandom genertor for bytes, let's code it!\n",
    "\n",
    "In Python we have the ```state``` variable to store the state of the pseudorandom generator in ```random``` package."
   ]
  },
  {
   "cell_type": "code",
   "execution_count": 24,
   "id": "tested-moment",
   "metadata": {},
   "outputs": [
    {
     "name": "stdout",
     "output_type": "stream",
     "text": [
      "[16, 219, 247, 7, 105, 236, 251, 142, 82, 17]\n",
      "[16, 219, 247, 7, 105, 236, 251, 142, 82, 17]\n"
     ]
    }
   ],
   "source": [
    "# in random python pacakge we have the \"state\" of the PRG\n",
    "random.seed(10)\n",
    "state = random.getstate()\n",
    "\n",
    "print([random.randrange(256) for _ in range(10)])\n",
    "\n",
    "random.setstate(state)\n",
    "print([random.randrange(256) for _ in range(10)])\n"
   ]
  },
  {
   "cell_type": "code",
   "execution_count": 25,
   "id": "small-doctrine",
   "metadata": {},
   "outputs": [],
   "source": [
    "def PseudoRandomBytes(state: tuple, l: int) -> (tuple, bytes):\n",
    "    \"\"\"\n",
    "    Generates a stream of pseudorandom bytes\n",
    "    Input:\n",
    "        - state: a state for the python random pacakge (random.getstate())\n",
    "        - l: length of the pseudorandom stream of bytes\n",
    "    Returns:\n",
    "        - state: the current state of the random\n",
    "        - bytestream: a bytes class of lenght l\n",
    "    \"\"\"\n",
    "    random.setstate(state)\n",
    "    prng = []\n",
    "    \n",
    "    while len(prng) < l:\n",
    "        prng.append(hexadecimal(random.randrange(256)))\n",
    "    \n",
    "    return random.getstate(), bytes([int(x, 0) for x in prng])"
   ]
  },
  {
   "cell_type": "code",
   "execution_count": 27,
   "id": "authorized-expert",
   "metadata": {},
   "outputs": [
    {
     "name": "stdout",
     "output_type": "stream",
     "text": [
      "b'\\xe1\\xc0\\x16\\x02xDc\\x9b\\xbbz\\xa0\\xe6\\xdf\\xf0!\\xa6Pr\\xd3z'\n"
     ]
    }
   ],
   "source": [
    "state = random.getstate()\n",
    "l = 20\n",
    "\n",
    "new_state, prng = PseudoRandomBytes(state, l)\n",
    "print(prng)"
   ]
  },
  {
   "cell_type": "markdown",
   "id": "physical-artwork",
   "metadata": {},
   "source": [
    "## A class for the parties, let's communicate securely!"
   ]
  },
  {
   "cell_type": "code",
   "execution_count": 30,
   "id": "manual-commodity",
   "metadata": {},
   "outputs": [],
   "source": [
    "class Party:\n",
    "    def __init__(self, state: tuple):\n",
    "        self._state = state\n",
    "        \n",
    "    def encrypt_decrypt(self, m: bytes) -> bytes:\n",
    "        new_state, random_bytes = PseudoRandomBytes(self._state, len(m))\n",
    "        self._state = new_state\n",
    "        \n",
    "        return bytes([a ^ b for a, b in zip(m, random_bytes)])"
   ]
  },
  {
   "cell_type": "code",
   "execution_count": 33,
   "id": "bound-marshall",
   "metadata": {},
   "outputs": [],
   "source": [
    "state = random.getstate()\n",
    "\n",
    "alice = Party(state)\n",
    "bob = Party(state)"
   ]
  },
  {
   "cell_type": "code",
   "execution_count": 34,
   "id": "terminal-swimming",
   "metadata": {},
   "outputs": [
    {
     "name": "stdout",
     "output_type": "stream",
     "text": [
      "message:\n",
      "\tb'Hi Bob. How are you doing?'\n",
      "\n",
      "ciphertext:\n",
      "\tb'\\xd2=y\\x18\\x9a\\xd3\\x89\\xfe:ma\\x89\\xc2\\x0eM\\xa6\\x9c\\xa0$\\xe7\\x99\\x14\\xe2\\x99\\x98\\x1f'\n",
      "\n",
      "recovered_message:\n",
      "\tb'Hi Bob. How are you doing?'\n",
      "\n"
     ]
    }
   ],
   "source": [
    "m = b\"Hi Bob. How are you doing?\"\n",
    "ctx = alice.encrypt_decrypt(m)\n",
    "m2 = bob.encrypt_decrypt(ctx)\n",
    "\n",
    "print(f\"message:\\n\\t{m}\\n\")\n",
    "print(f\"ciphertext:\\n\\t{ctx}\\n\")\n",
    "print(f\"recovered_message:\\n\\t{m2}\\n\")"
   ]
  },
  {
   "cell_type": "code",
   "execution_count": 35,
   "id": "federal-society",
   "metadata": {},
   "outputs": [
    {
     "name": "stdout",
     "output_type": "stream",
     "text": [
      "message:\n",
      "\tb\"I'm good, thank you!. How do you do?\"\n",
      "\n",
      "ciphertext:\n",
      "\tb'\\x1c\\xdd\\x81\\xed\"\\xb8\\xdd\\xa2\\xd6t\\x95Z\\xb5|j\\xc0Xv\\xc6\\x0ec\\x17\\xa0\\x970\\xca\\xbb\\x8b\\x8f\\xfd\\x85\\xad\\x88*\\x16\\x9a'\n",
      "\n",
      "recovered_message:\n",
      "\tb\"I'm good, thank you!. How do you do?\"\n",
      "\n"
     ]
    }
   ],
   "source": [
    "m = b\"I'm good, thank you!. How do you do?\"\n",
    "ctx = bob.encrypt_decrypt(m)\n",
    "m2 = alice.encrypt_decrypt(ctx)\n",
    "\n",
    "\n",
    "print(f\"message:\\n\\t{m}\\n\")\n",
    "print(f\"ciphertext:\\n\\t{ctx}\\n\")\n",
    "print(f\"recovered_message:\\n\\t{m2}\\n\")"
   ]
  },
  {
   "cell_type": "code",
   "execution_count": null,
   "id": "continued-bowling",
   "metadata": {},
   "outputs": [],
   "source": []
  },
  {
   "cell_type": "code",
   "execution_count": null,
   "id": "approximate-clarity",
   "metadata": {},
   "outputs": [],
   "source": []
  },
  {
   "cell_type": "code",
   "execution_count": null,
   "id": "distinguished-stations",
   "metadata": {},
   "outputs": [],
   "source": []
  },
  {
   "cell_type": "code",
   "execution_count": null,
   "id": "million-villa",
   "metadata": {},
   "outputs": [],
   "source": []
  },
  {
   "cell_type": "code",
   "execution_count": null,
   "id": "deadly-fruit",
   "metadata": {},
   "outputs": [],
   "source": []
  }
 ],
 "metadata": {
  "kernelspec": {
   "display_name": "Python 3",
   "language": "python",
   "name": "python3"
  },
  "language_info": {
   "codemirror_mode": {
    "name": "ipython",
    "version": 3
   },
   "file_extension": ".py",
   "mimetype": "text/x-python",
   "name": "python",
   "nbconvert_exporter": "python",
   "pygments_lexer": "ipython3",
   "version": "3.6.7"
  }
 },
 "nbformat": 4,
 "nbformat_minor": 5
}
