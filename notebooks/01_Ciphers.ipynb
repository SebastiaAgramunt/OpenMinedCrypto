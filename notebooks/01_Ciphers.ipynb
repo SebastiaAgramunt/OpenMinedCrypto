{
 "cells": [
  {
   "cell_type": "markdown",
   "metadata": {},
   "source": [
    "# Table of contents\n",
    "\n",
    "* [Ciphers](#Ciphers)\n",
    "    * [Shift Cipher](#shift-cipher)\n",
    "        * [Attack on shift ciper](#attack-shift-cipher)\n",
    "    * [Monoalphabetic Cipher](#monoalphabetic-cipher)\n",
    "    * [Vigenère Cipher](#vigenere-cipher)"
   ]
  },
  {
   "cell_type": "markdown",
   "metadata": {},
   "source": [
    "# Ciphers <a class=\"anchor\" id=\"first-bullet\"></a>\n",
    "\n",
    "In secure communication one tries to convert information into a coded form i.e. to **encode** information. Information can be encoded using what is known in cryptography as a **cipher** which is no less than al algorithm that allows us to encode and decode information. In the field of cryptography we name **encryption** to the process of encode information and **decryption** to the process of decoding it.\n",
    "\n",
    "Next we explore the most basic cipher working on text, this is, the Caesar's cipher or shift cipher\n",
    "\n",
    "\n",
    "## Shift Cipher <a class=\"anchor\" id=\"shift-cipher\"></a>\n",
    "\n",
    "One of the oldest known ciphers is the Shift cipher. In this cipher we encrypt the alphabet by shifting a certain number of places the letters of our message. Julius Caesar used the Shift cipher to communicate secretly with his military, but he used a fixed shift of three, this is why the Shift cipher with the specific shift of three is known as the Caesar's cipher but is nothing less that a particular case for the shift cipher.\n",
    "\n",
    "In the shift cipher the two interlocutors (the **sender** and the **receiver**) have to agree on a common **secret key**, this is, the shift or a number in between 0 and 26 (corresponding to the 26 letters in the english alphabet). They have to meet in person to agree on which secret key they are going to use so that they are sure nobody else knows the key.\n",
    "\n",
    "The shift cipher is a **substitution** cipher meaning that each character of our message is substituted by another character, let's see the substitution for the secret_key \"b\", i.e. a shift of 1\n",
    "\n",
    "\n",
    "| secret_key | letter shift | plaintext | ciphertext |\n",
    "|------------|--------------|-----------|------------|\n",
    "| b          | 1            | a         | b          |\n",
    "| b          | 1            | b         | c          |\n",
    "| b          | 1            | c         | d          |\n",
    "| ...        | ...          | ...       | ...        |\n",
    "| b          | 1            | y         | z          |\n",
    "| b          | 1            | z         | a          |\n",
    "\n",
    "The Caesar's cipher is the shift cipher with 3 shifts, i.e. secret key d.\n",
    "\n",
    "| secret_key | letter shift | plaintext | ciphertext |\n",
    "|------------|--------------|-----------|------------|\n",
    "| d          | 3            | a         | d          |\n",
    "| d          | 3            | b         | e          |\n",
    "| d          | 3            | c         | f          |\n",
    "| ...        | ...          | ...       | ...        |\n",
    "| d          | 3            | y         | b          |\n",
    "| d          | 3            | z         | c          |"
   ]
  },
  {
   "cell_type": "code",
   "execution_count": 1,
   "metadata": {},
   "outputs": [
    {
     "name": "stdout",
     "output_type": "stream",
     "text": [
      "These are ascii lowercase we will use for our messages:\n",
      "\tabcdefghijklmnopqrstuvwxyz\n"
     ]
    }
   ],
   "source": [
    "import string\n",
    "\n",
    "print(f\"These are ascii lowercase we will use for our messages:\\n\\t{string.ascii_lowercase}\")"
   ]
  },
  {
   "cell_type": "code",
   "execution_count": 2,
   "metadata": {},
   "outputs": [
    {
     "name": "stdout",
     "output_type": "stream",
     "text": [
      "Original characters are: \n",
      "\tabcdefghijklmnopqrstuvwxyz\n",
      "Caesar's equivalent are: \n",
      "\tdefghijklmnopqrstuvwxyzabc\n"
     ]
    }
   ],
   "source": [
    "# an algorithm to shift characters\n",
    "def shift_by(shift_letter: str, forward=True):\n",
    "    \n",
    "    assert len(shift_letter)==1, \"must be one letter to shift\"\n",
    "    assert shift_letter in string.ascii_lowercase, \"shift letter must be ascii lowercase\"\n",
    "    \n",
    "    letter_to_int = {c: i for i, c in enumerate(string.ascii_lowercase)}\n",
    "    shift_int = letter_to_int[shift_letter]\n",
    "    \n",
    "    n = len(string.ascii_lowercase)\n",
    "    \n",
    "    if forward:\n",
    "        return ''.join([string.ascii_lowercase[(i+shift_int)%n] for i in range(n)])\n",
    "    else:\n",
    "        return ''.join([string.ascii_lowercase[(i-shift_int)%n] for i in range(n)])\n",
    "\n",
    "secret_key = 'd'\n",
    "print(f\"Original characters are: \\n\\t{string.ascii_lowercase}\")\n",
    "print(f\"Caesar's equivalent are: \\n\\t{shift_by(secret_key)}\")"
   ]
  },
  {
   "cell_type": "markdown",
   "metadata": {},
   "source": [
    "As you can see, we substitute *a* by *d* (shifted 3 positions), *b* by *e* and so on wrapping around the alphabet.\n",
    "\n",
    "In cryptography, a message that is not encrypted is called a **plaintext** message whilst when it is encrypted is considered a **ciphertext** message. Let's code the encryption and decryption algorithm:"
   ]
  },
  {
   "cell_type": "code",
   "execution_count": 3,
   "metadata": {},
   "outputs": [],
   "source": [
    "def shift_encrypt(plaintext: str, secret_key: str) -> str:\n",
    "    characters = string.ascii_lowercase\n",
    "    shifted = shift_by(secret_key, forward=True)\n",
    "    \n",
    "    # a dictionary with the conversion\n",
    "    convert_dict = {p:c for p, c in zip(characters, shifted)}\n",
    "    convert_dict[' '] = ' '\n",
    "    \n",
    "    ciphertext = \"\".join([convert_dict[p] for p in plaintext])\n",
    "        \n",
    "    return ciphertext\n",
    "    \n",
    "    \n",
    "def shift_decrypt(ciphertext: str, secret_key: str) -> str:\n",
    "    characters = string.ascii_lowercase\n",
    "    shifted = shift_by(secret_key, forward=False)\n",
    "    \n",
    "    # a dictionary with the conversion\n",
    "    convert_dict = {p:c for p, c in zip(characters, shifted)}\n",
    "    convert_dict[' '] = ' '\n",
    "    \n",
    "    plaintext = \"\".join([convert_dict[p] for p in ciphertext])\n",
    "        \n",
    "    return plaintext"
   ]
  },
  {
   "cell_type": "code",
   "execution_count": 4,
   "metadata": {},
   "outputs": [
    {
     "data": {
      "text/plain": [
       "'hola'"
      ]
     },
     "execution_count": 4,
     "metadata": {},
     "output_type": "execute_result"
    }
   ],
   "source": [
    "shift_decrypt(shift_encrypt(\"hola\", \"c\"), \"c\")"
   ]
  },
  {
   "cell_type": "code",
   "execution_count": 5,
   "metadata": {},
   "outputs": [],
   "source": [
    "def shift_cipher(text: str, secret_key: str, encrypt: bool=True) -> str:\n",
    "    characters = string.ascii_lowercase\n",
    "    shifted = shift_by(secret_key, forward=encrypt)\n",
    "    \n",
    "    # a dictionary with the conversion\n",
    "    convert_dict = {p:c for p, c in zip(characters, shifted)}\n",
    "    convert_dict[' '] = ' '\n",
    "    \n",
    "    encoded_text = \"\".join([convert_dict[p] for p in text])\n",
    "        \n",
    "    return encoded_text"
   ]
  },
  {
   "cell_type": "code",
   "execution_count": 6,
   "metadata": {},
   "outputs": [
    {
     "data": {
      "text/plain": [
       "'hola'"
      ]
     },
     "execution_count": 6,
     "metadata": {},
     "output_type": "execute_result"
    }
   ],
   "source": [
    "shift_cipher(shift_cipher(\"hola\", \"c\", encrypt=True), \"c\", encrypt=False)"
   ]
  },
  {
   "cell_type": "markdown",
   "metadata": {},
   "source": [
    "We can now send a message with the Caesar's cipher (secret_key = 3)"
   ]
  },
  {
   "cell_type": "code",
   "execution_count": 7,
   "metadata": {},
   "outputs": [
    {
     "name": "stdout",
     "output_type": "stream",
     "text": [
      "Plaintext is: \n",
      "\tthis is a message\n",
      "Ciphertext is: \n",
      "\tvjku ku c oguucig\n"
     ]
    }
   ],
   "source": [
    "# specific Caesar's cipher secret_key\n",
    "secret_key = \"c\"\n",
    "message = \"this is a message\"\n",
    "encrypted_message = shift_cipher(message, secret_key)\n",
    "\n",
    "print(f\"Plaintext is: \\n\\t{message}\")\n",
    "print(f\"Ciphertext is: \\n\\t{encrypted_message}\")"
   ]
  },
  {
   "cell_type": "markdown",
   "metadata": {},
   "source": [
    "The message is now unreadeable for anybody that doesn't know the key!. Let's decrypt it with the key"
   ]
  },
  {
   "cell_type": "code",
   "execution_count": 8,
   "metadata": {},
   "outputs": [
    {
     "name": "stdout",
     "output_type": "stream",
     "text": [
      "Original message is: \n",
      "\tthis is a message\n",
      "Ciphertext is: \n",
      "\tvjku ku c oguucig\n",
      "Decrypted message is: \n",
      "\tthis is a message\n"
     ]
    }
   ],
   "source": [
    "decrypted_message = shift_cipher(encrypted_message, secret_key, encrypt=False)\n",
    "\n",
    "print(f\"Original message is: \\n\\t{message}\")\n",
    "print(f\"Ciphertext is: \\n\\t{encrypted_message}\")\n",
    "print(f\"Decrypted message is: \\n\\t{decrypted_message}\")"
   ]
  },
  {
   "cell_type": "markdown",
   "metadata": {},
   "source": [
    "And we recover back the original message!."
   ]
  },
  {
   "cell_type": "markdown",
   "metadata": {},
   "source": [
    "## Attack on shift cipher <a class=\"anchor\" id=\"attack-shift-cipher\"></a>\n",
    "\n",
    "The secret key in the shift cipher can go from 0 to 26 (the number of letters in the english alphabet). Can an eavesdropper break the ciphertext?. A simple attack can be checking all the possible keys over the intercepted ciphertext:"
   ]
  },
  {
   "cell_type": "code",
   "execution_count": 9,
   "metadata": {},
   "outputs": [
    {
     "name": "stdout",
     "output_type": "stream",
     "text": [
      "Message: \n",
      "\tthis is a message\n",
      "Secret key: \n",
      "\th\n",
      "Ciphertext: \n",
      "\taopz pz h tlzzhnl\n",
      "\n",
      "\n",
      "Decrypted message for key a: \n",
      "\taopz pz h tlzzhnl\n",
      "Decrypted message for key b: \n",
      "\tznoy oy g skyygmk\n",
      "Decrypted message for key c: \n",
      "\tymnx nx f rjxxflj\n",
      "Decrypted message for key d: \n",
      "\txlmw mw e qiwweki\n",
      "Decrypted message for key e: \n",
      "\twklv lv d phvvdjh\n",
      "Decrypted message for key f: \n",
      "\tvjku ku c oguucig\n",
      "Decrypted message for key g: \n",
      "\tuijt jt b nfttbhf\n",
      "Decrypted message for key h: \n",
      "\tthis is a message\n",
      "Decrypted message for key i: \n",
      "\tsghr hr z ldrrzfd\n",
      "Decrypted message for key j: \n",
      "\trfgq gq y kcqqyec\n",
      "Decrypted message for key k: \n",
      "\tqefp fp x jbppxdb\n",
      "Decrypted message for key l: \n",
      "\tpdeo eo w iaoowca\n",
      "Decrypted message for key m: \n",
      "\tocdn dn v hznnvbz\n",
      "Decrypted message for key n: \n",
      "\tnbcm cm u gymmuay\n",
      "Decrypted message for key o: \n",
      "\tmabl bl t fxlltzx\n",
      "Decrypted message for key p: \n",
      "\tlzak ak s ewkksyw\n",
      "Decrypted message for key q: \n",
      "\tkyzj zj r dvjjrxv\n",
      "Decrypted message for key r: \n",
      "\tjxyi yi q cuiiqwu\n",
      "Decrypted message for key s: \n",
      "\tiwxh xh p bthhpvt\n",
      "Decrypted message for key t: \n",
      "\thvwg wg o asggous\n",
      "Decrypted message for key u: \n",
      "\tguvf vf n zrffntr\n",
      "Decrypted message for key v: \n",
      "\tftue ue m yqeemsq\n",
      "Decrypted message for key w: \n",
      "\testd td l xpddlrp\n",
      "Decrypted message for key x: \n",
      "\tdrsc sc k wocckqo\n",
      "Decrypted message for key y: \n",
      "\tcqrb rb j vnbbjpn\n",
      "Decrypted message for key z: \n",
      "\tbpqa qa i umaaiom\n"
     ]
    }
   ],
   "source": [
    "from random import randrange, seed\n",
    "\n",
    "seed(4)\n",
    "\n",
    "secret_key = string.ascii_lowercase[randrange(len(string.ascii_lowercase))]\n",
    "message = \"this is a message\"\n",
    "encrypted_message = shift_cipher(message, secret_key)\n",
    "\n",
    "print(f\"Message: \\n\\t{message}\")\n",
    "print(f\"Secret key: \\n\\t{secret_key}\")\n",
    "print(f\"Ciphertext: \\n\\t{encrypted_message}\\n\\n\")\n",
    "\n",
    "for possible_key in string.ascii_lowercase:\n",
    "    decrypted_message = shift_cipher(encrypted_message, possible_key, encrypt=False)\n",
    "    print(f\"Decrypted message for key {possible_key}: \\n\\t{decrypted_message}\")"
   ]
  },
  {
   "cell_type": "markdown",
   "metadata": {},
   "source": [
    "## Mono Alphabetic cipher <a class=\"anchor\" id=\"monoalphabetic-cipher\"></a>\n",
    "\n",
    "We've seen that the shift cipher is easy to break as the number of possible keys was just 26. A better approach would be to simply substitute each letter of the alphabet by another random letter. This way we would have 26! different permutations (that is a number of the order of $10^{26}$). Here we cannot do exhaustive search, it would take so long for our computer. A secret key could be for instance \"bdeoinmkclxuqzytpwvjgafrsh\", where the ciphertext for \"a\" is \"b\", the ciphertext for \"b\" is \"d\" and so on.\n",
    "\n",
    "Let's code the random key generator"
   ]
  },
  {
   "cell_type": "code",
   "execution_count": 10,
   "metadata": {},
   "outputs": [
    {
     "name": "stdout",
     "output_type": "stream",
     "text": [
      "Plaintext characters are: \n",
      "\tabcdefghijklmnopqrstuvwxyz\n",
      "Equivalent in one random mono-alphabetic order: \n",
      "\tetckfuswqjgnaopybxmvhzdlir\n"
     ]
    }
   ],
   "source": [
    "from copy import deepcopy\n",
    "\n",
    "seed(1)\n",
    "\n",
    "def mono_key_generator():\n",
    "    chars = list(deepcopy(string.ascii_lowercase))\n",
    "    chars_permutation = []\n",
    "    \n",
    "    while len(chars)>0:\n",
    "        letter = chars.pop(randrange(len(chars)))\n",
    "        chars_permutation.append(letter)\n",
    "    return ''.join(chars_permutation)\n",
    "    \n",
    "print(\"Plaintext characters are: \\n\\t{}\".format(string.ascii_lowercase))\n",
    "print(\"Equivalent in one random mono-alphabetic order: \\n\\t{}\".format(mono_key_generator()))"
   ]
  },
  {
   "cell_type": "markdown",
   "metadata": {},
   "source": [
    "Now they key is a 26 character string, in this case \"etckfuswqjgnaopybxmvhzdlir\". This is difficult very to guess!. In the first exercice you'll learn how to break this code, at least, partially. Let's code the encryption/decryption algorithms"
   ]
  },
  {
   "cell_type": "code",
   "execution_count": 11,
   "metadata": {},
   "outputs": [],
   "source": [
    "def mono_encrypt_decrypt(text: str, secret_key: str, encrypt: bool=True) -> str:\n",
    "    assert len(secret_key)==len(string.ascii_lowercase), \"secret key must be all ascii lowercase, 26 letters\"\n",
    "    \n",
    "    if encrypt:\n",
    "        convert_dict = {p:c for p, c in zip(string.ascii_lowercase, secret_key)}\n",
    "    else:\n",
    "        convert_dict = {p:c for p, c in zip(secret_key, string.ascii_lowercase)}\n",
    "    convert_dict[' '] = ' '\n",
    "    \n",
    "    encoded_text = \"\".join([convert_dict[p] for p in text])\n",
    "\n",
    "    return encoded_text\n",
    "    "
   ]
  },
  {
   "cell_type": "code",
   "execution_count": 12,
   "metadata": {},
   "outputs": [
    {
     "name": "stdout",
     "output_type": "stream",
     "text": [
      "THE SECRET KEY: \n",
      "avsboircylxmpgkhjwqdtzefun\n",
      "\n",
      "THE SENTENCE:\n",
      "criptography is a cool subject\n",
      "\n",
      "CIPHERTEXT:\n",
      "swyhdkrwahcu yq a skkm qtvlosd\n",
      "\n",
      "PLAINTEXT:\n",
      "criptography is a cool subject\n"
     ]
    }
   ],
   "source": [
    "# generate a random secret key for mono alphabetic\n",
    "secret_key = mono_key_generator()\n",
    "\n",
    "# sentence to encrypt and ciphertext\n",
    "sentence = 'criptography is a cool subject'\n",
    "ciphertext = mono_encrypt_decrypt(sentence, secret_key)\n",
    "plaintext = mono_encrypt_decrypt(ciphertext, secret_key, encrypt=False)\n",
    "\n",
    "print(f\"THE SECRET KEY: \\n{secret_key}\\n\\nTHE SENTENCE:\\n{sentence}\\n\\nCIPHERTEXT:\\n{ciphertext}\\n\\nPLAINTEXT:\\n{plaintext}\")"
   ]
  },
  {
   "cell_type": "markdown",
   "metadata": {},
   "source": [
    "## Vigenère Cipher <a class=\"anchor\" id=\"vigenere-cipher\"></a>\n",
    "\n",
    "Let's go for an even more difficult cipher to crack, the Vigenère cipher.\n",
    "\n",
    "The first difficulty of the Vigenere cipher is that the lenght of the key is arbitrary and indicates the permutation of the text. In the following table a simple example is shown: \n",
    "\n",
    "\n",
    "|  Variable  |      Value      |\n",
    "|:----------:|:---------------:|\n",
    "| Plaintext  | ddddddddddddddd |\n",
    "| Key        | abc             |\n",
    "| Ciphertext | defdefdefdefdef |\n",
    "\n",
    "Here our plaintext is $ddddddddddddddd$ and we encrypt it using the key $abc$ of lenght 3. It is easy to see how it works. The first letter of the plaintext is shifted $a$ (shift of 0), the second shifted $b$ (shift of 1 position) and the third one by $c$ (shift of 3 positions). Therefore $$ d \\rightarrow d $$ $$ d \\rightarrow e $$ $$ d \\rightarrow f $$ \n",
    "\n",
    "Another more difficult example is the following:\n",
    "\n",
    "|  Variable  |            Value            |\n",
    "|:----------:|:---------------------------:|\n",
    "| Plaintext  | criptographyisacoolsubject  |\n",
    "| Key        | esz                         |\n",
    "| Ciphertext | gjhtlnkjztzxmkzggnpktfbdgl  |\n",
    "\n",
    "We've chosen as key a random chain of size 3, this is $esz$. Again, $c$ is shifted $e$ (4 positions), $r$ shifted $j$ (9 positions) and $i$ shifted by $h$ (7 positions). Then, the next character $p$ is shifted by the first letter of the key $e$, this results $t$.\n",
    "\n",
    "Let's code the Vigenere cipher, first the random key generator\n"
   ]
  },
  {
   "cell_type": "code",
   "execution_count": 13,
   "metadata": {},
   "outputs": [],
   "source": [
    "def vigenere_key_generator(secret_key_size: int):\n",
    "    \"\"\"Generates a key of fixed lenght\n",
    "    \"\"\"\n",
    "    n = len(string.ascii_lowercase)\n",
    "    secret_key = ''\n",
    "    while len(secret_key) < secret_key_size:\n",
    "        secret_key += string.ascii_lowercase[randrange(n)]\n",
    "    \n",
    "    return secret_key"
   ]
  },
  {
   "cell_type": "markdown",
   "metadata": {},
   "source": [
    "We need a helper function to shift the letter by a certain character"
   ]
  },
  {
   "cell_type": "code",
   "execution_count": 14,
   "metadata": {},
   "outputs": [],
   "source": [
    "def shift_letter(letter: str, shiftby: str, forward=True):\n",
    "    \"\"\"Shift a letter a certain ammount of spaces\n",
    "    letter: an element from string.ascii_lowercase\n",
    "    shiftby: a letter from string.asccii_lowercase indicating th ammount of shift\n",
    "    \"\"\"\n",
    "    n = len(string.ascii_lowercase)\n",
    "    char_to_num = {c:i for i, c in enumerate(string.ascii_lowercase)}\n",
    "\n",
    "    if letter == ' ':\n",
    "        return letter\n",
    "    \n",
    "    shift = char_to_num[shiftby]\n",
    "    i = char_to_num[letter]\n",
    "    \n",
    "    if forward:\n",
    "        return string.ascii_lowercase[(i + shift)%n]\n",
    "    else:\n",
    "        return string.ascii_lowercase[(i - shift)%n]"
   ]
  },
  {
   "cell_type": "markdown",
   "metadata": {},
   "source": [
    "And finally we an write the Vingenere function for encryption and decryption"
   ]
  },
  {
   "cell_type": "code",
   "execution_count": 15,
   "metadata": {},
   "outputs": [],
   "source": [
    "def vigenere_encrypt_decrypt(message, secret_key, encrypt:bool = True):\n",
    "    key_len = len(secret_key)\n",
    "    \n",
    "    encoded = ''\n",
    "    for i, letter in enumerate(message):\n",
    "        c = shift_letter(letter, secret_key[i%key_len],forward=encrypt)\n",
    "        encoded += c\n",
    "        \n",
    "    return encoded"
   ]
  },
  {
   "cell_type": "code",
   "execution_count": 16,
   "metadata": {},
   "outputs": [
    {
     "name": "stdout",
     "output_type": "stream",
     "text": [
      "THE SECRET KEY: \n",
      "xkxwq\n",
      "\n",
      "THE SENTENCE:\n",
      "criptography is a coolsubject\n",
      "\n",
      "CIPHERTEXT:\n",
      "zbfljlqowfei ei k yelvpqrgozp\n",
      "\n",
      "PLAINTEXT:\n",
      "criptography is a coolsubject\n"
     ]
    }
   ],
   "source": [
    "# generate key\n",
    "secret_key_size = 5\n",
    "secret_key = vigenere_key_generator(secret_key_size)\n",
    "\n",
    "# encrypt a text\n",
    "sentence = 'criptography is a coolsubject'\n",
    "ciphertext = vigenere_encrypt_decrypt(sentence, secret_key, encrypt=True)\n",
    "plaintext = vigenere_encrypt_decrypt(ciphertext, secret_key, encrypt=False)\n",
    "\n",
    "print(f\"THE SECRET KEY: \\n{secret_key}\\n\\nTHE SENTENCE:\\n{sentence}\\n\\nCIPHERTEXT:\\n{ciphertext}\\n\\nPLAINTEXT:\\n{plaintext}\")"
   ]
  },
  {
   "cell_type": "code",
   "execution_count": null,
   "metadata": {},
   "outputs": [],
   "source": []
  },
  {
   "cell_type": "code",
   "execution_count": null,
   "metadata": {},
   "outputs": [],
   "source": []
  },
  {
   "cell_type": "code",
   "execution_count": null,
   "metadata": {},
   "outputs": [],
   "source": []
  },
  {
   "cell_type": "code",
   "execution_count": null,
   "metadata": {},
   "outputs": [],
   "source": []
  },
  {
   "cell_type": "code",
   "execution_count": null,
   "metadata": {},
   "outputs": [],
   "source": []
  },
  {
   "cell_type": "code",
   "execution_count": null,
   "metadata": {},
   "outputs": [],
   "source": []
  },
  {
   "cell_type": "code",
   "execution_count": null,
   "metadata": {},
   "outputs": [],
   "source": []
  }
 ],
 "metadata": {
  "kernelspec": {
   "display_name": "Python 3",
   "language": "python",
   "name": "python3"
  },
  "language_info": {
   "codemirror_mode": {
    "name": "ipython",
    "version": 3
   },
   "file_extension": ".py",
   "mimetype": "text/x-python",
   "name": "python",
   "nbconvert_exporter": "python",
   "pygments_lexer": "ipython3",
   "version": "3.6.7"
  }
 },
 "nbformat": 4,
 "nbformat_minor": 4
}
