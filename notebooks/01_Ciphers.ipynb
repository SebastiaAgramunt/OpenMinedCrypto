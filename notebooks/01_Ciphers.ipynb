{
 "cells": [
  {
   "cell_type": "markdown",
   "metadata": {},
   "source": [
    "# Table of contents\n",
    "\n",
    "* [Ciphers](#Ciphers)\n",
    "    * [Shift Cipher](#shift-cipher)\n",
    "        * [Attack on shift ciper](#attack-shift-cipher)\n",
    "    * [Monoalphabetic Cipher](#monoalphabetic-cipher)\n",
    "    * [Vigenère Cipher](#vigenere-cipher)"
   ]
  },
  {
   "cell_type": "markdown",
   "metadata": {},
   "source": [
    "# Ciphers <a class=\"anchor\" id=\"first-bullet\"></a>\n",
    "\n",
    "In secure communication one tries to convert information into a coded form i.e. to **encode** information. Information can be encoded using what is known in cryptography as a **cipher** which is no less than al algorithm that allows us to encode and decode information. In the field of cryptography we name **encryption** to the process of encode information and **decryption** to the process of decoding it.\n",
    "\n",
    "Next we explore the most basic cipher working on text, this is, the Caesar's cipher or shift cipher\n",
    "\n",
    "\n",
    "## Shift Cipher <a class=\"anchor\" id=\"shift-cipher\"></a>\n",
    "\n",
    "One of the oldest known ciphers is the Shift cipher. In this cipher we encrypt the alphabet by shifting a certain number of places the letters of our message. Julius Caesar used the Shift cipher to communicate secretly with his military, but he used a fixed shift of three, this is why the Shift cipher with the specific shift of three is known as the Caesar's cipher but is nothing less that a particular case for the shift cipher.\n",
    "\n",
    "In the shift cipher the two interlocutors (the **sender** and the **receiver**) have to agree on a common **secret key**, this is, the shift or a number in between 0 and 26 (corresponding to the 26 letters in the english alphabet). They have to meet in person to agree on which secret key they are going to use so that they are sure nobody else knows the key.\n",
    "\n",
    "The shift cipher is a **substitution** cipher meaning that each character of our message is substituted by another character, let's see the substitution for the Caesar's cipher"
   ]
  },
  {
   "cell_type": "code",
   "execution_count": 1,
   "metadata": {},
   "outputs": [
    {
     "name": "stdout",
     "output_type": "stream",
     "text": [
      "Original characters are: \n",
      "\tabcdefghijklmnopqrstuvwxyz\n",
      "Caesar's equivalent are: \n",
      "\tdefghijklmnopqrstuvwxyzabc\n"
     ]
    }
   ],
   "source": [
    "import string\n",
    "\n",
    "characters = string.ascii_lowercase\n",
    "\n",
    "# an algorithm to shift characters\n",
    "def shift_by(characters, secret_key):\n",
    "    listed_chars = list(characters)\n",
    "    len_characters = len(characters)\n",
    "    return ''.join([characters[(i + secret_key)%len_characters] for i in range(len_characters)])\n",
    "\n",
    "shift_key = 3\n",
    "print(\"Original characters are: \\n\\t{}\".format(characters))\n",
    "print(\"Caesar's equivalent are: \\n\\t{}\".format(shift_by(characters, shift_key)))"
   ]
  },
  {
   "cell_type": "markdown",
   "metadata": {},
   "source": [
    "As you can see, we substitute *a* by *d* (shifted 3 positions), *b* by *e* and so on wrapping around the alphabet.\n",
    "\n",
    "In cryptography, a message that is not encrypted is called a **plaintext** message whilst when it is encrypted is considered a **ciphertext** message. Let's code the encryption and decryption algorithm:"
   ]
  },
  {
   "cell_type": "code",
   "execution_count": 2,
   "metadata": {},
   "outputs": [],
   "source": [
    "def shift_encrypt(plaintext, characters, secret_key):\n",
    "    shifted = shift_by(characters, secret_key)\n",
    "    \n",
    "    # a dictionary with the conversion\n",
    "    convert_dict = {}\n",
    "    for p, c in zip(characters, shifted):\n",
    "        convert_dict[p] = c \n",
    "    # space is converted to a space\n",
    "    convert_dict[' '] = ' '\n",
    "    \n",
    "    c = ''\n",
    "    for p in plaintext:\n",
    "        c += convert_dict[p]\n",
    "        \n",
    "    return c\n",
    "    \n",
    "    \n",
    "def shift_decrypt(ciphertext, characters, secret_key):\n",
    "    shifted = shift_by(characters, secret_key)\n",
    "    \n",
    "    convert_dict = {}\n",
    "    for p, c in zip(characters, shifted):\n",
    "        convert_dict[c] = p\n",
    "    convert_dict[' '] = ' '\n",
    "    \n",
    "    p = ''\n",
    "    for c in ciphertext:\n",
    "        p += convert_dict[c]\n",
    "\n",
    "    return p"
   ]
  },
  {
   "cell_type": "markdown",
   "metadata": {},
   "source": [
    "We can now send a message with the Caesar's cipher (secret_key = 3)"
   ]
  },
  {
   "cell_type": "code",
   "execution_count": 3,
   "metadata": {},
   "outputs": [
    {
     "name": "stdout",
     "output_type": "stream",
     "text": [
      "Plaintext is: \n",
      "\tthis is a message\n",
      "Ciphertext is: \n",
      "\twklv lv d phvvdjh\n"
     ]
    }
   ],
   "source": [
    "# specific Caesar's cipher secret_key\n",
    "secret_key = 3\n",
    "message = \"this is a message\"\n",
    "encrypted_message = shift_encrypt(message, characters, secret_key)\n",
    "\n",
    "print(f\"Plaintext is: \\n\\t{message}\")\n",
    "print(f\"Ciphertext is: \\n\\t{encrypted_message}\")"
   ]
  },
  {
   "cell_type": "markdown",
   "metadata": {},
   "source": [
    "The message is now unreadeable for anybody that doesn't know the key!. Let's decrypt it with the key"
   ]
  },
  {
   "cell_type": "code",
   "execution_count": 4,
   "metadata": {},
   "outputs": [
    {
     "name": "stdout",
     "output_type": "stream",
     "text": [
      "Original message is: \n",
      "\tthis is a message\n",
      "Ciphertext is: \n",
      "\twklv lv d phvvdjh\n",
      "Decrypted message is: \n",
      "\tthis is a message\n"
     ]
    }
   ],
   "source": [
    "decrypted_message = shift_decrypt(encrypted_message, characters, secret_key)\n",
    "\n",
    "print(f\"Original message is: \\n\\t{message}\")\n",
    "print(f\"Ciphertext is: \\n\\t{encrypted_message}\")\n",
    "print(f\"Decrypted message is: \\n\\t{decrypted_message}\")"
   ]
  },
  {
   "cell_type": "markdown",
   "metadata": {},
   "source": [
    "And we recover back the original message!."
   ]
  },
  {
   "cell_type": "markdown",
   "metadata": {},
   "source": [
    "## Attack on shift cipher <a class=\"anchor\" id=\"attack-shift-cipher\"></a>\n",
    "\n",
    "The secret key in the shift cipher can go from 0 to 26 (the number of letters in the english alphabet). Can an eavesdropper break the ciphertext?. A simple attack can be checking all the possible keys over the intercepted ciphertext:"
   ]
  },
  {
   "cell_type": "code",
   "execution_count": 5,
   "metadata": {},
   "outputs": [
    {
     "name": "stdout",
     "output_type": "stream",
     "text": [
      "Message: \n",
      "\tthis is a message\n",
      "Secret key: \n",
      "\t7\n",
      "Ciphertext: \n",
      "\taopz pz h tlzzhnl\n",
      "\n",
      "\n",
      "Decrypted message for key 0: \n",
      "\taopz pz h tlzzhnl\n",
      "Decrypted message for key 1: \n",
      "\tznoy oy g skyygmk\n",
      "Decrypted message for key 2: \n",
      "\tymnx nx f rjxxflj\n",
      "Decrypted message for key 3: \n",
      "\txlmw mw e qiwweki\n",
      "Decrypted message for key 4: \n",
      "\twklv lv d phvvdjh\n",
      "Decrypted message for key 5: \n",
      "\tvjku ku c oguucig\n",
      "Decrypted message for key 6: \n",
      "\tuijt jt b nfttbhf\n",
      "Decrypted message for key 7: \n",
      "\tthis is a message\n",
      "Decrypted message for key 8: \n",
      "\tsghr hr z ldrrzfd\n",
      "Decrypted message for key 9: \n",
      "\trfgq gq y kcqqyec\n",
      "Decrypted message for key 10: \n",
      "\tqefp fp x jbppxdb\n",
      "Decrypted message for key 11: \n",
      "\tpdeo eo w iaoowca\n",
      "Decrypted message for key 12: \n",
      "\tocdn dn v hznnvbz\n",
      "Decrypted message for key 13: \n",
      "\tnbcm cm u gymmuay\n",
      "Decrypted message for key 14: \n",
      "\tmabl bl t fxlltzx\n",
      "Decrypted message for key 15: \n",
      "\tlzak ak s ewkksyw\n",
      "Decrypted message for key 16: \n",
      "\tkyzj zj r dvjjrxv\n",
      "Decrypted message for key 17: \n",
      "\tjxyi yi q cuiiqwu\n",
      "Decrypted message for key 18: \n",
      "\tiwxh xh p bthhpvt\n",
      "Decrypted message for key 19: \n",
      "\thvwg wg o asggous\n",
      "Decrypted message for key 20: \n",
      "\tguvf vf n zrffntr\n",
      "Decrypted message for key 21: \n",
      "\tftue ue m yqeemsq\n",
      "Decrypted message for key 22: \n",
      "\testd td l xpddlrp\n",
      "Decrypted message for key 23: \n",
      "\tdrsc sc k wocckqo\n",
      "Decrypted message for key 24: \n",
      "\tcqrb rb j vnbbjpn\n",
      "Decrypted message for key 25: \n",
      "\tbpqa qa i umaaiom\n"
     ]
    }
   ],
   "source": [
    "from random import randrange, seed\n",
    "\n",
    "seed(4)\n",
    "\n",
    "secret_key = randrange(len(characters))\n",
    "message = \"this is a message\"\n",
    "encrypted_message = shift_encrypt(message, characters, secret_key)\n",
    "\n",
    "print(f\"Message: \\n\\t{message}\")\n",
    "print(f\"Secret key: \\n\\t{secret_key}\")\n",
    "print(f\"Ciphertext: \\n\\t{encrypted_message}\\n\\n\")\n",
    "\n",
    "for possible_key in range(len(characters)):\n",
    "    decrypted_message = shift_decrypt(encrypted_message, characters, possible_key)\n",
    "    print(f\"Decrypted message for key {possible_key}: \\n\\t{decrypted_message}\")"
   ]
  },
  {
   "cell_type": "markdown",
   "metadata": {},
   "source": [
    "## Mono Alphabetic cipher <a class=\"anchor\" id=\"monoalphabetic-cipher\"></a>\n",
    "\n",
    "We've seen that the shift cipher is easy to break as the number of possible keys was just 26. A better approach would be to simply substitute each letter of the alphabet by another random letter. This way we would have 26! different permutations (that is a number of the order of $10^{26}$). Here we cannot do exhaustive search, it would take so long for our computer. A secret key could be for instance \"bdeoinmkclxuqzytpwvjgafrsh\", where the ciphertext for \"a\" is \"b\", the ciphertext for \"b\" is \"d\" and so on.\n",
    "\n",
    "Let's code the random key generator"
   ]
  },
  {
   "cell_type": "code",
   "execution_count": 6,
   "metadata": {},
   "outputs": [
    {
     "name": "stdout",
     "output_type": "stream",
     "text": [
      "Plaintext characters are: \n",
      "\tabcdefghijklmnopqrstuvwxyz\n",
      "Equivalent in one random mono-alphabetic order: \n",
      "\tetckfuswqjgnaopybxmvhzdlir\n"
     ]
    }
   ],
   "source": [
    "from copy import deepcopy\n",
    "\n",
    "seed(1)\n",
    "\n",
    "def MonoKeyGenerator(characters):\n",
    "    old_chars = list(deepcopy(characters))\n",
    "    permut_ = []\n",
    "    \n",
    "    while len(old_chars)>0:\n",
    "        elem = old_chars.pop(randrange(len(old_chars)))\n",
    "        permut_.append(elem)\n",
    "    return ''.join(permut_)\n",
    "    \n",
    "print(\"Plaintext characters are: \\n\\t{}\".format(characters))\n",
    "print(\"Equivalent in one random mono-alphabetic order: \\n\\t{}\".format(MonoKeyGenerator(characters)))"
   ]
  },
  {
   "cell_type": "markdown",
   "metadata": {},
   "source": [
    "Now they key is a 26 character string, in this case \"etckfuswqjgnaopybxmvhzdlir\". This is difficult very to guess!. In the first exercice you'll learn how to break this code, at least, partially. Let's code the encryption/decryption algorithms"
   ]
  },
  {
   "cell_type": "code",
   "execution_count": 7,
   "metadata": {},
   "outputs": [],
   "source": [
    "def MonoEncrypt(plaintext, characters, secret_key):\n",
    "    convert_dict = {}\n",
    "    for p, c in zip(characters, secret_key):\n",
    "        convert_dict[p] = c    \n",
    "    convert_dict[' '] = ' '\n",
    "    \n",
    "    c = ''\n",
    "    for p in plaintext:\n",
    "        c += convert_dict[p]\n",
    "        \n",
    "    return c\n",
    "\n",
    "\n",
    "def MonoDecrypt(ciphertext, characters, secret_key):\n",
    "    convert_dict = {}\n",
    "    for p, c in zip(characters, secret_key):\n",
    "        convert_dict[c] = p    \n",
    "    convert_dict[' '] = ' '\n",
    "    \n",
    "    c = ''\n",
    "    for p in  ciphertext:\n",
    "        c += convert_dict[p]\n",
    "        \n",
    "    return c"
   ]
  },
  {
   "cell_type": "code",
   "execution_count": 8,
   "metadata": {},
   "outputs": [
    {
     "name": "stdout",
     "output_type": "stream",
     "text": [
      "THE SECRET KEY: \n",
      "avsboircylxmpgkhjwqdtzefun\n",
      "\n",
      "THE SENTENCE:\n",
      "criptographyisacoolsubject\n",
      "\n",
      "CIPHERTEXT:\n",
      "swyhdkrwahcuyqaskkmqtvlosd\n",
      "\n",
      "PLAINTEXT:\n",
      "criptographyisacoolsubject\n"
     ]
    }
   ],
   "source": [
    "# generate a random secret key for mono alphabetic\n",
    "secret_key = MonoKeyGenerator(characters)\n",
    "\n",
    "# sentence to encrypt and ciphertext\n",
    "sentence = 'criptographyisacoolsubject'\n",
    "ciphertext = MonoEncrypt(sentence, characters, secret_key)\n",
    "plaintext = MonoDecrypt(ciphertext, characters, secret_key)\n",
    "\n",
    "print(f\"THE SECRET KEY: \\n{secret_key}\\n\\nTHE SENTENCE:\\n{sentence}\\n\\nCIPHERTEXT:\\n{ciphertext}\\n\\nPLAINTEXT:\\n{plaintext}\")"
   ]
  },
  {
   "cell_type": "markdown",
   "metadata": {},
   "source": [
    "## Vigenère Cipher <a class=\"anchor\" id=\"vigenere-cipher\"></a>\n",
    "\n",
    "Let's go for an even more difficult cipher to crack, the Vigenère cipher.\n",
    "\n",
    "The first difficulty of the Vigenere cipher is that the lenght of the key is arbitrary and indicates the permutation of the text. In the following table a simple example is shown: \n",
    "\n",
    "\n",
    "|  Variable  |      Value      |\n",
    "|:----------:|:---------------:|\n",
    "| Plaintext  | ddddddddddddddd |\n",
    "| Key        | abc             |\n",
    "| Ciphertext | defdefdefdefdef |\n",
    "\n",
    "Here our plaintext is $ddddddddddddddd$ and we encrypt it using the key $abc$ of lenght 3. It is easy to see how it works. The first letter of the plaintext is shifted $a$ (shift of 0), the second shifted $b$ (shift of 1 position) and the third one by $c$ (shift of 3 positions). Therefore $$ d \\rightarrow d $$ $$ d \\rightarrow e $$ $$ d \\rightarrow f $$ \n",
    "\n",
    "Another more difficult example is the following:\n",
    "\n",
    "|  Variable  |            Value            |\n",
    "|:----------:|:---------------------------:|\n",
    "| Plaintext  | criptographyisacoolsubject  |\n",
    "| Key        | esz                         |\n",
    "| Ciphertext | gjhtlnkjztzxmkzggnpktfbdgl  |\n",
    "\n",
    "We've chosen as key a random chain of size 3, this is $esz$. Again, $c$ is shifted $e$ (4 positions), $r$ shifted $j$ (9 positions) and $i$ shifted by $h$ (7 positions). Then, the next character $p$ is shifted by the first letter of the key $e$, this results $t$.\n",
    "\n",
    "Let's code the Vigenere cipher, first the random key generator\n"
   ]
  },
  {
   "cell_type": "code",
   "execution_count": 9,
   "metadata": {},
   "outputs": [],
   "source": [
    "characters = string.ascii_lowercase\n",
    "\n",
    "def VigenereKeyGenerator(characters, lenght = 5):\n",
    "    \"\"\"Generates a key of fixed lenght\n",
    "    \"\"\"\n",
    "    old_chars = list(deepcopy(characters))\n",
    "    key = []\n",
    "    \n",
    "    while len(key)<lenght:\n",
    "        elem = old_chars.pop(randrange(len(old_chars)))\n",
    "        key.append(elem)\n",
    "    return ''.join(key)"
   ]
  },
  {
   "cell_type": "markdown",
   "metadata": {},
   "source": [
    "We need a helper function to shift the letter by a certain character"
   ]
  },
  {
   "cell_type": "code",
   "execution_count": 10,
   "metadata": {},
   "outputs": [],
   "source": [
    "char_to_num = {c:i for i, c in enumerate(characters)}\n",
    "num_to_char = {i:c for i, c in enumerate(characters)}\n",
    "\n",
    "def ShiftLetter(letter, shiftby, forward=True):\n",
    "    \"\"\"Shift a letter a certain ammount of spaces\n",
    "    letter: an element from string.ascii_lowercase\n",
    "    shiftby: a letter from string.asccii_lowercase indicating th ammount of shift\n",
    "    \"\"\"\n",
    "    \n",
    "    listed_chars = list(characters)\n",
    "    if letter == ' ':\n",
    "        return letter\n",
    "    \n",
    "    shift = char_to_num[shiftby]\n",
    "    i = char_to_num[letter]\n",
    "    \n",
    "    if forward:\n",
    "        return listed_chars[(i + shift)%len(characters)]\n",
    "    else:\n",
    "        return listed_chars[(i - shift)%len(characters)]"
   ]
  },
  {
   "cell_type": "markdown",
   "metadata": {},
   "source": [
    "And finally we an write the Vingenere function for encryption and decryption"
   ]
  },
  {
   "cell_type": "code",
   "execution_count": 11,
   "metadata": {},
   "outputs": [],
   "source": [
    "def VigenereEncryptDecrypt(message, characters, secret_key, encrypt = True):\n",
    "    key_len = len(secret_key)\n",
    "    list_key = list(secret_key)\n",
    "    \n",
    "    text2 = ''\n",
    "    for i, letter in enumerate(message):\n",
    "        c = ShiftLetter(letter, secret_key[i%key_len],forward=encrypt)\n",
    "        text2 += c\n",
    "        \n",
    "    return text2"
   ]
  },
  {
   "cell_type": "code",
   "execution_count": 12,
   "metadata": {},
   "outputs": [
    {
     "name": "stdout",
     "output_type": "stream",
     "text": [
      "THE SECRET KEY: \n",
      "xkzyr\n",
      "\n",
      "THE SENTENCE:\n",
      "criptographyisacoolsubject\n",
      "\n",
      "CIPHERTEXT:\n",
      "zbhnklqqygeihqrzynjjrlictq\n",
      "\n",
      "PLAINTEXT:\n",
      "criptographyisacoolsubject\n"
     ]
    }
   ],
   "source": [
    "# generate key\n",
    "secret_key_size = 5\n",
    "secret_key = VigenereKeyGenerator(characters, secret_key_size)\n",
    "\n",
    "# encrypt a text\n",
    "sentence = 'criptographyisacoolsubject'\n",
    "ciphertext = VigenereEncryptDecrypt(sentence, characters, secret_key, encrypt=True)\n",
    "plaintext = VigenereEncryptDecrypt(ciphertext, characters, secret_key, encrypt=False)\n",
    "\n",
    "print(f\"THE SECRET KEY: \\n{secret_key}\\n\\nTHE SENTENCE:\\n{sentence}\\n\\nCIPHERTEXT:\\n{ciphertext}\\n\\nPLAINTEXT:\\n{plaintext}\")"
   ]
  },
  {
   "cell_type": "code",
   "execution_count": null,
   "metadata": {},
   "outputs": [],
   "source": []
  },
  {
   "cell_type": "code",
   "execution_count": null,
   "metadata": {},
   "outputs": [],
   "source": []
  },
  {
   "cell_type": "code",
   "execution_count": null,
   "metadata": {},
   "outputs": [],
   "source": []
  },
  {
   "cell_type": "code",
   "execution_count": null,
   "metadata": {},
   "outputs": [],
   "source": []
  },
  {
   "cell_type": "code",
   "execution_count": null,
   "metadata": {},
   "outputs": [],
   "source": []
  },
  {
   "cell_type": "code",
   "execution_count": null,
   "metadata": {},
   "outputs": [],
   "source": []
  },
  {
   "cell_type": "code",
   "execution_count": null,
   "metadata": {},
   "outputs": [],
   "source": []
  }
 ],
 "metadata": {
  "kernelspec": {
   "display_name": "Python 3",
   "language": "python",
   "name": "python3"
  },
  "language_info": {
   "codemirror_mode": {
    "name": "ipython",
    "version": 3
   },
   "file_extension": ".py",
   "mimetype": "text/x-python",
   "name": "python",
   "nbconvert_exporter": "python",
   "pygments_lexer": "ipython3",
   "version": "3.6.7"
  }
 },
 "nbformat": 4,
 "nbformat_minor": 4
}
