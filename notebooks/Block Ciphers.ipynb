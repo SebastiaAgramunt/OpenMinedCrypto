{
 "cells": [
  {
   "cell_type": "markdown",
   "id": "strategic-sponsorship",
   "metadata": {},
   "source": [
    "# Bock ciphers\n",
    "\n",
    "Data is encrypted in blocks of certain amount of bytes, for instance 16 bytes. In general a block cipher that encodes with size 16 calculates ciphertexts of size multiple 16."
   ]
  },
  {
   "cell_type": "markdown",
   "id": "vertical-webmaster",
   "metadata": {},
   "source": [
    "<img src=\"img/block_cipher.png\" style=\"width:1100px\"/>"
   ]
  },
  {
   "cell_type": "markdown",
   "id": "constant-bulletin",
   "metadata": {},
   "source": [
    "## Padding a message\n",
    "\n",
    "Most of the times the lenght of the message is not a multiple of the block size so we need to \"pad\" the message to have the required length. A common padding function is [PKCS7](https://en.wikipedia.org/wiki/Padding_(cryptography)). Basically what PKCS7 does is appendinng a list of bytes with the same value corresponding to the number of bytes needed to complete the block.\n",
    "\n",
    "\n",
    "We will use PKCS7 it in the next example:"
   ]
  },
  {
   "cell_type": "code",
   "execution_count": 1,
   "id": "surrounded-cylinder",
   "metadata": {},
   "outputs": [
    {
     "name": "stdout",
     "output_type": "stream",
     "text": [
      "message:\n",
      "\tb'Cryptography is a complex subject after all...'\n",
      "(bin) \n",
      "\t01000011011100100111100101110000011101000110111101100111011100100110000101110000011010000111100100100000011010010111001100100000011000010010000001100011011011110110110101110000011011000110010101111000001000000111001101110101011000100110101001100101011000110111010000100000011000010110011001110100011001010111001000100000011000010110110001101100001011100010111000101110\n",
      "(hex) \n",
      "\t43727970746f677261706879206973206120636f6d706c6578207375626a65637420616674657220616c6c2e2e2e\n"
     ]
    }
   ],
   "source": [
    "from crypto import bytes_to_bin, bytes_to_hex\n",
    "\n",
    "message = b\"Cryptography is a complex subject after all...\"\n",
    "bin_repr = bytes_to_bin(message, pre=\"\")\n",
    "hex_repr = bytes_to_hex(message, pre=\"\")\n",
    "\n",
    "print(f\"message:\\n\\t{message}\")\n",
    "print(f\"(bin) \\n\\t{bin_repr}\")\n",
    "print(f\"(hex) \\n\\t{hex_repr}\")"
   ]
  },
  {
   "cell_type": "code",
   "execution_count": 2,
   "id": "accompanied-oakland",
   "metadata": {},
   "outputs": [
    {
     "name": "stdout",
     "output_type": "stream",
     "text": [
      "message is 46 bytes or 368 bits\n"
     ]
    }
   ],
   "source": [
    "print(f\"message is {len(message)} bytes or {len(bin_repr)} bits\")"
   ]
  },
  {
   "cell_type": "code",
   "execution_count": 3,
   "id": "nervous-burden",
   "metadata": {},
   "outputs": [
    {
     "name": "stdout",
     "output_type": "stream",
     "text": [
      "b'Cryptography is a complex subject after all...\\x02\\x02'\n"
     ]
    }
   ],
   "source": [
    "def PKCS7(m: bytes, block_size_bytes = 16):\n",
    "    n_bytes = block_size_bytes - len(m)%block_size_bytes\n",
    "    pad = bytes([n_bytes for _ in range(n_bytes)])\n",
    "    return m + pad\n",
    "\n",
    "padded_message = PKCS7(message)\n",
    "print(padded_message)"
   ]
  },
  {
   "cell_type": "code",
   "execution_count": 4,
   "id": "extreme-capture",
   "metadata": {},
   "outputs": [
    {
     "name": "stdout",
     "output_type": "stream",
     "text": [
      "message:\n",
      "\t'b'Cryptography is a complex subject after all...''\n",
      "\n",
      "padded_data: \n",
      "\tb'Cryptography is a complex subject after all...\\x02\\x02'\n",
      "\n",
      "bytes per block: 16\n",
      "bits per block: 128\n",
      "message length: 46\n",
      "padded_message lenght: 48\n"
     ]
    }
   ],
   "source": [
    "from cryptography.hazmat.primitives import padding\n",
    "\n",
    "block_size_bits = 128\n",
    "\n",
    "padder = padding.PKCS7(block_size_bits).padder()\n",
    "padded_message = padder.update(message) + padder.finalize()\n",
    "\n",
    "print(f\"message:\\n\\t'{message}'\")\n",
    "print(f\"\\npadded_data: \\n\\t{padded_message}\\n\")\n",
    "\n",
    "print(f\"bytes per block: {int(block_size_bits/8)}\")\n",
    "print(f\"bits per block: {block_size_bits}\")\n",
    "print(f\"message length: {len(message)}\")\n",
    "print(f\"padded_message lenght: {len(padded_message)}\")"
   ]
  },
  {
   "cell_type": "markdown",
   "id": "organized-moment",
   "metadata": {},
   "source": [
    "## Encrypting using AES (Advanced Encryption Algorithm)\n",
    "\n",
    "AES is a block cipher that was established as a standard by NIST in 2001 (after a public call to improve/substitute DES encryption algorithm in 1997). AES is a subset of the Rijndael block cipher developed by Vincent Rijmen and Joan Daemen submitted to NIST during the [AES selection process](https://en.wikipedia.org/wiki/Advanced_Encryption_Standard_process).\n",
    "\n",
    "\n",
    "We are not going to go into the details of te exact implementation but the readers are referred to the book of [Katz and Lindell](http://www.cs.umd.edu/~jkatz/imc.html) Chapter 6 section 2. Also Mike Pound explains AES in this [video](https://www.youtube.com/watch?v=O4xNJsjtN6E&t=524s&ab_channel=Computerphile), check it out!"
   ]
  },
  {
   "cell_type": "code",
   "execution_count": 5,
   "id": "sunset-extraction",
   "metadata": {},
   "outputs": [],
   "source": [
    "from cryptography.hazmat.primitives.ciphers import Cipher, algorithms, modes\n",
    "from cryptography.hazmat.backends import default_backend\n",
    "import os\n",
    "\n",
    "secret_key = os.urandom(32)\n",
    "\n",
    "cipher = Cipher(algorithms.AES(secret_key), modes.ECB(), backend=default_backend())\n",
    "\n",
    "encryptor = cipher.encryptor()\n",
    "decryptor = cipher.decryptor()"
   ]
  },
  {
   "cell_type": "code",
   "execution_count": 6,
   "id": "aware-sacrifice",
   "metadata": {},
   "outputs": [
    {
     "name": "stdout",
     "output_type": "stream",
     "text": [
      "ciphertext:\n",
      "\tb\"\\x98r^\\x81.\\x8f\\xad\\xce\\xee-\\x82'\\x98\\xf3\\x1b\\x07\\xb8&\\xc7\\x80qO\\x90f\\xf9\\xb5\\x1fu\\xadr\\xf0\\xf2\\xc1XJ\\xde\\x1d}\\\\\\xb8\\x10X\\xd6\\x82\\xc3L\\xf7\\xde\"\n",
      "plaintext:\n",
      "\tb'Cryptography is a complex subject after all...\\x02\\x02'\n"
     ]
    }
   ],
   "source": [
    "ctx = encryptor.update(padded_message) + encryptor.finalize()\n",
    "plx = decryptor.update(ctx) + decryptor.finalize()\n",
    "\n",
    "print(f\"ciphertext:\\n\\t{ctx}\")\n",
    "print(f\"plaintext:\\n\\t{plx}\")"
   ]
  },
  {
   "cell_type": "markdown",
   "id": "weird-filename",
   "metadata": {},
   "source": [
    "## The mode of operation\n",
    "\n",
    "A block cipher by itself is only suitable for the secure cryptographic transformation (encryption or decryption) of one fixed-length group of bits called a block. A mode of operation describes how to repeatedly apply a cipher's single-block operation to securely transform amounts of data larger than a block ([Wikipedia](https://en.wikipedia.org/wiki/Block_cipher_mode_of_operation)).\n",
    "\n",
    "The first mode is \"not doing anything\", this is the Electronic Codebook mode. See the figure below (from Wikipedia)."
   ]
  },
  {
   "cell_type": "markdown",
   "id": "capable-command",
   "metadata": {},
   "source": [
    "<img src=\"img/ECB_mode.png\" style=\"width:1100px\"/>"
   ]
  },
  {
   "cell_type": "markdown",
   "id": "critical-cinema",
   "metadata": {},
   "source": [
    "We are lucky and in ```cryptography``` package ECB implemented in ```cryptography.hazmat.primitives.ciphers.ECB``` function (we've seen in the previous example!)."
   ]
  },
  {
   "cell_type": "code",
   "execution_count": 7,
   "id": "falling-breeding",
   "metadata": {},
   "outputs": [],
   "source": [
    "secret_key = os.urandom(32)\n",
    "\n",
    "cipher = Cipher(algorithms.AES(secret_key), modes.ECB(), backend=default_backend())\n",
    "\n",
    "encryptor = cipher.encryptor()\n",
    "decryptor = cipher.decryptor()"
   ]
  },
  {
   "cell_type": "markdown",
   "id": "surprised-aspect",
   "metadata": {},
   "source": [
    "Now we can encrypt the same message twice and see what we get in the ciphertext:"
   ]
  },
  {
   "cell_type": "code",
   "execution_count": 8,
   "id": "alleged-suite",
   "metadata": {},
   "outputs": [
    {
     "data": {
      "text/plain": [
       "b'Cryptography is a complex subject after all...\\x02\\x02'"
      ]
     },
     "execution_count": 8,
     "metadata": {},
     "output_type": "execute_result"
    }
   ],
   "source": [
    "padded_message"
   ]
  },
  {
   "cell_type": "code",
   "execution_count": 9,
   "id": "bigger-suspension",
   "metadata": {},
   "outputs": [
    {
     "name": "stdout",
     "output_type": "stream",
     "text": [
      "b'\\x11Ha\\xff\\xa5mJ\\x84\\xec\\x99\\xe9n\\xc7Ae\\xa8\\xe5\\xdb\\xc7\\xe9d]I\\xb5\\x90Vu]\\xd5\\x11\\xc1\\xbd\\x16\\xa3\\xda%_\\x11w\\x84f>\\xbf\\x18\\xfb\\x13#\\xa4'\n",
      "b'\\x11Ha\\xff\\xa5mJ\\x84\\xec\\x99\\xe9n\\xc7Ae\\xa8\\xe5\\xdb\\xc7\\xe9d]I\\xb5\\x90Vu]\\xd5\\x11\\xc1\\xbd\\x16\\xa3\\xda%_\\x11w\\x84f>\\xbf\\x18\\xfb\\x13#\\xa4'\n"
     ]
    }
   ],
   "source": [
    "new_message = padded_message+padded_message\n",
    "\n",
    "ctx = encryptor.update(new_message) + encryptor.finalize()\n",
    "print(ctx[0: len(padded_message)])\n",
    "print(ctx[len(padded_message):])"
   ]
  },
  {
   "cell_type": "markdown",
   "id": "bronze-column",
   "metadata": {},
   "source": [
    "This is not a desirable outcome. If I want to send the same message twice, I really don't want to send the same ciphertext. What if in all comunications I start by \"Dear...\" and the attacker knows it?. A better mode is the Cipher block chaining (CBC):"
   ]
  },
  {
   "cell_type": "markdown",
   "id": "sonic-ranking",
   "metadata": {},
   "source": [
    "<img src=\"img/CBC_mode.png\" style=\"width:1100px\"/>"
   ]
  },
  {
   "cell_type": "markdown",
   "id": "meaningful-preview",
   "metadata": {},
   "source": [
    "In this case we take a random initialization vector and perform XOR operation with the block of plaintext, then we feed this into the encryptor, after that we obtain the ciphertext. This ciphertext is used as the initialization vector to encrypt the next block."
   ]
  },
  {
   "cell_type": "code",
   "execution_count": 10,
   "id": "breeding-transportation",
   "metadata": {},
   "outputs": [],
   "source": [
    "secret_key = os.urandom(32)\n",
    "iv = os.urandom(16)\n",
    "\n",
    "cipher = Cipher(algorithms.AES(secret_key), modes.CBC(iv), backend=default_backend())\n",
    "\n",
    "encryptor = cipher.encryptor()\n",
    "decryptor = cipher.decryptor()"
   ]
  },
  {
   "cell_type": "code",
   "execution_count": 11,
   "id": "smooth-celtic",
   "metadata": {},
   "outputs": [
    {
     "name": "stdout",
     "output_type": "stream",
     "text": [
      "b'P\\xf7\\xb80!\\x98\\x89i\\xc5y\\x08_\\xc7\\xe5\\xe1\\xb3YE}T\\x84T\\xa2\\xac\\xe9\\xe2q/\\xfd\\x82\\x96\\xeb;U\\xf87\\xab\\xe0*\\xdc\\xfc\\x18\\xb5&\\xb6\\x07\\xc3\\xc2'\n",
      "b'_\\xa1\\t\\x18\\xd6+\\x80\\x1f\\xa7?\\xe55\\xb2\\x8c\\xf4\\xc6X\\xb4\\xad?\\x14c\\xd3\\x06}\\xdb\\x9c\\xd3\\xc2\\xdcj|\\xdb\\xacU6[\\xaa\\xcc.\\xca\\x05UjmM\\xb7\\xd6'\n"
     ]
    }
   ],
   "source": [
    "ctx = encryptor.update(padded_message+padded_message) + encryptor.finalize()\n",
    "print(ctx[0: len(padded_message)])\n",
    "print(ctx[len(padded_message):])"
   ]
  },
  {
   "cell_type": "markdown",
   "id": "cutting-demographic",
   "metadata": {},
   "source": [
    "## Size of ciphertext"
   ]
  },
  {
   "cell_type": "code",
   "execution_count": 14,
   "id": "quick-multiple",
   "metadata": {},
   "outputs": [
    {
     "name": "stdout",
     "output_type": "stream",
     "text": [
      "message_len=b'', message_len=0, padded_m=b'\\x10\\x10\\x10\\x10\\x10\\x10\\x10\\x10\\x10\\x10\\x10\\x10\\x10\\x10\\x10\\x10'\n",
      "message_len=b'a', message_len=1, padded_m=b'a\\x0f\\x0f\\x0f\\x0f\\x0f\\x0f\\x0f\\x0f\\x0f\\x0f\\x0f\\x0f\\x0f\\x0f\\x0f'\n",
      "message_len=b'aa', message_len=2, padded_m=b'aa\\x0e\\x0e\\x0e\\x0e\\x0e\\x0e\\x0e\\x0e\\x0e\\x0e\\x0e\\x0e\\x0e\\x0e'\n",
      "message_len=b'aaa', message_len=3, padded_m=b'aaa\\r\\r\\r\\r\\r\\r\\r\\r\\r\\r\\r\\r\\r'\n",
      "message_len=b'aaaa', message_len=4, padded_m=b'aaaa\\x0c\\x0c\\x0c\\x0c\\x0c\\x0c\\x0c\\x0c\\x0c\\x0c\\x0c\\x0c'\n",
      "message_len=b'aaaaa', message_len=5, padded_m=b'aaaaa\\x0b\\x0b\\x0b\\x0b\\x0b\\x0b\\x0b\\x0b\\x0b\\x0b\\x0b'\n",
      "message_len=b'aaaaaa', message_len=6, padded_m=b'aaaaaa\\n\\n\\n\\n\\n\\n\\n\\n\\n\\n'\n",
      "message_len=b'aaaaaaa', message_len=7, padded_m=b'aaaaaaa\\t\\t\\t\\t\\t\\t\\t\\t\\t'\n",
      "message_len=b'aaaaaaaa', message_len=8, padded_m=b'aaaaaaaa\\x08\\x08\\x08\\x08\\x08\\x08\\x08\\x08'\n",
      "message_len=b'aaaaaaaaa', message_len=9, padded_m=b'aaaaaaaaa\\x07\\x07\\x07\\x07\\x07\\x07\\x07'\n",
      "message_len=b'aaaaaaaaaa', message_len=10, padded_m=b'aaaaaaaaaa\\x06\\x06\\x06\\x06\\x06\\x06'\n",
      "message_len=b'aaaaaaaaaaa', message_len=11, padded_m=b'aaaaaaaaaaa\\x05\\x05\\x05\\x05\\x05'\n",
      "message_len=b'aaaaaaaaaaaa', message_len=12, padded_m=b'aaaaaaaaaaaa\\x04\\x04\\x04\\x04'\n",
      "message_len=b'aaaaaaaaaaaaa', message_len=13, padded_m=b'aaaaaaaaaaaaa\\x03\\x03\\x03'\n",
      "message_len=b'aaaaaaaaaaaaaa', message_len=14, padded_m=b'aaaaaaaaaaaaaa\\x02\\x02'\n",
      "message_len=b'aaaaaaaaaaaaaaa', message_len=15, padded_m=b'aaaaaaaaaaaaaaa\\x01'\n",
      "message_len=b'aaaaaaaaaaaaaaaa', message_len=16, padded_m=b'aaaaaaaaaaaaaaaa\\x10\\x10\\x10\\x10\\x10\\x10\\x10\\x10\\x10\\x10\\x10\\x10\\x10\\x10\\x10\\x10'\n",
      "message_len=b'aaaaaaaaaaaaaaaaa', message_len=17, padded_m=b'aaaaaaaaaaaaaaaaa\\x0f\\x0f\\x0f\\x0f\\x0f\\x0f\\x0f\\x0f\\x0f\\x0f\\x0f\\x0f\\x0f\\x0f\\x0f'\n",
      "message_len=b'aaaaaaaaaaaaaaaaaa', message_len=18, padded_m=b'aaaaaaaaaaaaaaaaaa\\x0e\\x0e\\x0e\\x0e\\x0e\\x0e\\x0e\\x0e\\x0e\\x0e\\x0e\\x0e\\x0e\\x0e'\n",
      "message_len=b'aaaaaaaaaaaaaaaaaaa', message_len=19, padded_m=b'aaaaaaaaaaaaaaaaaaa\\r\\r\\r\\r\\r\\r\\r\\r\\r\\r\\r\\r\\r'\n",
      "message_len=b'aaaaaaaaaaaaaaaaaaaa', message_len=20, padded_m=b'aaaaaaaaaaaaaaaaaaaa\\x0c\\x0c\\x0c\\x0c\\x0c\\x0c\\x0c\\x0c\\x0c\\x0c\\x0c\\x0c'\n",
      "message_len=b'aaaaaaaaaaaaaaaaaaaaa', message_len=21, padded_m=b'aaaaaaaaaaaaaaaaaaaaa\\x0b\\x0b\\x0b\\x0b\\x0b\\x0b\\x0b\\x0b\\x0b\\x0b\\x0b'\n",
      "message_len=b'aaaaaaaaaaaaaaaaaaaaaa', message_len=22, padded_m=b'aaaaaaaaaaaaaaaaaaaaaa\\n\\n\\n\\n\\n\\n\\n\\n\\n\\n'\n",
      "message_len=b'aaaaaaaaaaaaaaaaaaaaaaa', message_len=23, padded_m=b'aaaaaaaaaaaaaaaaaaaaaaa\\t\\t\\t\\t\\t\\t\\t\\t\\t'\n",
      "message_len=b'aaaaaaaaaaaaaaaaaaaaaaaa', message_len=24, padded_m=b'aaaaaaaaaaaaaaaaaaaaaaaa\\x08\\x08\\x08\\x08\\x08\\x08\\x08\\x08'\n",
      "message_len=b'aaaaaaaaaaaaaaaaaaaaaaaaa', message_len=25, padded_m=b'aaaaaaaaaaaaaaaaaaaaaaaaa\\x07\\x07\\x07\\x07\\x07\\x07\\x07'\n",
      "message_len=b'aaaaaaaaaaaaaaaaaaaaaaaaaa', message_len=26, padded_m=b'aaaaaaaaaaaaaaaaaaaaaaaaaa\\x06\\x06\\x06\\x06\\x06\\x06'\n",
      "message_len=b'aaaaaaaaaaaaaaaaaaaaaaaaaaa', message_len=27, padded_m=b'aaaaaaaaaaaaaaaaaaaaaaaaaaa\\x05\\x05\\x05\\x05\\x05'\n",
      "message_len=b'aaaaaaaaaaaaaaaaaaaaaaaaaaaa', message_len=28, padded_m=b'aaaaaaaaaaaaaaaaaaaaaaaaaaaa\\x04\\x04\\x04\\x04'\n",
      "message_len=b'aaaaaaaaaaaaaaaaaaaaaaaaaaaaa', message_len=29, padded_m=b'aaaaaaaaaaaaaaaaaaaaaaaaaaaaa\\x03\\x03\\x03'\n",
      "message_len=b'aaaaaaaaaaaaaaaaaaaaaaaaaaaaaa', message_len=30, padded_m=b'aaaaaaaaaaaaaaaaaaaaaaaaaaaaaa\\x02\\x02'\n",
      "message_len=b'aaaaaaaaaaaaaaaaaaaaaaaaaaaaaaa', message_len=31, padded_m=b'aaaaaaaaaaaaaaaaaaaaaaaaaaaaaaa\\x01'\n",
      "message_len=b'aaaaaaaaaaaaaaaaaaaaaaaaaaaaaaaa', message_len=32, padded_m=b'aaaaaaaaaaaaaaaaaaaaaaaaaaaaaaaa\\x10\\x10\\x10\\x10\\x10\\x10\\x10\\x10\\x10\\x10\\x10\\x10\\x10\\x10\\x10\\x10'\n",
      "message_len=b'aaaaaaaaaaaaaaaaaaaaaaaaaaaaaaaaa', message_len=33, padded_m=b'aaaaaaaaaaaaaaaaaaaaaaaaaaaaaaaaa\\x0f\\x0f\\x0f\\x0f\\x0f\\x0f\\x0f\\x0f\\x0f\\x0f\\x0f\\x0f\\x0f\\x0f\\x0f'\n",
      "message_len=b'aaaaaaaaaaaaaaaaaaaaaaaaaaaaaaaaaa', message_len=34, padded_m=b'aaaaaaaaaaaaaaaaaaaaaaaaaaaaaaaaaa\\x0e\\x0e\\x0e\\x0e\\x0e\\x0e\\x0e\\x0e\\x0e\\x0e\\x0e\\x0e\\x0e\\x0e'\n",
      "message_len=b'aaaaaaaaaaaaaaaaaaaaaaaaaaaaaaaaaaa', message_len=35, padded_m=b'aaaaaaaaaaaaaaaaaaaaaaaaaaaaaaaaaaa\\r\\r\\r\\r\\r\\r\\r\\r\\r\\r\\r\\r\\r'\n",
      "message_len=b'aaaaaaaaaaaaaaaaaaaaaaaaaaaaaaaaaaaa', message_len=36, padded_m=b'aaaaaaaaaaaaaaaaaaaaaaaaaaaaaaaaaaaa\\x0c\\x0c\\x0c\\x0c\\x0c\\x0c\\x0c\\x0c\\x0c\\x0c\\x0c\\x0c'\n",
      "message_len=b'aaaaaaaaaaaaaaaaaaaaaaaaaaaaaaaaaaaaa', message_len=37, padded_m=b'aaaaaaaaaaaaaaaaaaaaaaaaaaaaaaaaaaaaa\\x0b\\x0b\\x0b\\x0b\\x0b\\x0b\\x0b\\x0b\\x0b\\x0b\\x0b'\n",
      "message_len=b'aaaaaaaaaaaaaaaaaaaaaaaaaaaaaaaaaaaaaa', message_len=38, padded_m=b'aaaaaaaaaaaaaaaaaaaaaaaaaaaaaaaaaaaaaa\\n\\n\\n\\n\\n\\n\\n\\n\\n\\n'\n",
      "message_len=b'aaaaaaaaaaaaaaaaaaaaaaaaaaaaaaaaaaaaaaa', message_len=39, padded_m=b'aaaaaaaaaaaaaaaaaaaaaaaaaaaaaaaaaaaaaaa\\t\\t\\t\\t\\t\\t\\t\\t\\t'\n",
      "message_len=b'aaaaaaaaaaaaaaaaaaaaaaaaaaaaaaaaaaaaaaaa', message_len=40, padded_m=b'aaaaaaaaaaaaaaaaaaaaaaaaaaaaaaaaaaaaaaaa\\x08\\x08\\x08\\x08\\x08\\x08\\x08\\x08'\n",
      "message_len=b'aaaaaaaaaaaaaaaaaaaaaaaaaaaaaaaaaaaaaaaaa', message_len=41, padded_m=b'aaaaaaaaaaaaaaaaaaaaaaaaaaaaaaaaaaaaaaaaa\\x07\\x07\\x07\\x07\\x07\\x07\\x07'\n",
      "message_len=b'aaaaaaaaaaaaaaaaaaaaaaaaaaaaaaaaaaaaaaaaaa', message_len=42, padded_m=b'aaaaaaaaaaaaaaaaaaaaaaaaaaaaaaaaaaaaaaaaaa\\x06\\x06\\x06\\x06\\x06\\x06'\n",
      "message_len=b'aaaaaaaaaaaaaaaaaaaaaaaaaaaaaaaaaaaaaaaaaaa', message_len=43, padded_m=b'aaaaaaaaaaaaaaaaaaaaaaaaaaaaaaaaaaaaaaaaaaa\\x05\\x05\\x05\\x05\\x05'\n",
      "message_len=b'aaaaaaaaaaaaaaaaaaaaaaaaaaaaaaaaaaaaaaaaaaaa', message_len=44, padded_m=b'aaaaaaaaaaaaaaaaaaaaaaaaaaaaaaaaaaaaaaaaaaaa\\x04\\x04\\x04\\x04'\n",
      "message_len=b'aaaaaaaaaaaaaaaaaaaaaaaaaaaaaaaaaaaaaaaaaaaaa', message_len=45, padded_m=b'aaaaaaaaaaaaaaaaaaaaaaaaaaaaaaaaaaaaaaaaaaaaa\\x03\\x03\\x03'\n",
      "message_len=b'aaaaaaaaaaaaaaaaaaaaaaaaaaaaaaaaaaaaaaaaaaaaaa', message_len=46, padded_m=b'aaaaaaaaaaaaaaaaaaaaaaaaaaaaaaaaaaaaaaaaaaaaaa\\x02\\x02'\n",
      "message_len=b'aaaaaaaaaaaaaaaaaaaaaaaaaaaaaaaaaaaaaaaaaaaaaaa', message_len=47, padded_m=b'aaaaaaaaaaaaaaaaaaaaaaaaaaaaaaaaaaaaaaaaaaaaaaa\\x01'\n",
      "message_len=b'aaaaaaaaaaaaaaaaaaaaaaaaaaaaaaaaaaaaaaaaaaaaaaaa', message_len=48, padded_m=b'aaaaaaaaaaaaaaaaaaaaaaaaaaaaaaaaaaaaaaaaaaaaaaaa\\x10\\x10\\x10\\x10\\x10\\x10\\x10\\x10\\x10\\x10\\x10\\x10\\x10\\x10\\x10\\x10'\n",
      "message_len=b'aaaaaaaaaaaaaaaaaaaaaaaaaaaaaaaaaaaaaaaaaaaaaaaaa', message_len=49, padded_m=b'aaaaaaaaaaaaaaaaaaaaaaaaaaaaaaaaaaaaaaaaaaaaaaaaa\\x0f\\x0f\\x0f\\x0f\\x0f\\x0f\\x0f\\x0f\\x0f\\x0f\\x0f\\x0f\\x0f\\x0f\\x0f'\n",
      "message_len=b'aaaaaaaaaaaaaaaaaaaaaaaaaaaaaaaaaaaaaaaaaaaaaaaaaa', message_len=50, padded_m=b'aaaaaaaaaaaaaaaaaaaaaaaaaaaaaaaaaaaaaaaaaaaaaaaaaa\\x0e\\x0e\\x0e\\x0e\\x0e\\x0e\\x0e\\x0e\\x0e\\x0e\\x0e\\x0e\\x0e\\x0e'\n",
      "message_len=b'aaaaaaaaaaaaaaaaaaaaaaaaaaaaaaaaaaaaaaaaaaaaaaaaaaa', message_len=51, padded_m=b'aaaaaaaaaaaaaaaaaaaaaaaaaaaaaaaaaaaaaaaaaaaaaaaaaaa\\r\\r\\r\\r\\r\\r\\r\\r\\r\\r\\r\\r\\r'\n",
      "message_len=b'aaaaaaaaaaaaaaaaaaaaaaaaaaaaaaaaaaaaaaaaaaaaaaaaaaaa', message_len=52, padded_m=b'aaaaaaaaaaaaaaaaaaaaaaaaaaaaaaaaaaaaaaaaaaaaaaaaaaaa\\x0c\\x0c\\x0c\\x0c\\x0c\\x0c\\x0c\\x0c\\x0c\\x0c\\x0c\\x0c'\n",
      "message_len=b'aaaaaaaaaaaaaaaaaaaaaaaaaaaaaaaaaaaaaaaaaaaaaaaaaaaaa', message_len=53, padded_m=b'aaaaaaaaaaaaaaaaaaaaaaaaaaaaaaaaaaaaaaaaaaaaaaaaaaaaa\\x0b\\x0b\\x0b\\x0b\\x0b\\x0b\\x0b\\x0b\\x0b\\x0b\\x0b'\n",
      "message_len=b'aaaaaaaaaaaaaaaaaaaaaaaaaaaaaaaaaaaaaaaaaaaaaaaaaaaaaa', message_len=54, padded_m=b'aaaaaaaaaaaaaaaaaaaaaaaaaaaaaaaaaaaaaaaaaaaaaaaaaaaaaa\\n\\n\\n\\n\\n\\n\\n\\n\\n\\n'\n",
      "message_len=b'aaaaaaaaaaaaaaaaaaaaaaaaaaaaaaaaaaaaaaaaaaaaaaaaaaaaaaa', message_len=55, padded_m=b'aaaaaaaaaaaaaaaaaaaaaaaaaaaaaaaaaaaaaaaaaaaaaaaaaaaaaaa\\t\\t\\t\\t\\t\\t\\t\\t\\t'\n",
      "message_len=b'aaaaaaaaaaaaaaaaaaaaaaaaaaaaaaaaaaaaaaaaaaaaaaaaaaaaaaaa', message_len=56, padded_m=b'aaaaaaaaaaaaaaaaaaaaaaaaaaaaaaaaaaaaaaaaaaaaaaaaaaaaaaaa\\x08\\x08\\x08\\x08\\x08\\x08\\x08\\x08'\n",
      "message_len=b'aaaaaaaaaaaaaaaaaaaaaaaaaaaaaaaaaaaaaaaaaaaaaaaaaaaaaaaaa', message_len=57, padded_m=b'aaaaaaaaaaaaaaaaaaaaaaaaaaaaaaaaaaaaaaaaaaaaaaaaaaaaaaaaa\\x07\\x07\\x07\\x07\\x07\\x07\\x07'\n",
      "message_len=b'aaaaaaaaaaaaaaaaaaaaaaaaaaaaaaaaaaaaaaaaaaaaaaaaaaaaaaaaaa', message_len=58, padded_m=b'aaaaaaaaaaaaaaaaaaaaaaaaaaaaaaaaaaaaaaaaaaaaaaaaaaaaaaaaaa\\x06\\x06\\x06\\x06\\x06\\x06'\n",
      "message_len=b'aaaaaaaaaaaaaaaaaaaaaaaaaaaaaaaaaaaaaaaaaaaaaaaaaaaaaaaaaaa', message_len=59, padded_m=b'aaaaaaaaaaaaaaaaaaaaaaaaaaaaaaaaaaaaaaaaaaaaaaaaaaaaaaaaaaa\\x05\\x05\\x05\\x05\\x05'\n",
      "message_len=b'aaaaaaaaaaaaaaaaaaaaaaaaaaaaaaaaaaaaaaaaaaaaaaaaaaaaaaaaaaaa', message_len=60, padded_m=b'aaaaaaaaaaaaaaaaaaaaaaaaaaaaaaaaaaaaaaaaaaaaaaaaaaaaaaaaaaaa\\x04\\x04\\x04\\x04'\n",
      "message_len=b'aaaaaaaaaaaaaaaaaaaaaaaaaaaaaaaaaaaaaaaaaaaaaaaaaaaaaaaaaaaaa', message_len=61, padded_m=b'aaaaaaaaaaaaaaaaaaaaaaaaaaaaaaaaaaaaaaaaaaaaaaaaaaaaaaaaaaaaa\\x03\\x03\\x03'\n",
      "message_len=b'aaaaaaaaaaaaaaaaaaaaaaaaaaaaaaaaaaaaaaaaaaaaaaaaaaaaaaaaaaaaaa', message_len=62, padded_m=b'aaaaaaaaaaaaaaaaaaaaaaaaaaaaaaaaaaaaaaaaaaaaaaaaaaaaaaaaaaaaaa\\x02\\x02'\n",
      "message_len=b'aaaaaaaaaaaaaaaaaaaaaaaaaaaaaaaaaaaaaaaaaaaaaaaaaaaaaaaaaaaaaaa', message_len=63, padded_m=b'aaaaaaaaaaaaaaaaaaaaaaaaaaaaaaaaaaaaaaaaaaaaaaaaaaaaaaaaaaaaaaa\\x01'\n",
      "message_len=b'aaaaaaaaaaaaaaaaaaaaaaaaaaaaaaaaaaaaaaaaaaaaaaaaaaaaaaaaaaaaaaaa', message_len=64, padded_m=b'aaaaaaaaaaaaaaaaaaaaaaaaaaaaaaaaaaaaaaaaaaaaaaaaaaaaaaaaaaaaaaaa\\x10\\x10\\x10\\x10\\x10\\x10\\x10\\x10\\x10\\x10\\x10\\x10\\x10\\x10\\x10\\x10'\n",
      "message_len=b'aaaaaaaaaaaaaaaaaaaaaaaaaaaaaaaaaaaaaaaaaaaaaaaaaaaaaaaaaaaaaaaaa', message_len=65, padded_m=b'aaaaaaaaaaaaaaaaaaaaaaaaaaaaaaaaaaaaaaaaaaaaaaaaaaaaaaaaaaaaaaaaa\\x0f\\x0f\\x0f\\x0f\\x0f\\x0f\\x0f\\x0f\\x0f\\x0f\\x0f\\x0f\\x0f\\x0f\\x0f'\n",
      "message_len=b'aaaaaaaaaaaaaaaaaaaaaaaaaaaaaaaaaaaaaaaaaaaaaaaaaaaaaaaaaaaaaaaaaa', message_len=66, padded_m=b'aaaaaaaaaaaaaaaaaaaaaaaaaaaaaaaaaaaaaaaaaaaaaaaaaaaaaaaaaaaaaaaaaa\\x0e\\x0e\\x0e\\x0e\\x0e\\x0e\\x0e\\x0e\\x0e\\x0e\\x0e\\x0e\\x0e\\x0e'\n",
      "message_len=b'aaaaaaaaaaaaaaaaaaaaaaaaaaaaaaaaaaaaaaaaaaaaaaaaaaaaaaaaaaaaaaaaaaa', message_len=67, padded_m=b'aaaaaaaaaaaaaaaaaaaaaaaaaaaaaaaaaaaaaaaaaaaaaaaaaaaaaaaaaaaaaaaaaaa\\r\\r\\r\\r\\r\\r\\r\\r\\r\\r\\r\\r\\r'\n",
      "message_len=b'aaaaaaaaaaaaaaaaaaaaaaaaaaaaaaaaaaaaaaaaaaaaaaaaaaaaaaaaaaaaaaaaaaaa', message_len=68, padded_m=b'aaaaaaaaaaaaaaaaaaaaaaaaaaaaaaaaaaaaaaaaaaaaaaaaaaaaaaaaaaaaaaaaaaaa\\x0c\\x0c\\x0c\\x0c\\x0c\\x0c\\x0c\\x0c\\x0c\\x0c\\x0c\\x0c'\n",
      "message_len=b'aaaaaaaaaaaaaaaaaaaaaaaaaaaaaaaaaaaaaaaaaaaaaaaaaaaaaaaaaaaaaaaaaaaaa', message_len=69, padded_m=b'aaaaaaaaaaaaaaaaaaaaaaaaaaaaaaaaaaaaaaaaaaaaaaaaaaaaaaaaaaaaaaaaaaaaa\\x0b\\x0b\\x0b\\x0b\\x0b\\x0b\\x0b\\x0b\\x0b\\x0b\\x0b'\n",
      "message_len=b'aaaaaaaaaaaaaaaaaaaaaaaaaaaaaaaaaaaaaaaaaaaaaaaaaaaaaaaaaaaaaaaaaaaaaa', message_len=70, padded_m=b'aaaaaaaaaaaaaaaaaaaaaaaaaaaaaaaaaaaaaaaaaaaaaaaaaaaaaaaaaaaaaaaaaaaaaa\\n\\n\\n\\n\\n\\n\\n\\n\\n\\n'\n",
      "message_len=b'aaaaaaaaaaaaaaaaaaaaaaaaaaaaaaaaaaaaaaaaaaaaaaaaaaaaaaaaaaaaaaaaaaaaaaa', message_len=71, padded_m=b'aaaaaaaaaaaaaaaaaaaaaaaaaaaaaaaaaaaaaaaaaaaaaaaaaaaaaaaaaaaaaaaaaaaaaaa\\t\\t\\t\\t\\t\\t\\t\\t\\t'\n",
      "message_len=b'aaaaaaaaaaaaaaaaaaaaaaaaaaaaaaaaaaaaaaaaaaaaaaaaaaaaaaaaaaaaaaaaaaaaaaaa', message_len=72, padded_m=b'aaaaaaaaaaaaaaaaaaaaaaaaaaaaaaaaaaaaaaaaaaaaaaaaaaaaaaaaaaaaaaaaaaaaaaaa\\x08\\x08\\x08\\x08\\x08\\x08\\x08\\x08'\n",
      "message_len=b'aaaaaaaaaaaaaaaaaaaaaaaaaaaaaaaaaaaaaaaaaaaaaaaaaaaaaaaaaaaaaaaaaaaaaaaaa', message_len=73, padded_m=b'aaaaaaaaaaaaaaaaaaaaaaaaaaaaaaaaaaaaaaaaaaaaaaaaaaaaaaaaaaaaaaaaaaaaaaaaa\\x07\\x07\\x07\\x07\\x07\\x07\\x07'\n",
      "message_len=b'aaaaaaaaaaaaaaaaaaaaaaaaaaaaaaaaaaaaaaaaaaaaaaaaaaaaaaaaaaaaaaaaaaaaaaaaaa', message_len=74, padded_m=b'aaaaaaaaaaaaaaaaaaaaaaaaaaaaaaaaaaaaaaaaaaaaaaaaaaaaaaaaaaaaaaaaaaaaaaaaaa\\x06\\x06\\x06\\x06\\x06\\x06'\n",
      "message_len=b'aaaaaaaaaaaaaaaaaaaaaaaaaaaaaaaaaaaaaaaaaaaaaaaaaaaaaaaaaaaaaaaaaaaaaaaaaaa', message_len=75, padded_m=b'aaaaaaaaaaaaaaaaaaaaaaaaaaaaaaaaaaaaaaaaaaaaaaaaaaaaaaaaaaaaaaaaaaaaaaaaaaa\\x05\\x05\\x05\\x05\\x05'\n",
      "message_len=b'aaaaaaaaaaaaaaaaaaaaaaaaaaaaaaaaaaaaaaaaaaaaaaaaaaaaaaaaaaaaaaaaaaaaaaaaaaaa', message_len=76, padded_m=b'aaaaaaaaaaaaaaaaaaaaaaaaaaaaaaaaaaaaaaaaaaaaaaaaaaaaaaaaaaaaaaaaaaaaaaaaaaaa\\x04\\x04\\x04\\x04'\n",
      "message_len=b'aaaaaaaaaaaaaaaaaaaaaaaaaaaaaaaaaaaaaaaaaaaaaaaaaaaaaaaaaaaaaaaaaaaaaaaaaaaaa', message_len=77, padded_m=b'aaaaaaaaaaaaaaaaaaaaaaaaaaaaaaaaaaaaaaaaaaaaaaaaaaaaaaaaaaaaaaaaaaaaaaaaaaaaa\\x03\\x03\\x03'\n",
      "message_len=b'aaaaaaaaaaaaaaaaaaaaaaaaaaaaaaaaaaaaaaaaaaaaaaaaaaaaaaaaaaaaaaaaaaaaaaaaaaaaaa', message_len=78, padded_m=b'aaaaaaaaaaaaaaaaaaaaaaaaaaaaaaaaaaaaaaaaaaaaaaaaaaaaaaaaaaaaaaaaaaaaaaaaaaaaaa\\x02\\x02'\n",
      "message_len=b'aaaaaaaaaaaaaaaaaaaaaaaaaaaaaaaaaaaaaaaaaaaaaaaaaaaaaaaaaaaaaaaaaaaaaaaaaaaaaaa', message_len=79, padded_m=b'aaaaaaaaaaaaaaaaaaaaaaaaaaaaaaaaaaaaaaaaaaaaaaaaaaaaaaaaaaaaaaaaaaaaaaaaaaaaaaa\\x01'\n",
      "message_len=b'aaaaaaaaaaaaaaaaaaaaaaaaaaaaaaaaaaaaaaaaaaaaaaaaaaaaaaaaaaaaaaaaaaaaaaaaaaaaaaaa', message_len=80, padded_m=b'aaaaaaaaaaaaaaaaaaaaaaaaaaaaaaaaaaaaaaaaaaaaaaaaaaaaaaaaaaaaaaaaaaaaaaaaaaaaaaaa\\x10\\x10\\x10\\x10\\x10\\x10\\x10\\x10\\x10\\x10\\x10\\x10\\x10\\x10\\x10\\x10'\n",
      "message_len=b'aaaaaaaaaaaaaaaaaaaaaaaaaaaaaaaaaaaaaaaaaaaaaaaaaaaaaaaaaaaaaaaaaaaaaaaaaaaaaaaaa', message_len=81, padded_m=b'aaaaaaaaaaaaaaaaaaaaaaaaaaaaaaaaaaaaaaaaaaaaaaaaaaaaaaaaaaaaaaaaaaaaaaaaaaaaaaaaa\\x0f\\x0f\\x0f\\x0f\\x0f\\x0f\\x0f\\x0f\\x0f\\x0f\\x0f\\x0f\\x0f\\x0f\\x0f'\n",
      "message_len=b'aaaaaaaaaaaaaaaaaaaaaaaaaaaaaaaaaaaaaaaaaaaaaaaaaaaaaaaaaaaaaaaaaaaaaaaaaaaaaaaaaa', message_len=82, padded_m=b'aaaaaaaaaaaaaaaaaaaaaaaaaaaaaaaaaaaaaaaaaaaaaaaaaaaaaaaaaaaaaaaaaaaaaaaaaaaaaaaaaa\\x0e\\x0e\\x0e\\x0e\\x0e\\x0e\\x0e\\x0e\\x0e\\x0e\\x0e\\x0e\\x0e\\x0e'\n",
      "message_len=b'aaaaaaaaaaaaaaaaaaaaaaaaaaaaaaaaaaaaaaaaaaaaaaaaaaaaaaaaaaaaaaaaaaaaaaaaaaaaaaaaaaa', message_len=83, padded_m=b'aaaaaaaaaaaaaaaaaaaaaaaaaaaaaaaaaaaaaaaaaaaaaaaaaaaaaaaaaaaaaaaaaaaaaaaaaaaaaaaaaaa\\r\\r\\r\\r\\r\\r\\r\\r\\r\\r\\r\\r\\r'\n",
      "message_len=b'aaaaaaaaaaaaaaaaaaaaaaaaaaaaaaaaaaaaaaaaaaaaaaaaaaaaaaaaaaaaaaaaaaaaaaaaaaaaaaaaaaaa', message_len=84, padded_m=b'aaaaaaaaaaaaaaaaaaaaaaaaaaaaaaaaaaaaaaaaaaaaaaaaaaaaaaaaaaaaaaaaaaaaaaaaaaaaaaaaaaaa\\x0c\\x0c\\x0c\\x0c\\x0c\\x0c\\x0c\\x0c\\x0c\\x0c\\x0c\\x0c'\n",
      "message_len=b'aaaaaaaaaaaaaaaaaaaaaaaaaaaaaaaaaaaaaaaaaaaaaaaaaaaaaaaaaaaaaaaaaaaaaaaaaaaaaaaaaaaaa', message_len=85, padded_m=b'aaaaaaaaaaaaaaaaaaaaaaaaaaaaaaaaaaaaaaaaaaaaaaaaaaaaaaaaaaaaaaaaaaaaaaaaaaaaaaaaaaaaa\\x0b\\x0b\\x0b\\x0b\\x0b\\x0b\\x0b\\x0b\\x0b\\x0b\\x0b'\n",
      "message_len=b'aaaaaaaaaaaaaaaaaaaaaaaaaaaaaaaaaaaaaaaaaaaaaaaaaaaaaaaaaaaaaaaaaaaaaaaaaaaaaaaaaaaaaa', message_len=86, padded_m=b'aaaaaaaaaaaaaaaaaaaaaaaaaaaaaaaaaaaaaaaaaaaaaaaaaaaaaaaaaaaaaaaaaaaaaaaaaaaaaaaaaaaaaa\\n\\n\\n\\n\\n\\n\\n\\n\\n\\n'\n",
      "message_len=b'aaaaaaaaaaaaaaaaaaaaaaaaaaaaaaaaaaaaaaaaaaaaaaaaaaaaaaaaaaaaaaaaaaaaaaaaaaaaaaaaaaaaaaa', message_len=87, padded_m=b'aaaaaaaaaaaaaaaaaaaaaaaaaaaaaaaaaaaaaaaaaaaaaaaaaaaaaaaaaaaaaaaaaaaaaaaaaaaaaaaaaaaaaaa\\t\\t\\t\\t\\t\\t\\t\\t\\t'\n",
      "message_len=b'aaaaaaaaaaaaaaaaaaaaaaaaaaaaaaaaaaaaaaaaaaaaaaaaaaaaaaaaaaaaaaaaaaaaaaaaaaaaaaaaaaaaaaaa', message_len=88, padded_m=b'aaaaaaaaaaaaaaaaaaaaaaaaaaaaaaaaaaaaaaaaaaaaaaaaaaaaaaaaaaaaaaaaaaaaaaaaaaaaaaaaaaaaaaaa\\x08\\x08\\x08\\x08\\x08\\x08\\x08\\x08'\n",
      "message_len=b'aaaaaaaaaaaaaaaaaaaaaaaaaaaaaaaaaaaaaaaaaaaaaaaaaaaaaaaaaaaaaaaaaaaaaaaaaaaaaaaaaaaaaaaaa', message_len=89, padded_m=b'aaaaaaaaaaaaaaaaaaaaaaaaaaaaaaaaaaaaaaaaaaaaaaaaaaaaaaaaaaaaaaaaaaaaaaaaaaaaaaaaaaaaaaaaa\\x07\\x07\\x07\\x07\\x07\\x07\\x07'\n",
      "message_len=b'aaaaaaaaaaaaaaaaaaaaaaaaaaaaaaaaaaaaaaaaaaaaaaaaaaaaaaaaaaaaaaaaaaaaaaaaaaaaaaaaaaaaaaaaaa', message_len=90, padded_m=b'aaaaaaaaaaaaaaaaaaaaaaaaaaaaaaaaaaaaaaaaaaaaaaaaaaaaaaaaaaaaaaaaaaaaaaaaaaaaaaaaaaaaaaaaaa\\x06\\x06\\x06\\x06\\x06\\x06'\n",
      "message_len=b'aaaaaaaaaaaaaaaaaaaaaaaaaaaaaaaaaaaaaaaaaaaaaaaaaaaaaaaaaaaaaaaaaaaaaaaaaaaaaaaaaaaaaaaaaaa', message_len=91, padded_m=b'aaaaaaaaaaaaaaaaaaaaaaaaaaaaaaaaaaaaaaaaaaaaaaaaaaaaaaaaaaaaaaaaaaaaaaaaaaaaaaaaaaaaaaaaaaa\\x05\\x05\\x05\\x05\\x05'\n",
      "message_len=b'aaaaaaaaaaaaaaaaaaaaaaaaaaaaaaaaaaaaaaaaaaaaaaaaaaaaaaaaaaaaaaaaaaaaaaaaaaaaaaaaaaaaaaaaaaaa', message_len=92, padded_m=b'aaaaaaaaaaaaaaaaaaaaaaaaaaaaaaaaaaaaaaaaaaaaaaaaaaaaaaaaaaaaaaaaaaaaaaaaaaaaaaaaaaaaaaaaaaaa\\x04\\x04\\x04\\x04'\n",
      "message_len=b'aaaaaaaaaaaaaaaaaaaaaaaaaaaaaaaaaaaaaaaaaaaaaaaaaaaaaaaaaaaaaaaaaaaaaaaaaaaaaaaaaaaaaaaaaaaaa', message_len=93, padded_m=b'aaaaaaaaaaaaaaaaaaaaaaaaaaaaaaaaaaaaaaaaaaaaaaaaaaaaaaaaaaaaaaaaaaaaaaaaaaaaaaaaaaaaaaaaaaaaa\\x03\\x03\\x03'\n",
      "message_len=b'aaaaaaaaaaaaaaaaaaaaaaaaaaaaaaaaaaaaaaaaaaaaaaaaaaaaaaaaaaaaaaaaaaaaaaaaaaaaaaaaaaaaaaaaaaaaaa', message_len=94, padded_m=b'aaaaaaaaaaaaaaaaaaaaaaaaaaaaaaaaaaaaaaaaaaaaaaaaaaaaaaaaaaaaaaaaaaaaaaaaaaaaaaaaaaaaaaaaaaaaaa\\x02\\x02'\n",
      "message_len=b'aaaaaaaaaaaaaaaaaaaaaaaaaaaaaaaaaaaaaaaaaaaaaaaaaaaaaaaaaaaaaaaaaaaaaaaaaaaaaaaaaaaaaaaaaaaaaaa', message_len=95, padded_m=b'aaaaaaaaaaaaaaaaaaaaaaaaaaaaaaaaaaaaaaaaaaaaaaaaaaaaaaaaaaaaaaaaaaaaaaaaaaaaaaaaaaaaaaaaaaaaaaa\\x01'\n",
      "message_len=b'aaaaaaaaaaaaaaaaaaaaaaaaaaaaaaaaaaaaaaaaaaaaaaaaaaaaaaaaaaaaaaaaaaaaaaaaaaaaaaaaaaaaaaaaaaaaaaaa', message_len=96, padded_m=b'aaaaaaaaaaaaaaaaaaaaaaaaaaaaaaaaaaaaaaaaaaaaaaaaaaaaaaaaaaaaaaaaaaaaaaaaaaaaaaaaaaaaaaaaaaaaaaaa\\x10\\x10\\x10\\x10\\x10\\x10\\x10\\x10\\x10\\x10\\x10\\x10\\x10\\x10\\x10\\x10'\n",
      "message_len=b'aaaaaaaaaaaaaaaaaaaaaaaaaaaaaaaaaaaaaaaaaaaaaaaaaaaaaaaaaaaaaaaaaaaaaaaaaaaaaaaaaaaaaaaaaaaaaaaaa', message_len=97, padded_m=b'aaaaaaaaaaaaaaaaaaaaaaaaaaaaaaaaaaaaaaaaaaaaaaaaaaaaaaaaaaaaaaaaaaaaaaaaaaaaaaaaaaaaaaaaaaaaaaaaa\\x0f\\x0f\\x0f\\x0f\\x0f\\x0f\\x0f\\x0f\\x0f\\x0f\\x0f\\x0f\\x0f\\x0f\\x0f'\n",
      "message_len=b'aaaaaaaaaaaaaaaaaaaaaaaaaaaaaaaaaaaaaaaaaaaaaaaaaaaaaaaaaaaaaaaaaaaaaaaaaaaaaaaaaaaaaaaaaaaaaaaaaa', message_len=98, padded_m=b'aaaaaaaaaaaaaaaaaaaaaaaaaaaaaaaaaaaaaaaaaaaaaaaaaaaaaaaaaaaaaaaaaaaaaaaaaaaaaaaaaaaaaaaaaaaaaaaaaa\\x0e\\x0e\\x0e\\x0e\\x0e\\x0e\\x0e\\x0e\\x0e\\x0e\\x0e\\x0e\\x0e\\x0e'\n",
      "message_len=b'aaaaaaaaaaaaaaaaaaaaaaaaaaaaaaaaaaaaaaaaaaaaaaaaaaaaaaaaaaaaaaaaaaaaaaaaaaaaaaaaaaaaaaaaaaaaaaaaaaa', message_len=99, padded_m=b'aaaaaaaaaaaaaaaaaaaaaaaaaaaaaaaaaaaaaaaaaaaaaaaaaaaaaaaaaaaaaaaaaaaaaaaaaaaaaaaaaaaaaaaaaaaaaaaaaaa\\r\\r\\r\\r\\r\\r\\r\\r\\r\\r\\r\\r\\r'\n",
      "message_len=b'aaaaaaaaaaaaaaaaaaaaaaaaaaaaaaaaaaaaaaaaaaaaaaaaaaaaaaaaaaaaaaaaaaaaaaaaaaaaaaaaaaaaaaaaaaaaaaaaaaaa', message_len=100, padded_m=b'aaaaaaaaaaaaaaaaaaaaaaaaaaaaaaaaaaaaaaaaaaaaaaaaaaaaaaaaaaaaaaaaaaaaaaaaaaaaaaaaaaaaaaaaaaaaaaaaaaaa\\x0c\\x0c\\x0c\\x0c\\x0c\\x0c\\x0c\\x0c\\x0c\\x0c\\x0c\\x0c'\n",
      "message_len=b'aaaaaaaaaaaaaaaaaaaaaaaaaaaaaaaaaaaaaaaaaaaaaaaaaaaaaaaaaaaaaaaaaaaaaaaaaaaaaaaaaaaaaaaaaaaaaaaaaaaaa', message_len=101, padded_m=b'aaaaaaaaaaaaaaaaaaaaaaaaaaaaaaaaaaaaaaaaaaaaaaaaaaaaaaaaaaaaaaaaaaaaaaaaaaaaaaaaaaaaaaaaaaaaaaaaaaaaa\\x0b\\x0b\\x0b\\x0b\\x0b\\x0b\\x0b\\x0b\\x0b\\x0b\\x0b'\n",
      "message_len=b'aaaaaaaaaaaaaaaaaaaaaaaaaaaaaaaaaaaaaaaaaaaaaaaaaaaaaaaaaaaaaaaaaaaaaaaaaaaaaaaaaaaaaaaaaaaaaaaaaaaaaa', message_len=102, padded_m=b'aaaaaaaaaaaaaaaaaaaaaaaaaaaaaaaaaaaaaaaaaaaaaaaaaaaaaaaaaaaaaaaaaaaaaaaaaaaaaaaaaaaaaaaaaaaaaaaaaaaaaa\\n\\n\\n\\n\\n\\n\\n\\n\\n\\n'\n",
      "message_len=b'aaaaaaaaaaaaaaaaaaaaaaaaaaaaaaaaaaaaaaaaaaaaaaaaaaaaaaaaaaaaaaaaaaaaaaaaaaaaaaaaaaaaaaaaaaaaaaaaaaaaaaa', message_len=103, padded_m=b'aaaaaaaaaaaaaaaaaaaaaaaaaaaaaaaaaaaaaaaaaaaaaaaaaaaaaaaaaaaaaaaaaaaaaaaaaaaaaaaaaaaaaaaaaaaaaaaaaaaaaaa\\t\\t\\t\\t\\t\\t\\t\\t\\t'\n",
      "message_len=b'aaaaaaaaaaaaaaaaaaaaaaaaaaaaaaaaaaaaaaaaaaaaaaaaaaaaaaaaaaaaaaaaaaaaaaaaaaaaaaaaaaaaaaaaaaaaaaaaaaaaaaaa', message_len=104, padded_m=b'aaaaaaaaaaaaaaaaaaaaaaaaaaaaaaaaaaaaaaaaaaaaaaaaaaaaaaaaaaaaaaaaaaaaaaaaaaaaaaaaaaaaaaaaaaaaaaaaaaaaaaaa\\x08\\x08\\x08\\x08\\x08\\x08\\x08\\x08'\n",
      "message_len=b'aaaaaaaaaaaaaaaaaaaaaaaaaaaaaaaaaaaaaaaaaaaaaaaaaaaaaaaaaaaaaaaaaaaaaaaaaaaaaaaaaaaaaaaaaaaaaaaaaaaaaaaaa', message_len=105, padded_m=b'aaaaaaaaaaaaaaaaaaaaaaaaaaaaaaaaaaaaaaaaaaaaaaaaaaaaaaaaaaaaaaaaaaaaaaaaaaaaaaaaaaaaaaaaaaaaaaaaaaaaaaaaa\\x07\\x07\\x07\\x07\\x07\\x07\\x07'\n",
      "message_len=b'aaaaaaaaaaaaaaaaaaaaaaaaaaaaaaaaaaaaaaaaaaaaaaaaaaaaaaaaaaaaaaaaaaaaaaaaaaaaaaaaaaaaaaaaaaaaaaaaaaaaaaaaaa', message_len=106, padded_m=b'aaaaaaaaaaaaaaaaaaaaaaaaaaaaaaaaaaaaaaaaaaaaaaaaaaaaaaaaaaaaaaaaaaaaaaaaaaaaaaaaaaaaaaaaaaaaaaaaaaaaaaaaaa\\x06\\x06\\x06\\x06\\x06\\x06'\n",
      "message_len=b'aaaaaaaaaaaaaaaaaaaaaaaaaaaaaaaaaaaaaaaaaaaaaaaaaaaaaaaaaaaaaaaaaaaaaaaaaaaaaaaaaaaaaaaaaaaaaaaaaaaaaaaaaaa', message_len=107, padded_m=b'aaaaaaaaaaaaaaaaaaaaaaaaaaaaaaaaaaaaaaaaaaaaaaaaaaaaaaaaaaaaaaaaaaaaaaaaaaaaaaaaaaaaaaaaaaaaaaaaaaaaaaaaaaa\\x05\\x05\\x05\\x05\\x05'\n",
      "message_len=b'aaaaaaaaaaaaaaaaaaaaaaaaaaaaaaaaaaaaaaaaaaaaaaaaaaaaaaaaaaaaaaaaaaaaaaaaaaaaaaaaaaaaaaaaaaaaaaaaaaaaaaaaaaaa', message_len=108, padded_m=b'aaaaaaaaaaaaaaaaaaaaaaaaaaaaaaaaaaaaaaaaaaaaaaaaaaaaaaaaaaaaaaaaaaaaaaaaaaaaaaaaaaaaaaaaaaaaaaaaaaaaaaaaaaaa\\x04\\x04\\x04\\x04'\n",
      "message_len=b'aaaaaaaaaaaaaaaaaaaaaaaaaaaaaaaaaaaaaaaaaaaaaaaaaaaaaaaaaaaaaaaaaaaaaaaaaaaaaaaaaaaaaaaaaaaaaaaaaaaaaaaaaaaaa', message_len=109, padded_m=b'aaaaaaaaaaaaaaaaaaaaaaaaaaaaaaaaaaaaaaaaaaaaaaaaaaaaaaaaaaaaaaaaaaaaaaaaaaaaaaaaaaaaaaaaaaaaaaaaaaaaaaaaaaaaa\\x03\\x03\\x03'\n",
      "message_len=b'aaaaaaaaaaaaaaaaaaaaaaaaaaaaaaaaaaaaaaaaaaaaaaaaaaaaaaaaaaaaaaaaaaaaaaaaaaaaaaaaaaaaaaaaaaaaaaaaaaaaaaaaaaaaaa', message_len=110, padded_m=b'aaaaaaaaaaaaaaaaaaaaaaaaaaaaaaaaaaaaaaaaaaaaaaaaaaaaaaaaaaaaaaaaaaaaaaaaaaaaaaaaaaaaaaaaaaaaaaaaaaaaaaaaaaaaaa\\x02\\x02'\n",
      "message_len=b'aaaaaaaaaaaaaaaaaaaaaaaaaaaaaaaaaaaaaaaaaaaaaaaaaaaaaaaaaaaaaaaaaaaaaaaaaaaaaaaaaaaaaaaaaaaaaaaaaaaaaaaaaaaaaaa', message_len=111, padded_m=b'aaaaaaaaaaaaaaaaaaaaaaaaaaaaaaaaaaaaaaaaaaaaaaaaaaaaaaaaaaaaaaaaaaaaaaaaaaaaaaaaaaaaaaaaaaaaaaaaaaaaaaaaaaaaaaa\\x01'\n",
      "message_len=b'aaaaaaaaaaaaaaaaaaaaaaaaaaaaaaaaaaaaaaaaaaaaaaaaaaaaaaaaaaaaaaaaaaaaaaaaaaaaaaaaaaaaaaaaaaaaaaaaaaaaaaaaaaaaaaaa', message_len=112, padded_m=b'aaaaaaaaaaaaaaaaaaaaaaaaaaaaaaaaaaaaaaaaaaaaaaaaaaaaaaaaaaaaaaaaaaaaaaaaaaaaaaaaaaaaaaaaaaaaaaaaaaaaaaaaaaaaaaaa\\x10\\x10\\x10\\x10\\x10\\x10\\x10\\x10\\x10\\x10\\x10\\x10\\x10\\x10\\x10\\x10'\n",
      "message_len=b'aaaaaaaaaaaaaaaaaaaaaaaaaaaaaaaaaaaaaaaaaaaaaaaaaaaaaaaaaaaaaaaaaaaaaaaaaaaaaaaaaaaaaaaaaaaaaaaaaaaaaaaaaaaaaaaaa', message_len=113, padded_m=b'aaaaaaaaaaaaaaaaaaaaaaaaaaaaaaaaaaaaaaaaaaaaaaaaaaaaaaaaaaaaaaaaaaaaaaaaaaaaaaaaaaaaaaaaaaaaaaaaaaaaaaaaaaaaaaaaa\\x0f\\x0f\\x0f\\x0f\\x0f\\x0f\\x0f\\x0f\\x0f\\x0f\\x0f\\x0f\\x0f\\x0f\\x0f'\n",
      "message_len=b'aaaaaaaaaaaaaaaaaaaaaaaaaaaaaaaaaaaaaaaaaaaaaaaaaaaaaaaaaaaaaaaaaaaaaaaaaaaaaaaaaaaaaaaaaaaaaaaaaaaaaaaaaaaaaaaaaa', message_len=114, padded_m=b'aaaaaaaaaaaaaaaaaaaaaaaaaaaaaaaaaaaaaaaaaaaaaaaaaaaaaaaaaaaaaaaaaaaaaaaaaaaaaaaaaaaaaaaaaaaaaaaaaaaaaaaaaaaaaaaaaa\\x0e\\x0e\\x0e\\x0e\\x0e\\x0e\\x0e\\x0e\\x0e\\x0e\\x0e\\x0e\\x0e\\x0e'\n",
      "message_len=b'aaaaaaaaaaaaaaaaaaaaaaaaaaaaaaaaaaaaaaaaaaaaaaaaaaaaaaaaaaaaaaaaaaaaaaaaaaaaaaaaaaaaaaaaaaaaaaaaaaaaaaaaaaaaaaaaaaa', message_len=115, padded_m=b'aaaaaaaaaaaaaaaaaaaaaaaaaaaaaaaaaaaaaaaaaaaaaaaaaaaaaaaaaaaaaaaaaaaaaaaaaaaaaaaaaaaaaaaaaaaaaaaaaaaaaaaaaaaaaaaaaaa\\r\\r\\r\\r\\r\\r\\r\\r\\r\\r\\r\\r\\r'\n",
      "message_len=b'aaaaaaaaaaaaaaaaaaaaaaaaaaaaaaaaaaaaaaaaaaaaaaaaaaaaaaaaaaaaaaaaaaaaaaaaaaaaaaaaaaaaaaaaaaaaaaaaaaaaaaaaaaaaaaaaaaaa', message_len=116, padded_m=b'aaaaaaaaaaaaaaaaaaaaaaaaaaaaaaaaaaaaaaaaaaaaaaaaaaaaaaaaaaaaaaaaaaaaaaaaaaaaaaaaaaaaaaaaaaaaaaaaaaaaaaaaaaaaaaaaaaaa\\x0c\\x0c\\x0c\\x0c\\x0c\\x0c\\x0c\\x0c\\x0c\\x0c\\x0c\\x0c'\n",
      "message_len=b'aaaaaaaaaaaaaaaaaaaaaaaaaaaaaaaaaaaaaaaaaaaaaaaaaaaaaaaaaaaaaaaaaaaaaaaaaaaaaaaaaaaaaaaaaaaaaaaaaaaaaaaaaaaaaaaaaaaaa', message_len=117, padded_m=b'aaaaaaaaaaaaaaaaaaaaaaaaaaaaaaaaaaaaaaaaaaaaaaaaaaaaaaaaaaaaaaaaaaaaaaaaaaaaaaaaaaaaaaaaaaaaaaaaaaaaaaaaaaaaaaaaaaaaa\\x0b\\x0b\\x0b\\x0b\\x0b\\x0b\\x0b\\x0b\\x0b\\x0b\\x0b'\n",
      "message_len=b'aaaaaaaaaaaaaaaaaaaaaaaaaaaaaaaaaaaaaaaaaaaaaaaaaaaaaaaaaaaaaaaaaaaaaaaaaaaaaaaaaaaaaaaaaaaaaaaaaaaaaaaaaaaaaaaaaaaaaa', message_len=118, padded_m=b'aaaaaaaaaaaaaaaaaaaaaaaaaaaaaaaaaaaaaaaaaaaaaaaaaaaaaaaaaaaaaaaaaaaaaaaaaaaaaaaaaaaaaaaaaaaaaaaaaaaaaaaaaaaaaaaaaaaaaa\\n\\n\\n\\n\\n\\n\\n\\n\\n\\n'\n",
      "message_len=b'aaaaaaaaaaaaaaaaaaaaaaaaaaaaaaaaaaaaaaaaaaaaaaaaaaaaaaaaaaaaaaaaaaaaaaaaaaaaaaaaaaaaaaaaaaaaaaaaaaaaaaaaaaaaaaaaaaaaaaa', message_len=119, padded_m=b'aaaaaaaaaaaaaaaaaaaaaaaaaaaaaaaaaaaaaaaaaaaaaaaaaaaaaaaaaaaaaaaaaaaaaaaaaaaaaaaaaaaaaaaaaaaaaaaaaaaaaaaaaaaaaaaaaaaaaaa\\t\\t\\t\\t\\t\\t\\t\\t\\t'\n",
      "message_len=b'aaaaaaaaaaaaaaaaaaaaaaaaaaaaaaaaaaaaaaaaaaaaaaaaaaaaaaaaaaaaaaaaaaaaaaaaaaaaaaaaaaaaaaaaaaaaaaaaaaaaaaaaaaaaaaaaaaaaaaaa', message_len=120, padded_m=b'aaaaaaaaaaaaaaaaaaaaaaaaaaaaaaaaaaaaaaaaaaaaaaaaaaaaaaaaaaaaaaaaaaaaaaaaaaaaaaaaaaaaaaaaaaaaaaaaaaaaaaaaaaaaaaaaaaaaaaaa\\x08\\x08\\x08\\x08\\x08\\x08\\x08\\x08'\n",
      "message_len=b'aaaaaaaaaaaaaaaaaaaaaaaaaaaaaaaaaaaaaaaaaaaaaaaaaaaaaaaaaaaaaaaaaaaaaaaaaaaaaaaaaaaaaaaaaaaaaaaaaaaaaaaaaaaaaaaaaaaaaaaaa', message_len=121, padded_m=b'aaaaaaaaaaaaaaaaaaaaaaaaaaaaaaaaaaaaaaaaaaaaaaaaaaaaaaaaaaaaaaaaaaaaaaaaaaaaaaaaaaaaaaaaaaaaaaaaaaaaaaaaaaaaaaaaaaaaaaaaa\\x07\\x07\\x07\\x07\\x07\\x07\\x07'\n",
      "message_len=b'aaaaaaaaaaaaaaaaaaaaaaaaaaaaaaaaaaaaaaaaaaaaaaaaaaaaaaaaaaaaaaaaaaaaaaaaaaaaaaaaaaaaaaaaaaaaaaaaaaaaaaaaaaaaaaaaaaaaaaaaaa', message_len=122, padded_m=b'aaaaaaaaaaaaaaaaaaaaaaaaaaaaaaaaaaaaaaaaaaaaaaaaaaaaaaaaaaaaaaaaaaaaaaaaaaaaaaaaaaaaaaaaaaaaaaaaaaaaaaaaaaaaaaaaaaaaaaaaaa\\x06\\x06\\x06\\x06\\x06\\x06'\n",
      "message_len=b'aaaaaaaaaaaaaaaaaaaaaaaaaaaaaaaaaaaaaaaaaaaaaaaaaaaaaaaaaaaaaaaaaaaaaaaaaaaaaaaaaaaaaaaaaaaaaaaaaaaaaaaaaaaaaaaaaaaaaaaaaaa', message_len=123, padded_m=b'aaaaaaaaaaaaaaaaaaaaaaaaaaaaaaaaaaaaaaaaaaaaaaaaaaaaaaaaaaaaaaaaaaaaaaaaaaaaaaaaaaaaaaaaaaaaaaaaaaaaaaaaaaaaaaaaaaaaaaaaaaa\\x05\\x05\\x05\\x05\\x05'\n",
      "message_len=b'aaaaaaaaaaaaaaaaaaaaaaaaaaaaaaaaaaaaaaaaaaaaaaaaaaaaaaaaaaaaaaaaaaaaaaaaaaaaaaaaaaaaaaaaaaaaaaaaaaaaaaaaaaaaaaaaaaaaaaaaaaaa', message_len=124, padded_m=b'aaaaaaaaaaaaaaaaaaaaaaaaaaaaaaaaaaaaaaaaaaaaaaaaaaaaaaaaaaaaaaaaaaaaaaaaaaaaaaaaaaaaaaaaaaaaaaaaaaaaaaaaaaaaaaaaaaaaaaaaaaaa\\x04\\x04\\x04\\x04'\n",
      "message_len=b'aaaaaaaaaaaaaaaaaaaaaaaaaaaaaaaaaaaaaaaaaaaaaaaaaaaaaaaaaaaaaaaaaaaaaaaaaaaaaaaaaaaaaaaaaaaaaaaaaaaaaaaaaaaaaaaaaaaaaaaaaaaaa', message_len=125, padded_m=b'aaaaaaaaaaaaaaaaaaaaaaaaaaaaaaaaaaaaaaaaaaaaaaaaaaaaaaaaaaaaaaaaaaaaaaaaaaaaaaaaaaaaaaaaaaaaaaaaaaaaaaaaaaaaaaaaaaaaaaaaaaaaa\\x03\\x03\\x03'\n",
      "message_len=b'aaaaaaaaaaaaaaaaaaaaaaaaaaaaaaaaaaaaaaaaaaaaaaaaaaaaaaaaaaaaaaaaaaaaaaaaaaaaaaaaaaaaaaaaaaaaaaaaaaaaaaaaaaaaaaaaaaaaaaaaaaaaaa', message_len=126, padded_m=b'aaaaaaaaaaaaaaaaaaaaaaaaaaaaaaaaaaaaaaaaaaaaaaaaaaaaaaaaaaaaaaaaaaaaaaaaaaaaaaaaaaaaaaaaaaaaaaaaaaaaaaaaaaaaaaaaaaaaaaaaaaaaaa\\x02\\x02'\n",
      "message_len=b'aaaaaaaaaaaaaaaaaaaaaaaaaaaaaaaaaaaaaaaaaaaaaaaaaaaaaaaaaaaaaaaaaaaaaaaaaaaaaaaaaaaaaaaaaaaaaaaaaaaaaaaaaaaaaaaaaaaaaaaaaaaaaaa', message_len=127, padded_m=b'aaaaaaaaaaaaaaaaaaaaaaaaaaaaaaaaaaaaaaaaaaaaaaaaaaaaaaaaaaaaaaaaaaaaaaaaaaaaaaaaaaaaaaaaaaaaaaaaaaaaaaaaaaaaaaaaaaaaaaaaaaaaaaa\\x01'\n"
     ]
    }
   ],
   "source": [
    "secret_key = os.urandom(32)\n",
    "iv = os.urandom(16)\n",
    "\n",
    "cipher = Cipher(algorithms.AES(secret_key), modes.CBC(iv), backend=default_backend())\n",
    "block_size = 16\n",
    "\n",
    "for message_len in range(128):\n",
    "    m = str.encode(\"a\"*message_len)\n",
    "    padder = padding.PKCS7(8*block_size).padder()\n",
    "    m_padded = padder.update(m) + padder.finalize()\n",
    "    encryptor = cipher.encryptor()\n",
    "    \n",
    "    ctx = encryptor.update(m_padded) + encryptor.finalize()\n",
    "    #print(f\"message_len={message_len}, padded_m_len={len(m_padded)}, ctx_len={len(ctx)}\")\n",
    "    print(f\"message_len={m}, message_len={message_len}, padded_m={m_padded}\")"
   ]
  },
  {
   "cell_type": "markdown",
   "id": "polish-parts",
   "metadata": {},
   "source": [
    "## Bonus: Fernet\n",
    "\n",
    "Another block cipher implemented in cryptography package is [Fernet](https://asecuritysite.com/encryption/fernet). "
   ]
  },
  {
   "cell_type": "code",
   "execution_count": null,
   "id": "choice-supply",
   "metadata": {},
   "outputs": [],
   "source": [
    "from cryptography.fernet import Fernet\n",
    "\n",
    "# secret key generation\n",
    "secret_key = Fernet.generate_key()\n",
    "box = Fernet(secret_key)\n",
    "\n",
    "max_len = 100\n",
    "for n in range(1, max_len):\n",
    "    # generate messages of n a's\n",
    "    message = \"\".join([\"a\" for _ in range(n)])\n",
    "    message = str.encode(message)\n",
    "    \n",
    "    ciphertext = box.encrypt(message)\n",
    "    print(f\"len_message: {len(message)}, len_ciphertext: {len(ciphertext)}\")\n"
   ]
  },
  {
   "cell_type": "code",
   "execution_count": null,
   "id": "raised-steps",
   "metadata": {},
   "outputs": [],
   "source": []
  }
 ],
 "metadata": {
  "kernelspec": {
   "display_name": "Python 3",
   "language": "python",
   "name": "python3"
  },
  "language_info": {
   "codemirror_mode": {
    "name": "ipython",
    "version": 3
   },
   "file_extension": ".py",
   "mimetype": "text/x-python",
   "name": "python",
   "nbconvert_exporter": "python",
   "pygments_lexer": "ipython3",
   "version": "3.6.7"
  }
 },
 "nbformat": 4,
 "nbformat_minor": 5
}
