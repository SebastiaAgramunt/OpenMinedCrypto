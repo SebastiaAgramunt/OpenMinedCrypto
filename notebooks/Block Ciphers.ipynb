{
 "cells": [
  {
   "cell_type": "markdown",
   "id": "strategic-sponsorship",
   "metadata": {},
   "source": [
    "# Bock ciphers\n",
    "\n",
    "Data is encrypted in blocks of certain amount of bytes, for instance 16 bytes. In general a block cipher that encodes with size 16 calculates ciphertexts of size multiple 16."
   ]
  },
  {
   "cell_type": "markdown",
   "id": "vertical-webmaster",
   "metadata": {},
   "source": [
    "<img src=\"img/block_cipher.png\" style=\"width:1100px\"/>"
   ]
  },
  {
   "cell_type": "markdown",
   "id": "constant-bulletin",
   "metadata": {},
   "source": [
    "## Padding a message\n",
    "\n",
    "Most of the times the lenght of the message is not a multiple of the block size so we need to \"pad\" the message to have the required length. A common padding function is [PKCS7](https://en.wikipedia.org/wiki/Padding_(cryptography)). Basically what PKCS7 does is appendinng a list of bytes with the same value corresponding to the number of bytes needed to complete the block.\n",
    "\n",
    "\n",
    "We will use PKCS7 it in the next example:"
   ]
  },
  {
   "cell_type": "code",
   "execution_count": 1,
   "id": "surrounded-cylinder",
   "metadata": {},
   "outputs": [
    {
     "name": "stdout",
     "output_type": "stream",
     "text": [
      "message:\n",
      "\tb'Cryptography is a complex subject after all...'\n",
      "(bin) \n",
      "\t01000011011100100111100101110000011101000110111101100111011100100110000101110000011010000111100100100000011010010111001100100000011000010010000001100011011011110110110101110000011011000110010101111000001000000111001101110101011000100110101001100101011000110111010000100000011000010110011001110100011001010111001000100000011000010110110001101100001011100010111000101110\n",
      "(hex) \n",
      "\t43727970746f677261706879206973206120636f6d706c6578207375626a65637420616674657220616c6c2e2e2e\n"
     ]
    }
   ],
   "source": [
    "from crypto import bytes_to_bin, bytes_to_hex\n",
    "\n",
    "message = b\"Cryptography is a complex subject after all...\"\n",
    "bin_repr = bytes_to_bin(message, pre=\"\")\n",
    "hex_repr = bytes_to_hex(message, pre=\"\")\n",
    "\n",
    "print(f\"message:\\n\\t{message}\")\n",
    "print(f\"(bin) \\n\\t{bin_repr}\")\n",
    "print(f\"(hex) \\n\\t{hex_repr}\")"
   ]
  },
  {
   "cell_type": "code",
   "execution_count": 2,
   "id": "accompanied-oakland",
   "metadata": {},
   "outputs": [
    {
     "name": "stdout",
     "output_type": "stream",
     "text": [
      "message is 46 bytes or 368 bits\n"
     ]
    }
   ],
   "source": [
    "print(f\"message is {len(message)} bytes or {len(bin_repr)} bits\")"
   ]
  },
  {
   "cell_type": "code",
   "execution_count": 3,
   "id": "nervous-burden",
   "metadata": {},
   "outputs": [
    {
     "name": "stdout",
     "output_type": "stream",
     "text": [
      "b'Cryptography is a complex subject after all...\\x02\\x02'\n"
     ]
    }
   ],
   "source": [
    "def PKCS7(m: bytes, block_size_bytes = 16):\n",
    "    n_bytes = block_size_bytes - len(m)%block_size_bytes\n",
    "    pad = bytes([n_bytes for _ in range(n_bytes)])\n",
    "    return m + pad\n",
    "    \n",
    "padded_message = PKCS7(message)\n",
    "print(padded_message)"
   ]
  },
  {
   "cell_type": "code",
   "execution_count": 4,
   "id": "extreme-capture",
   "metadata": {},
   "outputs": [
    {
     "name": "stdout",
     "output_type": "stream",
     "text": [
      "message:\n",
      "\t'b'Cryptography is a complex subject after all...''\n",
      "\n",
      "padded_data: \n",
      "\tb'Cryptography is a complex subject after all...\\x02\\x02'\n",
      "\n",
      "bytes per block: 16\n",
      "bits per block: 128\n",
      "message length: 46\n",
      "padded_message lenght: 48\n"
     ]
    }
   ],
   "source": [
    "from cryptography.hazmat.primitives import padding\n",
    "\n",
    "block_size_bits = 128\n",
    "\n",
    "padder = padding.PKCS7(block_size_bits).padder()\n",
    "padded_mesage = padder.update(message) + padder.finalize()\n",
    "\n",
    "print(f\"message:\\n\\t'{message}'\")\n",
    "print(f\"\\npadded_data: \\n\\t{padded_mesage}\\n\")\n",
    "\n",
    "print(f\"bytes per block: {int(block_size_bits/8)}\")\n",
    "print(f\"bits per block: {block_size_bits}\")\n",
    "print(f\"message length: {len(message)}\")\n",
    "print(f\"padded_message lenght: {len(padded_mesage)}\")"
   ]
  },
  {
   "cell_type": "markdown",
   "id": "organized-moment",
   "metadata": {},
   "source": [
    "## Encrypting using AES (Advanced Encryption Algorithm)\n",
    "\n",
    "AES is a block cipher that was established as a standard by NIST in 2001. AES is a subset of the Rijndael block cipher developed by Vincent Rijmen and Joan Daemen submitted to NIST during the [AES selection process](https://en.wikipedia.org/wiki/Advanced_Encryption_Standard_process).\n",
    "\n",
    "\n",
    "We are not going to go into the details of te exact implementation but the readers are referred to the book of [Katz and Lindell](http://www.cs.umd.edu/~jkatz/imc.html) Chapter 6 section 2. Also Mike Pound explains AES in this [video](https://www.youtube.com/watch?v=O4xNJsjtN6E&t=524s&ab_channel=Computerphile), check it out!"
   ]
  },
  {
   "cell_type": "code",
   "execution_count": 5,
   "id": "sunset-extraction",
   "metadata": {},
   "outputs": [],
   "source": [
    "from cryptography.hazmat.primitives.ciphers import Cipher, algorithms, modes\n",
    "from cryptography.hazmat.backends import default_backend\n",
    "import os\n",
    "\n",
    "\n",
    "secret_key = os.urandom(32)\n",
    "\n",
    "cipher = Cipher(algorithms.AES(secret_key), modes.ECB(), backend=default_backend())\n",
    "\n",
    "encryptor = cipher.encryptor()\n",
    "decryptor = cipher.decryptor()"
   ]
  },
  {
   "cell_type": "code",
   "execution_count": 6,
   "id": "aware-sacrifice",
   "metadata": {},
   "outputs": [
    {
     "name": "stdout",
     "output_type": "stream",
     "text": [
      "Decrypted message:\n",
      "b'Cryptography is a complex subject after all...\\x02\\x02'\n"
     ]
    }
   ],
   "source": [
    "ctx = encryptor.update(padded_message) + encryptor.finalize()\n",
    "print(f\"Decrypted message:\\n{decryptor.update(ctx) + decryptor.finalize()}\")"
   ]
  },
  {
   "cell_type": "markdown",
   "id": "weird-filename",
   "metadata": {},
   "source": [
    "## The mode of operation\n",
    "\n",
    "A block cipher by itself is only suitable for the secure cryptographic transformation (encryption or decryption) of one fixed-length group of bits called a block. A mode of operation describes how to repeatedly apply a cipher's single-block operation to securely transform amounts of data larger than a block ([Wikipedia](https://en.wikipedia.org/wiki/Block_cipher_mode_of_operation)).\n",
    "\n",
    "The first mode is \"not doing anything\", this is the Electronic Codebook mode. See the figure below (from Wikipedia)."
   ]
  },
  {
   "cell_type": "markdown",
   "id": "capable-command",
   "metadata": {},
   "source": [
    "<img src=\"img/ECB_mode.png\" style=\"width:1100px\"/>"
   ]
  },
  {
   "cell_type": "markdown",
   "id": "critical-cinema",
   "metadata": {},
   "source": [
    "We are lucky and in ```cryptography``` package ECB implemented in ```cryptography.hazmat.primitives.ciphers.ECB``` function (we've seen in the previous example!)."
   ]
  },
  {
   "cell_type": "code",
   "execution_count": 7,
   "id": "falling-breeding",
   "metadata": {},
   "outputs": [],
   "source": [
    "secret_key = os.urandom(32)\n",
    "\n",
    "cipher = Cipher(algorithms.AES(secret_key), modes.ECB(), backend=default_backend())\n",
    "\n",
    "encryptor = cipher.encryptor()\n",
    "decryptor = cipher.decryptor()"
   ]
  },
  {
   "cell_type": "markdown",
   "id": "surprised-aspect",
   "metadata": {},
   "source": [
    "Now we can encrypt the same message twice and see what we get in the ciphertext:"
   ]
  },
  {
   "cell_type": "code",
   "execution_count": 8,
   "id": "bigger-suspension",
   "metadata": {},
   "outputs": [
    {
     "name": "stdout",
     "output_type": "stream",
     "text": [
      "b'\\xe4\\xd5\\xab\\xd7\\xf8[\\xeaG\\xf1\\xa1`\\xecq2\\xeej\\xe9\\xbd|?\\xa2\\xb9V\\x1b3vc\\xb1iZT\\x17_\\xad\\x0b ,\\xeb\\x88iQ\\xeaa\\x18\\xf2R3\\xdf'\n",
      "b'\\xe4\\xd5\\xab\\xd7\\xf8[\\xeaG\\xf1\\xa1`\\xecq2\\xeej\\xe9\\xbd|?\\xa2\\xb9V\\x1b3vc\\xb1iZT\\x17_\\xad\\x0b ,\\xeb\\x88iQ\\xeaa\\x18\\xf2R3\\xdf'\n"
     ]
    }
   ],
   "source": [
    "ctx = encryptor.update(padded_message+padded_message) + encryptor.finalize()\n",
    "print(ctx[0: len(padded_message)])\n",
    "print(ctx[len(padded_message):])"
   ]
  },
  {
   "cell_type": "code",
   "execution_count": 9,
   "id": "noted-particular",
   "metadata": {},
   "outputs": [],
   "source": [
    "from PIL import Image \n",
    "image_file = Image.open(\"img/sagrada_familia.jpg\") # open colour image\n",
    "image_file = image_file.convert('1') # convert image to black and white\n",
    "image_file.save('img/sagrada_familia_bw.jpg')"
   ]
  },
  {
   "cell_type": "code",
   "execution_count": 10,
   "id": "interstate-tower",
   "metadata": {},
   "outputs": [
    {
     "name": "stdout",
     "output_type": "stream",
     "text": [
      "uint8\n",
      "(640, 480, 3)\n"
     ]
    },
    {
     "data": {
      "image/png": "[encoded data removed]",
      "text/plain": [
       "<Figure size 432x288 with 1 Axes>"
      ]
     },
     "metadata": {
      "needs_background": "light"
     },
     "output_type": "display_data"
    }
   ],
   "source": [
    "# load and display an image with Matplotlib\n",
    "from PIL import Image\n",
    "from matplotlib import image\n",
    "from matplotlib import pyplot\n",
    "\n",
    "image = image.imread('img/sagrada_familia.jpg')\n",
    "#image = image[:, :, 0]\n",
    "print(image.dtype)\n",
    "print(image.shape)\n",
    "\n",
    "pyplot.imshow(image, cmap='Greys')\n",
    "pyplot.show()"
   ]
  },
  {
   "cell_type": "code",
   "execution_count": 15,
   "id": "religious-vision",
   "metadata": {},
   "outputs": [
    {
     "data": {
      "text/plain": [
       "array([ 3,  3,  3,  3,  3,  3,  3,  3,  3,  3,  3,  3,  3,  3,  3,  3,  3,\n",
       "        3,  3,  3,  3,  3,  3,  3,  3,  3,  3,  3,  3,  3,  3,  3,  3,  3,\n",
       "        3,  3,  3,  3,  3,  3,  3,  3,  3,  3,  3,  3,  3,  3,  3,  3,  3,\n",
       "        3,  3,  3,  3,  3,  3,  3,  3,  3,  3,  3,  3,  3,  4,  2,  0,  8,\n",
       "       27, 27, 10,  0,  0, 10,  3,  0,  4, 18, 24, 29, 43, 18,  0,  3, 17,\n",
       "       11,  0,  0, 18, 21,  1, 10, 23, 13, 28, 34, 62, 46, 27, 19, 22, 26,\n",
       "       25, 21, 26, 25, 22, 19, 17, 16, 16, 16, 13, 13, 14, 15, 15, 14, 12,\n",
       "       11, 12, 12, 12, 11, 10, 10, 12, 14, 12, 12, 12, 12, 11, 11, 11, 11,\n",
       "       11, 11, 10,  9,  8,  8,  8,  9,  8,  8,  8,  8,  8,  8,  8,  8,  7,\n",
       "        7,  6,  6,  6,  6,  7,  7,  7,  7,  7,  7,  7,  7,  7,  7,  6,  6,\n",
       "        6,  6,  6,  6,  6,  6,  6,  6,  6,  6,  6,  6,  6,  6,  5,  5,  5,\n",
       "        5,  5,  5,  5,  5,  6,  6,  6,  6,  6,  6,  6,  6,  6,  6,  6,  6,\n",
       "        6,  5,  5,  5,  5,  5,  5,  5,  5,  5,  5,  5,  4,  4,  5,  5,  5,\n",
       "        5,  4,  4,  4,  4,  4,  4,  4,  4,  4,  4,  4,  4,  4,  4,  4,  4,\n",
       "        4,  4,  3,  3,  3,  3,  4,  4,  4,  4,  3,  3,  4,  4,  4,  4,  3,\n",
       "        3,  3,  3,  4,  4,  4,  4,  3,  3,  5,  5,  5,  5,  5,  4,  4,  3,\n",
       "        4,  4,  5,  5,  5,  5,  6,  6,  6,  6,  6,  6,  6,  6,  6,  6,  6,\n",
       "        7,  7,  7,  8,  9,  9,  9,  9, 10, 11, 12, 12, 12, 12, 12, 10, 10,\n",
       "        9,  9,  9,  9, 10, 10,  8,  9, 14, 26, 37, 39, 30, 20, 23, 13,  9,\n",
       "       13, 37, 48, 25, 15,  8, 11, 26, 17,  6,  9,  3,  1,  4, 24, 33,  0,\n",
       "        4,  0,  2,  0,  3,  4,  4,  2,  0,  1,  4,  7,  3, 10,  2, 11, 64,\n",
       "       64, 10,  0,  0,  3,  6,  4,  1,  0,  3,  5,  2,  3,  3,  3,  3,  3,\n",
       "        3,  2,  0,  3,  0,  5,  8,  1, 10, 18, 17, 15, 14, 14, 14, 12,  7,\n",
       "        2,  5,  5,  5,  4,  4,  3,  3,  3,  3,  3,  3,  3,  3,  2,  2,  2,\n",
       "        3,  3,  3,  3,  3,  3,  3,  3,  3,  3,  3,  3,  3,  3,  3,  3,  3,\n",
       "        3,  3,  3,  3,  3,  3,  3,  3,  3,  3,  3,  3,  3,  3,  3,  3,  3,\n",
       "        3,  3,  3,  3,  3,  3,  3,  3,  3,  3,  3,  3,  3,  3,  3,  3,  3,\n",
       "        3,  3,  3,  3,  3,  3,  3,  3,  3,  3,  3,  3,  3,  3,  3,  3,  3,\n",
       "        3,  3,  3,  3], dtype=uint8)"
      ]
     },
     "execution_count": 15,
     "metadata": {},
     "output_type": "execute_result"
    }
   ],
   "source": [
    "image[:,:,2][5]"
   ]
  },
  {
   "cell_type": "code",
   "execution_count": null,
   "id": "alleged-pitch",
   "metadata": {},
   "outputs": [],
   "source": []
  },
  {
   "cell_type": "code",
   "execution_count": null,
   "id": "breeding-transportation",
   "metadata": {},
   "outputs": [],
   "source": []
  },
  {
   "cell_type": "code",
   "execution_count": null,
   "id": "smooth-celtic",
   "metadata": {},
   "outputs": [],
   "source": []
  },
  {
   "cell_type": "code",
   "execution_count": null,
   "id": "seven-executive",
   "metadata": {},
   "outputs": [],
   "source": []
  },
  {
   "cell_type": "code",
   "execution_count": null,
   "id": "raised-being",
   "metadata": {},
   "outputs": [],
   "source": []
  },
  {
   "cell_type": "markdown",
   "id": "protective-crisis",
   "metadata": {},
   "source": [
    "If I send this chiphertext twice, it may be dangerous. What if in all comunications I start by \"Dear...\" and the attacker knows it?. A better mode is the Cipher block chaining (CBC)"
   ]
  },
  {
   "cell_type": "code",
   "execution_count": 12,
   "id": "quick-multiple",
   "metadata": {},
   "outputs": [
    {
     "name": "stdout",
     "output_type": "stream",
     "text": [
      "16\n",
      "16\n",
      "16\n",
      "16\n",
      "16\n",
      "16\n",
      "16\n",
      "16\n",
      "16\n",
      "16\n",
      "16\n",
      "16\n",
      "16\n",
      "16\n",
      "16\n",
      "16\n",
      "32\n",
      "32\n",
      "32\n",
      "32\n",
      "32\n",
      "32\n",
      "32\n",
      "32\n",
      "32\n",
      "32\n",
      "32\n",
      "32\n",
      "32\n",
      "32\n",
      "32\n",
      "32\n",
      "48\n",
      "48\n",
      "48\n",
      "48\n",
      "48\n",
      "48\n",
      "48\n",
      "48\n",
      "48\n",
      "48\n",
      "48\n",
      "48\n",
      "48\n",
      "48\n",
      "48\n",
      "48\n",
      "64\n",
      "64\n",
      "64\n",
      "64\n",
      "64\n",
      "64\n",
      "64\n",
      "64\n",
      "64\n",
      "64\n",
      "64\n",
      "64\n",
      "64\n",
      "64\n",
      "64\n",
      "64\n",
      "80\n",
      "80\n",
      "80\n",
      "80\n",
      "80\n",
      "80\n",
      "80\n",
      "80\n",
      "80\n",
      "80\n",
      "80\n",
      "80\n",
      "80\n",
      "80\n",
      "80\n",
      "80\n",
      "96\n",
      "96\n",
      "96\n",
      "96\n",
      "96\n",
      "96\n",
      "96\n",
      "96\n",
      "96\n",
      "96\n",
      "96\n",
      "96\n",
      "96\n",
      "96\n",
      "96\n",
      "96\n",
      "112\n",
      "112\n",
      "112\n",
      "112\n",
      "112\n",
      "112\n",
      "112\n",
      "112\n",
      "112\n",
      "112\n",
      "112\n",
      "112\n",
      "112\n",
      "112\n",
      "112\n",
      "112\n",
      "128\n",
      "128\n",
      "128\n",
      "128\n",
      "128\n",
      "128\n",
      "128\n",
      "128\n",
      "128\n",
      "128\n",
      "128\n",
      "128\n",
      "128\n",
      "128\n",
      "128\n",
      "128\n"
     ]
    }
   ],
   "source": [
    "block_size_bits = 128\n",
    "\n",
    "for message_len in range(128):\n",
    "    m = str.encode(\"a\"*message_len)\n",
    "    \n",
    "    padder = padding.PKCS7(block_size_bits).padder()\n",
    "    m_padded = padder.update(m) + padder.finalize()\n",
    "    encryptor = cipher.encryptor()\n",
    "    \n",
    "    ctx = encryptor.update(m_padded) + encryptor.finalize()\n",
    "    print(len(m_padded))"
   ]
  },
  {
   "cell_type": "markdown",
   "id": "polish-parts",
   "metadata": {},
   "source": [
    "## Fernet"
   ]
  },
  {
   "cell_type": "code",
   "execution_count": 13,
   "id": "choice-supply",
   "metadata": {},
   "outputs": [
    {
     "name": "stdout",
     "output_type": "stream",
     "text": [
      "len_message: 1, len_ciphertext: 100\n",
      "len_message: 2, len_ciphertext: 100\n",
      "len_message: 3, len_ciphertext: 100\n",
      "len_message: 4, len_ciphertext: 100\n",
      "len_message: 5, len_ciphertext: 100\n",
      "len_message: 6, len_ciphertext: 100\n",
      "len_message: 7, len_ciphertext: 100\n",
      "len_message: 8, len_ciphertext: 100\n",
      "len_message: 9, len_ciphertext: 100\n",
      "len_message: 10, len_ciphertext: 100\n",
      "len_message: 11, len_ciphertext: 100\n",
      "len_message: 12, len_ciphertext: 100\n",
      "len_message: 13, len_ciphertext: 100\n",
      "len_message: 14, len_ciphertext: 100\n",
      "len_message: 15, len_ciphertext: 100\n",
      "len_message: 16, len_ciphertext: 120\n",
      "len_message: 17, len_ciphertext: 120\n",
      "len_message: 18, len_ciphertext: 120\n",
      "len_message: 19, len_ciphertext: 120\n",
      "len_message: 20, len_ciphertext: 120\n",
      "len_message: 21, len_ciphertext: 120\n",
      "len_message: 22, len_ciphertext: 120\n",
      "len_message: 23, len_ciphertext: 120\n",
      "len_message: 24, len_ciphertext: 120\n",
      "len_message: 25, len_ciphertext: 120\n",
      "len_message: 26, len_ciphertext: 120\n",
      "len_message: 27, len_ciphertext: 120\n",
      "len_message: 28, len_ciphertext: 120\n",
      "len_message: 29, len_ciphertext: 120\n",
      "len_message: 30, len_ciphertext: 120\n",
      "len_message: 31, len_ciphertext: 120\n",
      "len_message: 32, len_ciphertext: 140\n",
      "len_message: 33, len_ciphertext: 140\n",
      "len_message: 34, len_ciphertext: 140\n",
      "len_message: 35, len_ciphertext: 140\n",
      "len_message: 36, len_ciphertext: 140\n",
      "len_message: 37, len_ciphertext: 140\n",
      "len_message: 38, len_ciphertext: 140\n",
      "len_message: 39, len_ciphertext: 140\n",
      "len_message: 40, len_ciphertext: 140\n",
      "len_message: 41, len_ciphertext: 140\n",
      "len_message: 42, len_ciphertext: 140\n",
      "len_message: 43, len_ciphertext: 140\n",
      "len_message: 44, len_ciphertext: 140\n",
      "len_message: 45, len_ciphertext: 140\n",
      "len_message: 46, len_ciphertext: 140\n",
      "len_message: 47, len_ciphertext: 140\n",
      "len_message: 48, len_ciphertext: 164\n",
      "len_message: 49, len_ciphertext: 164\n",
      "len_message: 50, len_ciphertext: 164\n",
      "len_message: 51, len_ciphertext: 164\n",
      "len_message: 52, len_ciphertext: 164\n",
      "len_message: 53, len_ciphertext: 164\n",
      "len_message: 54, len_ciphertext: 164\n",
      "len_message: 55, len_ciphertext: 164\n",
      "len_message: 56, len_ciphertext: 164\n",
      "len_message: 57, len_ciphertext: 164\n",
      "len_message: 58, len_ciphertext: 164\n",
      "len_message: 59, len_ciphertext: 164\n",
      "len_message: 60, len_ciphertext: 164\n",
      "len_message: 61, len_ciphertext: 164\n",
      "len_message: 62, len_ciphertext: 164\n",
      "len_message: 63, len_ciphertext: 164\n",
      "len_message: 64, len_ciphertext: 184\n",
      "len_message: 65, len_ciphertext: 184\n",
      "len_message: 66, len_ciphertext: 184\n",
      "len_message: 67, len_ciphertext: 184\n",
      "len_message: 68, len_ciphertext: 184\n",
      "len_message: 69, len_ciphertext: 184\n",
      "len_message: 70, len_ciphertext: 184\n",
      "len_message: 71, len_ciphertext: 184\n",
      "len_message: 72, len_ciphertext: 184\n",
      "len_message: 73, len_ciphertext: 184\n",
      "len_message: 74, len_ciphertext: 184\n",
      "len_message: 75, len_ciphertext: 184\n",
      "len_message: 76, len_ciphertext: 184\n",
      "len_message: 77, len_ciphertext: 184\n",
      "len_message: 78, len_ciphertext: 184\n",
      "len_message: 79, len_ciphertext: 184\n",
      "len_message: 80, len_ciphertext: 204\n",
      "len_message: 81, len_ciphertext: 204\n",
      "len_message: 82, len_ciphertext: 204\n",
      "len_message: 83, len_ciphertext: 204\n",
      "len_message: 84, len_ciphertext: 204\n",
      "len_message: 85, len_ciphertext: 204\n",
      "len_message: 86, len_ciphertext: 204\n",
      "len_message: 87, len_ciphertext: 204\n",
      "len_message: 88, len_ciphertext: 204\n",
      "len_message: 89, len_ciphertext: 204\n",
      "len_message: 90, len_ciphertext: 204\n",
      "len_message: 91, len_ciphertext: 204\n",
      "len_message: 92, len_ciphertext: 204\n",
      "len_message: 93, len_ciphertext: 204\n",
      "len_message: 94, len_ciphertext: 204\n",
      "len_message: 95, len_ciphertext: 204\n",
      "len_message: 96, len_ciphertext: 228\n",
      "len_message: 97, len_ciphertext: 228\n",
      "len_message: 98, len_ciphertext: 228\n",
      "len_message: 99, len_ciphertext: 228\n"
     ]
    }
   ],
   "source": [
    "from cryptography.fernet import Fernet\n",
    "\n",
    "# secret key generation\n",
    "secret_key = Fernet.generate_key()\n",
    "box = Fernet(secret_key)\n",
    "\n",
    "max_len = 100\n",
    "for n in range(1, max_len):\n",
    "    # generate messages of n a's\n",
    "    message = \"\".join([\"a\" for _ in range(n)])\n",
    "    message = str.encode(message)\n",
    "    \n",
    "    ciphertext = box.encrypt(message)\n",
    "    print(f\"len_message: {len(message)}, len_ciphertext: {len(ciphertext)}\")\n"
   ]
  },
  {
   "cell_type": "code",
   "execution_count": null,
   "id": "raised-steps",
   "metadata": {},
   "outputs": [],
   "source": []
  }
 ],
 "metadata": {
  "kernelspec": {
   "display_name": "Python 3",
   "language": "python",
   "name": "python3"
  },
  "language_info": {
   "codemirror_mode": {
    "name": "ipython",
    "version": 3
   },
   "file_extension": ".py",
   "mimetype": "text/x-python",
   "name": "python",
   "nbconvert_exporter": "python",
   "pygments_lexer": "ipython3",
   "version": "3.6.7"
  }
 },
 "nbformat": 4,
 "nbformat_minor": 5
}
