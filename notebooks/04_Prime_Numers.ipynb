{
 "cells": [
  {
   "cell_type": "markdown",
   "metadata": {},
   "source": [
    "# Prime numbers\n",
    "\n",
    "**Definition**: A prime number is a number that is only divisible by himself and 1. Equivalently $p$ is a prime number if gcd($a$, $p$)=1 for all $a$ smaller than $p$. The first prime numbers are\n",
    "\n",
    "2, 3, 5, 7, 11, 13, 17...\n",
    "\n",
    "Some facts about prime numbers:\n",
    "\n",
    "* There are infinite number of prime numbers\n",
    "* There is no formula to calculate the nth prime number\n",
    "\n",
    "## Fundamental theorem of arithmetics\n",
    "\n",
    "The fundamental theorem of arithmetics states that: **every integer greater than 1 either is a prime number itself or can be represented as the product of prime numbers**. Furthermore this representation is unique\n",
    "\n",
    "$$a=p_1^{e_1}p_2^{e_2}\\cdots p_r^{e_r}$$\n",
    "\n",
    "where $p$s are prime numbers and $e$s the exponentiation of them. E.g. $5568=2^6*3*29$, where 2, 3 and 29 are prime numbers. \n",
    "\n",
    "\n",
    "## Prime number density\n",
    "\n",
    "Even though we can’t predict primes with a formula we can calculate the probability of finding a prime number in between a range of numbers. We define $\\pi$(x) as the number of prime numbers smaller than x. For instance, $\\pi$(20)=8, because prime numbers smaller than 20 are {2, 3, 5, 7, 11, 13, 17, 19}. Therefore, to calculate the number of primes between $x_2$ and $x_1$ ($x_2$>$x_1$) we just need to subtract both $\\pi$($x_2$)-$\\pi$($x_1$). Here $\\pi$(x) is exact calculation and we have to do it numerically. The prime number theorem establishes the asymptotic distribution of prime numbers by approximating the count to x/ln(x)"
   ]
  },
  {
   "cell_type": "markdown",
   "metadata": {},
   "source": [
    "<img src=\"img/prime_number_density.png\" style=\"width:500px;height500px\"/>"
   ]
  },
  {
   "cell_type": "markdown",
   "metadata": {},
   "source": [
    "## Finding prime numbers\n",
    "\n",
    "How can we calculate a list of primes that are smaller than $n$?. We will use the Sieve of Erathostenes: build a list of all the natural numbers from 1 to n (n is the natural number below which you want all the primes) and remove all the multiples of the newly find prime.\n",
    "\n",
    "Say we want the prime numbers smaller than n=120. The algorithm starts with 2, then you discard its multiples (2, 4, 8, …, 120), you go for 3 and you know it is prime because it hasn’t been discarded, so you eliminate multiples of 3 that haven’t been discarded (3, 9, 12, 15…). The next number is 4 and has been discarded so you go to 5 and add it as prime, then eliminate its multiples…\n"
   ]
  },
  {
   "cell_type": "code",
   "execution_count": 3,
   "metadata": {},
   "outputs": [],
   "source": [
    "def PrimesSieveEratosthenes(limit: int):\n",
    "    pass\n",
    "#list(PrimesSieveEratosthenes(100))"
   ]
  },
  {
   "cell_type": "code",
   "execution_count": 4,
   "metadata": {},
   "outputs": [],
   "source": [
    "# counting number of prime numbers"
   ]
  },
  {
   "cell_type": "code",
   "execution_count": null,
   "metadata": {},
   "outputs": [],
   "source": []
  },
  {
   "cell_type": "markdown",
   "metadata": {},
   "source": [
    "A randomly chosen number $n$ has a probability $1/\\log n$ of being prime\n",
    "\n",
    "## Fermat's little theorem\n",
    "\n",
    "Let $p$ be a prime number and let $a$ be any integer, then\n",
    "\n",
    "$$a^{p}=a\\textrm{ (mod p)}$$\n",
    "\n",
    "where $a^{p}$ means multiplying $a$, $p$ times and apply modulo $p$."
   ]
  },
  {
   "cell_type": "code",
   "execution_count": 33,
   "metadata": {},
   "outputs": [
    {
     "name": "stdout",
     "output_type": "stream",
     "text": [
      "a=864, p=997\n"
     ]
    },
    {
     "data": {
      "text/plain": [
       "864"
      ]
     },
     "execution_count": 33,
     "metadata": {},
     "output_type": "execute_result"
    }
   ],
   "source": []
  },
  {
   "cell_type": "markdown",
   "metadata": {},
   "source": [
    "## Using Fermat's little theorem to find modulo p inverse\n",
    "\n",
    "In the group of integers 0, 1, ... $p$-1 with multiplication modulo $p$ we can easily find the inverse with Fermat's little theorem:\n",
    "\n",
    "$$a^{p}=a\\textrm{ (mod p)}$$\n",
    "\n",
    "We just need to multiply by the inverse to the left and to the right of the equation two times\n",
    "\n",
    "$$a^{p-2}=a^{-1}\\textrm{ (mod p)}$$\n",
    "\n",
    "so the inverse is:\n",
    "\n",
    "$$a^{-1}=a^{p-2}\\textrm{ (mod p)}$$"
   ]
  },
  {
   "cell_type": "code",
   "execution_count": 5,
   "metadata": {},
   "outputs": [],
   "source": [
    "def InverseFermat(a: int, p: int) -> int:\n",
    "    # look out, p has to be prime and we are not checking it here!\n",
    "    pass\n",
    "\n",
    "#InverseFermat(4, 7)"
   ]
  },
  {
   "cell_type": "markdown",
   "metadata": {},
   "source": [
    "## Primality testing: Miller Rabin algorithm\n",
    "\n",
    "The Fermat's theorem to find the inverse modulo $p$ only works when $p$ is prime, we need a way to predict if a number is prime or not in a fast way. Also, there are many cases in which we will be given very large numbers so calculate all of them with the Sieve of Erathostenes is not practical. Here we need a set of algorithms that \"test\" if a number is prime or not.\n",
    "\n",
    "\n",
    "### First attempt\n",
    "\n",
    "We know that $a^{p}=a\\textrm{ (mod p)}$ if $p$ is prime. Can we say that $p$ is prime if the previous equation holds for all the possible values of $a<p$?. There are numbers known as **Carmichael numbers** that are composite numbers for which the equation always holds. For instance, 561,41041 and 825265 are the first three Carmichael numbers. Lets see if the condition $a^{p}=a\\textrm{ (mod p)}$ is met:\n"
   ]
  },
  {
   "cell_type": "code",
   "execution_count": 45,
   "metadata": {},
   "outputs": [],
   "source": [
    "n = 561\n",
    "#n = 41041\n",
    "for i in range(1, n):\n",
    "    if pow(i, n, n)!=i:\n",
    "        print(i, pow(i, n, n))"
   ]
  },
  {
   "cell_type": "code",
   "execution_count": 47,
   "metadata": {},
   "outputs": [
    {
     "name": "stdout",
     "output_type": "stream",
     "text": [
      "Remainder of 561 divided by 3 is 0\n",
      "Remainder of 41041 divided by 11 is 0\n",
      "Remainder of 825265 divided by 5 is 0\n"
     ]
    }
   ],
   "source": [
    "# these are composite numbers (not prime):\n",
    "print(f\"Remainder of {561} divided by {3} is {561%3}\")\n",
    "print(f\"Remainder of {41041} divided by {11} is {41041%11}\")\n",
    "print(f\"Remainder of {825265} divided by {5} is {825265%5}\")"
   ]
  },
  {
   "cell_type": "markdown",
   "metadata": {},
   "source": [
    "**If $a^{p}=a\\textrm{ (mod p)}$ is met**, for a particular $p$ that **does not mean that $p$ is a prime number**\n",
    "\n",
    "## Second attempt\n",
    "\n",
    "Even though $p$ accomplishing the equation of Fermat's little theorem does not mean $p$ is prime, is a good indicative that $p$ may be prime. After all if the Fermat's little equation is not fullfilled we know for sure that the number we are dealing with is not prime. That's what we are going to exploit in our seccond attempt\n",
    "\n",
    "Let $p$ be a prime number different from 2, then we can write\n",
    "\n",
    "$$p-1=2^kq$$\n",
    "\n",
    "where $q$ is an odd number and $k$ an integer. We can do this because we know that 2 is the only even prime number and therefore $p$-1 must be even if the prime number is larger than 2. For $p-1$ being even we can factor it as a product of $k$ times 2, times an even number.\n",
    "\n",
    "Let $a$ be a number not divisible by $p$, then **one** of the following two conditions is true:\n",
    "\n",
    "$$a^q-1=0\\textrm{ (mod p)}$$\n",
    "$$a^{cq}+1=0\\textrm{ (mod p)}$$\n",
    "\n",
    "for $c$ in $0, 1, \\cdots,2^k$. You can find a proof of this proposition in the [book](https://www.springer.com/gp/book/9781441926746) of Hoffstein, Pipher and Silverman. This happens strictly when $p$ is prime, let's try to see if these equations are true for arbitrary integer $n$.\n",
    "\n",
    "We take\n",
    "\n",
    "$$n-1=2^kq$$\n",
    "\n",
    "If we find an $a$ for which **the two conditions** above are not true, then for sure $n$ is a composite number. $a$ is called a witness for the compositneess of $n$. This is what we do in the Miller-Rabin primality testing:\n",
    "\n",
    "The Miller Rabin primality testing inputs an integer $n$ for which we want to test if it's prime or not and an integer $m$ for the number of times we will try to find a witness for $n$. The steps for the algorithm are:\n",
    "\n",
    "1. Check if $n$ is larger than 1 (negative numbers are not primes)\n",
    "2. If the remainder of $n$ divided by 2 is 0, then $n$ is composite (is divisible by 2 at least)\n",
    "3. Find $k$ and $q$ such that $n-1=2^kq$\n",
    "4. Get a random integer $a$ from 2 to $n-1$. This is the potential witness\n",
    "5. If gcd($a$, $n$) is not 1, then $a$ is composite.\n",
    "6. "
   ]
  },
  {
   "cell_type": "code",
   "execution_count": 52,
   "metadata": {},
   "outputs": [],
   "source": [
    "def xgcd(a, b):\n",
    "    # Solving equation au+bv=gcd(a,b)\n",
    "    # result is: (g,u,v) where g is greatest common divisor and u,v the solution of the eq above\n",
    "    u0, u1, v0, v1 = 0, 1, 1, 0\n",
    "    while a != 0:\n",
    "        q, b, a = b // a, a, b % a\n",
    "        v0, v1 = v1, v0 - q * v1\n",
    "        u0, u1 = u1, u0 - q * u1\n",
    "    return b, u0, v0"
   ]
  },
  {
   "cell_type": "code",
   "execution_count": 6,
   "metadata": {},
   "outputs": [],
   "source": [
    "def isPrime(n: int, r: int) -> bool:\n",
    "    # Miller-Rabin primality testing.\n",
    "    # n: number to test primality\n",
    "    # r: times to run the test\n",
    "    pass\n",
    "\n",
    "\n",
    "#isPrime(10888869450418352160768000001, 100)"
   ]
  },
  {
   "cell_type": "markdown",
   "metadata": {},
   "source": [
    "How sure we are that the number tested is prime?\n",
    "\n",
    "Proposition: Let $n$ be an odd composite number, then at least 75% of the numbers between 1 and $n$-1 are Miller-Rabin **witnesses** for $n$. Proof in the book of Hoffstein, Pipher and Silverman.\n",
    "\n",
    "For random $a$ the probability for it not being a witness is 25%, therefore the probability of not finding 10 witnesses at random if $a$ is composite is $0.25^{10}$, i.e. If no witnesses are found in 10 rounds, then the probability for $a$ being prime is $1-0.25^{10}$= 0.999999"
   ]
  },
  {
   "cell_type": "code",
   "execution_count": null,
   "metadata": {},
   "outputs": [],
   "source": []
  }
 ],
 "metadata": {
  "kernelspec": {
   "display_name": "Python 3",
   "language": "python",
   "name": "python3"
  },
  "language_info": {
   "codemirror_mode": {
    "name": "ipython",
    "version": 3
   },
   "file_extension": ".py",
   "mimetype": "text/x-python",
   "name": "python",
   "nbconvert_exporter": "python",
   "pygments_lexer": "ipython3",
   "version": "3.6.7"
  }
 },
 "nbformat": 4,
 "nbformat_minor": 4
}
