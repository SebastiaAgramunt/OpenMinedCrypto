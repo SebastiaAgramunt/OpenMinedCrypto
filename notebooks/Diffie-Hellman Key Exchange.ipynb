{
 "cells": [
  {
   "cell_type": "markdown",
   "metadata": {},
   "source": [
    "## Diffie-Hellman Key Exchange\n",
    "\n",
    "The difficulty to solve the discrete logarithm problem can be used to "
   ]
  },
  {
   "cell_type": "code",
   "execution_count": 1,
   "metadata": {},
   "outputs": [],
   "source": [
    "def lcg(modulus, a, c, seed):\n",
    "    \"\"\"Linear congruential generator.\"\"\"\n",
    "    while True:\n",
    "        seed = (a * seed + c) % modulus\n",
    "        yield seed"
   ]
  },
  {
   "cell_type": "code",
   "execution_count": 2,
   "metadata": {},
   "outputs": [],
   "source": [
    "modulus = 2**32\n",
    "a = 1664525\n",
    "c = 1013904223"
   ]
  },
  {
   "cell_type": "code",
   "execution_count": 29,
   "metadata": {},
   "outputs": [
    {
     "name": "stdout",
     "output_type": "stream",
     "text": [
      "11 0b1011 6\n"
     ]
    }
   ],
   "source": [
    "import secrets\n",
    "\n",
    "n = secrets.randbits(6)\n",
    "\n",
    "print(n, bin(n), len(bin(n)))"
   ]
  },
  {
   "cell_type": "code",
   "execution_count": 8,
   "metadata": {},
   "outputs": [
    {
     "name": "stdout",
     "output_type": "stream",
     "text": [
      "Help on method getrandbits in module random:\n",
      "\n",
      "getrandbits(k) method of random.SystemRandom instance\n",
      "    getrandbits(k) -> x.  Generates an int with k random bits.\n",
      "\n"
     ]
    }
   ],
   "source": [
    "help(secrets.randbits)"
   ]
  },
  {
   "cell_type": "code",
   "execution_count": null,
   "metadata": {},
   "outputs": [],
   "source": [
    "import os\n",
    "\n",
    "os."
   ]
  }
 ],
 "metadata": {
  "kernelspec": {
   "display_name": "Python 3",
   "language": "python",
   "name": "python3"
  },
  "language_info": {
   "codemirror_mode": {
    "name": "ipython",
    "version": 3
   },
   "file_extension": ".py",
   "mimetype": "text/x-python",
   "name": "python",
   "nbconvert_exporter": "python",
   "pygments_lexer": "ipython3",
   "version": "3.6.7"
  }
 },
 "nbformat": 4,
 "nbformat_minor": 4
}
