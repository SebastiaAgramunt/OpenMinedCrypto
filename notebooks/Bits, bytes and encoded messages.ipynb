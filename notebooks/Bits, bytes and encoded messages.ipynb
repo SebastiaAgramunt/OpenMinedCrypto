{
 "cells": [
  {
   "cell_type": "markdown",
   "id": "regulation-phrase",
   "metadata": {},
   "source": [
    "# Bits, bytes and encoded messages\n",
    "\n",
    "The only information computers understad is in binary form but we (as humans) need to work in other bases, for instance the natural numbers (or base 10). Here we will learn how to transform in between bases and how characters are represented in the computer.\n",
    "\n",
    "## Bits\n",
    "A **bit** is a binary number, 0 or 1.  \n",
    "\n",
    "$$1101$$\n",
    "\n",
    "So what is this number in base 10? The binary number 1101 can also be written as follows: ($1 * 2^3$) + ($1 * 2^2$) + ($0 * 2^1$) + ($1 * 2^0$) = $13$."
   ]
  },
  {
   "cell_type": "code",
   "execution_count": 40,
   "id": "adverse-technology",
   "metadata": {},
   "outputs": [
    {
     "data": {
      "text/plain": [
       "'0b1010110011'"
      ]
     },
     "execution_count": 40,
     "metadata": {},
     "output_type": "execute_result"
    }
   ],
   "source": [
    "from random import randrange\n",
    "\n",
    "bits = '0b' + ''.join([str(randrange(2)) for _ in range(10)])\n",
    "bits"
   ]
  },
  {
   "cell_type": "code",
   "execution_count": 42,
   "id": "analyzed-admission",
   "metadata": {},
   "outputs": [
    {
     "data": {
      "text/plain": [
       "691"
      ]
     },
     "execution_count": 42,
     "metadata": {},
     "output_type": "execute_result"
    }
   ],
   "source": [
    "int(bits, 2)"
   ]
  },
  {
   "cell_type": "code",
   "execution_count": 44,
   "id": "induced-teens",
   "metadata": {},
   "outputs": [
    {
     "data": {
      "text/plain": [
       "691"
      ]
     },
     "execution_count": 44,
     "metadata": {},
     "output_type": "execute_result"
    }
   ],
   "source": [
    "sum([int(k)*2**(len(bits[2:])-i-1) for i, k in enumerate(bits[2:])])"
   ]
  },
  {
   "cell_type": "code",
   "execution_count": null,
   "id": "played-assignment",
   "metadata": {},
   "outputs": [],
   "source": []
  },
  {
   "cell_type": "code",
   "execution_count": null,
   "id": "greater-pasta",
   "metadata": {},
   "outputs": [],
   "source": []
  },
  {
   "cell_type": "markdown",
   "id": "permanent-spouse",
   "metadata": {},
   "source": [
    "What's the largest number we can represent in $n$ bits?"
   ]
  },
  {
   "cell_type": "code",
   "execution_count": 48,
   "id": "rough-operator",
   "metadata": {},
   "outputs": [
    {
     "name": "stdout",
     "output_type": "stream",
     "text": [
      "max integer (base 10) value for 8 bits is 255\n"
     ]
    }
   ],
   "source": [
    "n = 8\n",
    "\n",
    "print(f\"max integer (base 10) value for {n} bits is {2**n -1}\")"
   ]
  },
  {
   "cell_type": "code",
   "execution_count": null,
   "id": "cleared-plumbing",
   "metadata": {},
   "outputs": [],
   "source": []
  },
  {
   "cell_type": "markdown",
   "id": "polar-jerusalem",
   "metadata": {},
   "source": [
    "## bytes\n",
    "\n",
    "A **byte** is a collection of 8 bits. is a byte expressed in binary form. The maximum value (in base 10) of a byte is $2^8-1$, therefore 255.  "
   ]
  },
  {
   "cell_type": "code",
   "execution_count": 68,
   "id": "applied-graphics",
   "metadata": {},
   "outputs": [
    {
     "name": "stdout",
     "output_type": "stream",
     "text": [
      "bytes_int\n",
      "\t[58, 112, 250, 142, 72, 254, 105, 221, 88, 97]\n",
      "bytes_bin\n",
      "\t['0b111010', '0b1110000', '0b11111010', '0b10001110', '0b1001000', '0b11111110', '0b1101001', '0b11011101', '0b1011000', '0b1100001']\n"
     ]
    }
   ],
   "source": [
    "bytes_int = [randrange(256) for _ in range(10)]\n",
    "print(f\"bytes_int\\n\\t{bytes_int}\")\n",
    "\n",
    "bytes_bin = [bin(x) for x in bytes_int]\n",
    "print(f\"bytes_bin\\n\\t{bytes_bin}\")"
   ]
  },
  {
   "cell_type": "code",
   "execution_count": 71,
   "id": "narrative-overhead",
   "metadata": {},
   "outputs": [
    {
     "data": {
      "text/plain": [
       "58"
      ]
     },
     "execution_count": 71,
     "metadata": {},
     "output_type": "execute_result"
    }
   ],
   "source": [
    "int(\"0b00111010\", 2)"
   ]
  },
  {
   "cell_type": "markdown",
   "id": "appreciated-ground",
   "metadata": {},
   "source": [
    "## Decimal, binary, hexadecimal and octal\n",
    "\n",
    "So far we represented numbers in base 2 (binary form) or base 10 (decimal form). But we can also express numbers in octal (base 8) or hexadecimal (base 16), check [this](https://www.rapidtables.com/convert/number/base-converter.html) conversor.\n",
    "\n",
    "**Hexadecimal characters**: [0, 1, 2, 3, 4, 5, 6, 7, 8, 9, a, b, c, d, e, f]\n",
    "\n",
    "**Octal characters**: [0, 1, 2, 3, 4, 5, 6, 7]\n",
    "\n",
    "**Decimal characters**: [0, 1, 2, 3, 4, 5, 6, 7, 8, 9]\n",
    "\n",
    "\n",
    "For instance:\n",
    "\n",
    "$654_{10}$=$1010001110_2$=$1216_8$=$28\\rm{E}_{16}$\n",
    "\n",
    "8 binary characters = 1 byte, max in base 10: 255\n"
   ]
  },
  {
   "cell_type": "code",
   "execution_count": 72,
   "id": "inappropriate-netscape",
   "metadata": {},
   "outputs": [
    {
     "name": "stdout",
     "output_type": "stream",
     "text": [
      "x in binary (base 2):\n",
      "\t0b1001110100111001\n",
      "x in octal (base 8):\n",
      "\t0o116471\n",
      "x in decimal (base 10):\n",
      "\t40249\n",
      "x in hexadecimal (base 16):\n",
      "\t0x9d39\n"
     ]
    }
   ],
   "source": [
    "n_bytes = 2\n",
    "x = randrange(2**(8*n_bytes))\n",
    "\n",
    "print(f\"x in binary (base 2):\\n\\t{bin(x)}\")\n",
    "print(f\"x in octal (base 8):\\n\\t{oct(x)}\")\n",
    "print(f\"x in decimal (base 10):\\n\\t{x}\")\n",
    "print(f\"x in hexadecimal (base 16):\\n\\t{hex(x)}\")"
   ]
  },
  {
   "cell_type": "markdown",
   "id": "accompanied-tourism",
   "metadata": {},
   "source": [
    "## Encoding\n",
    "\n",
    "How can we represent chracters in the computer?. We need a dictionary that is able to convert an integer to its character form. This is known as encoding. \n",
    "\n",
    "UTF-8 is the Unicode Transformation Format for 8 bits (a byte). UTF bytes string is of variable length, having as maximum 4 bytes. ASCII (American Standard Code for Information Interchange) are designated as characters of one byte because they are the most frequently used (also it has a reason historically).\n",
    "\n",
    "Let's print the ascii characters!"
   ]
  },
  {
   "cell_type": "code",
   "execution_count": 73,
   "id": "parallel-smoke",
   "metadata": {},
   "outputs": [
    {
     "name": "stdout",
     "output_type": "stream",
     "text": [
      "int = 0, hex = 0x0, bytes = b'\\x00', decoded = \u0000\n",
      "int = 1, hex = 0x1, bytes = b'\\x01', decoded = \u0001\n",
      "int = 2, hex = 0x2, bytes = b'\\x02', decoded = \u0002\n",
      "int = 3, hex = 0x3, bytes = b'\\x03', decoded = \u0003\n",
      "int = 4, hex = 0x4, bytes = b'\\x04', decoded = \u0004\n",
      "int = 5, hex = 0x5, bytes = b'\\x05', decoded = \u0005\n",
      "int = 6, hex = 0x6, bytes = b'\\x06', decoded = \u0006\n",
      "int = 7, hex = 0x7, bytes = b'\\x07', decoded = \u0007\n",
      "int = 8, hex = 0x8, bytes = b'\\x08', decoded = \b\n",
      "int = 9, hex = 0x9, bytes = b'\\t', decoded = \t\n",
      "int = 10, hex = 0xa, bytes = b'\\n', decoded = \n",
      "\n",
      "int = 11, hex = 0xb, bytes = b'\\x0b', decoded = \u000b",
      "\n",
      "int = 12, hex = 0xc, bytes = b'\\x0c', decoded = \f",
      "\n",
      "int = 13, hex = 0xd, bytes = b'\\r', decoded = \r\n",
      "int = 14, hex = 0xe, bytes = b'\\x0e', decoded = \u000e\n",
      "int = 15, hex = 0xf, bytes = b'\\x0f', decoded = \u000f\n",
      "int = 16, hex = 0x10, bytes = b'\\x10', decoded = \u0010\n",
      "int = 17, hex = 0x11, bytes = b'\\x11', decoded = \u0011\n",
      "int = 18, hex = 0x12, bytes = b'\\x12', decoded = \u0012\n",
      "int = 19, hex = 0x13, bytes = b'\\x13', decoded = \u0013\n",
      "int = 20, hex = 0x14, bytes = b'\\x14', decoded = \u0014\n",
      "int = 21, hex = 0x15, bytes = b'\\x15', decoded = \u0015\n",
      "int = 22, hex = 0x16, bytes = b'\\x16', decoded = \u0016\n",
      "int = 23, hex = 0x17, bytes = b'\\x17', decoded = \u0017\n",
      "int = 24, hex = 0x18, bytes = b'\\x18', decoded = \u0018\n",
      "int = 25, hex = 0x19, bytes = b'\\x19', decoded = \u0019\n",
      "int = 26, hex = 0x1a, bytes = b'\\x1a', decoded = \u001a\n",
      "int = 27, hex = 0x1b, bytes = b'\\x1b', decoded = \u001b\n",
      "int = 28, hex = 0x1c, bytes = b'\\x1c', decoded = \u001c",
      "\n",
      "int = 29, hex = 0x1d, bytes = b'\\x1d', decoded = \u001d",
      "\n",
      "int = 30, hex = 0x1e, bytes = b'\\x1e', decoded = \u001e",
      "\n",
      "int = 31, hex = 0x1f, bytes = b'\\x1f', decoded = \u001f\n",
      "int = 32, hex = 0x20, bytes = b' ', decoded =  \n",
      "int = 33, hex = 0x21, bytes = b'!', decoded = !\n",
      "int = 34, hex = 0x22, bytes = b'\"', decoded = \"\n",
      "int = 35, hex = 0x23, bytes = b'#', decoded = #\n",
      "int = 36, hex = 0x24, bytes = b'$', decoded = $\n",
      "int = 37, hex = 0x25, bytes = b'%', decoded = %\n",
      "int = 38, hex = 0x26, bytes = b'&', decoded = &\n",
      "int = 39, hex = 0x27, bytes = b\"'\", decoded = '\n",
      "int = 40, hex = 0x28, bytes = b'(', decoded = (\n",
      "int = 41, hex = 0x29, bytes = b')', decoded = )\n",
      "int = 42, hex = 0x2a, bytes = b'*', decoded = *\n",
      "int = 43, hex = 0x2b, bytes = b'+', decoded = +\n",
      "int = 44, hex = 0x2c, bytes = b',', decoded = ,\n",
      "int = 45, hex = 0x2d, bytes = b'-', decoded = -\n",
      "int = 46, hex = 0x2e, bytes = b'.', decoded = .\n",
      "int = 47, hex = 0x2f, bytes = b'/', decoded = /\n",
      "int = 48, hex = 0x30, bytes = b'0', decoded = 0\n",
      "int = 49, hex = 0x31, bytes = b'1', decoded = 1\n",
      "int = 50, hex = 0x32, bytes = b'2', decoded = 2\n",
      "int = 51, hex = 0x33, bytes = b'3', decoded = 3\n",
      "int = 52, hex = 0x34, bytes = b'4', decoded = 4\n",
      "int = 53, hex = 0x35, bytes = b'5', decoded = 5\n",
      "int = 54, hex = 0x36, bytes = b'6', decoded = 6\n",
      "int = 55, hex = 0x37, bytes = b'7', decoded = 7\n",
      "int = 56, hex = 0x38, bytes = b'8', decoded = 8\n",
      "int = 57, hex = 0x39, bytes = b'9', decoded = 9\n",
      "int = 58, hex = 0x3a, bytes = b':', decoded = :\n",
      "int = 59, hex = 0x3b, bytes = b';', decoded = ;\n",
      "int = 60, hex = 0x3c, bytes = b'<', decoded = <\n",
      "int = 61, hex = 0x3d, bytes = b'=', decoded = =\n",
      "int = 62, hex = 0x3e, bytes = b'>', decoded = >\n",
      "int = 63, hex = 0x3f, bytes = b'?', decoded = ?\n",
      "int = 64, hex = 0x40, bytes = b'@', decoded = @\n",
      "int = 65, hex = 0x41, bytes = b'A', decoded = A\n",
      "int = 66, hex = 0x42, bytes = b'B', decoded = B\n",
      "int = 67, hex = 0x43, bytes = b'C', decoded = C\n",
      "int = 68, hex = 0x44, bytes = b'D', decoded = D\n",
      "int = 69, hex = 0x45, bytes = b'E', decoded = E\n",
      "int = 70, hex = 0x46, bytes = b'F', decoded = F\n",
      "int = 71, hex = 0x47, bytes = b'G', decoded = G\n",
      "int = 72, hex = 0x48, bytes = b'H', decoded = H\n",
      "int = 73, hex = 0x49, bytes = b'I', decoded = I\n",
      "int = 74, hex = 0x4a, bytes = b'J', decoded = J\n",
      "int = 75, hex = 0x4b, bytes = b'K', decoded = K\n",
      "int = 76, hex = 0x4c, bytes = b'L', decoded = L\n",
      "int = 77, hex = 0x4d, bytes = b'M', decoded = M\n",
      "int = 78, hex = 0x4e, bytes = b'N', decoded = N\n",
      "int = 79, hex = 0x4f, bytes = b'O', decoded = O\n",
      "int = 80, hex = 0x50, bytes = b'P', decoded = P\n",
      "int = 81, hex = 0x51, bytes = b'Q', decoded = Q\n",
      "int = 82, hex = 0x52, bytes = b'R', decoded = R\n",
      "int = 83, hex = 0x53, bytes = b'S', decoded = S\n",
      "int = 84, hex = 0x54, bytes = b'T', decoded = T\n",
      "int = 85, hex = 0x55, bytes = b'U', decoded = U\n",
      "int = 86, hex = 0x56, bytes = b'V', decoded = V\n",
      "int = 87, hex = 0x57, bytes = b'W', decoded = W\n",
      "int = 88, hex = 0x58, bytes = b'X', decoded = X\n",
      "int = 89, hex = 0x59, bytes = b'Y', decoded = Y\n",
      "int = 90, hex = 0x5a, bytes = b'Z', decoded = Z\n",
      "int = 91, hex = 0x5b, bytes = b'[', decoded = [\n",
      "int = 92, hex = 0x5c, bytes = b'\\\\', decoded = \\\n",
      "int = 93, hex = 0x5d, bytes = b']', decoded = ]\n",
      "int = 94, hex = 0x5e, bytes = b'^', decoded = ^\n",
      "int = 95, hex = 0x5f, bytes = b'_', decoded = _\n",
      "int = 96, hex = 0x60, bytes = b'`', decoded = `\n",
      "int = 97, hex = 0x61, bytes = b'a', decoded = a\n",
      "int = 98, hex = 0x62, bytes = b'b', decoded = b\n",
      "int = 99, hex = 0x63, bytes = b'c', decoded = c\n",
      "int = 100, hex = 0x64, bytes = b'd', decoded = d\n",
      "int = 101, hex = 0x65, bytes = b'e', decoded = e\n",
      "int = 102, hex = 0x66, bytes = b'f', decoded = f\n",
      "int = 103, hex = 0x67, bytes = b'g', decoded = g\n",
      "int = 104, hex = 0x68, bytes = b'h', decoded = h\n",
      "int = 105, hex = 0x69, bytes = b'i', decoded = i\n",
      "int = 106, hex = 0x6a, bytes = b'j', decoded = j\n",
      "int = 107, hex = 0x6b, bytes = b'k', decoded = k\n",
      "int = 108, hex = 0x6c, bytes = b'l', decoded = l\n",
      "int = 109, hex = 0x6d, bytes = b'm', decoded = m\n",
      "int = 110, hex = 0x6e, bytes = b'n', decoded = n\n",
      "int = 111, hex = 0x6f, bytes = b'o', decoded = o\n",
      "int = 112, hex = 0x70, bytes = b'p', decoded = p\n",
      "int = 113, hex = 0x71, bytes = b'q', decoded = q\n",
      "int = 114, hex = 0x72, bytes = b'r', decoded = r\n",
      "int = 115, hex = 0x73, bytes = b's', decoded = s\n",
      "int = 116, hex = 0x74, bytes = b't', decoded = t\n",
      "int = 117, hex = 0x75, bytes = b'u', decoded = u\n",
      "int = 118, hex = 0x76, bytes = b'v', decoded = v\n",
      "int = 119, hex = 0x77, bytes = b'w', decoded = w\n",
      "int = 120, hex = 0x78, bytes = b'x', decoded = x\n",
      "int = 121, hex = 0x79, bytes = b'y', decoded = y\n",
      "int = 122, hex = 0x7a, bytes = b'z', decoded = z\n",
      "int = 123, hex = 0x7b, bytes = b'{', decoded = {\n",
      "int = 124, hex = 0x7c, bytes = b'|', decoded = |\n",
      "int = 125, hex = 0x7d, bytes = b'}', decoded = }\n",
      "int = 126, hex = 0x7e, bytes = b'~', decoded = ~\n",
      "int = 127, hex = 0x7f, bytes = b'\\x7f', decoded = \n"
     ]
    }
   ],
   "source": [
    "for i in range(0, 128):\n",
    "    b = i.to_bytes(1, byteorder='big')\n",
    "    print(f\"int = {i}, hex = {hex(i)}, bytes = {b}, decoded = {b.decode(encoding='UTF-8')}\")"
   ]
  },
  {
   "cell_type": "code",
   "execution_count": 76,
   "id": "destroyed-receptor",
   "metadata": {},
   "outputs": [
    {
     "name": "stdout",
     "output_type": "stream",
     "text": [
      "int = 14723207\n",
      "bytes = b'\\xe0\\xa8\\x87'\n",
      "decoded = ਇ\n"
     ]
    }
   ],
   "source": [
    "x = int('e0a887', 16)\n",
    "x_b = x.to_bytes(3, byteorder='big')\n",
    "dec_char = x_b.decode(encoding=\"UTF-8\")\n",
    "\n",
    "print(f\"int = {x}\")\n",
    "print(f\"bytes = {x_b}\")\n",
    "print(f\"decoded = {dec_char}\")"
   ]
  },
  {
   "cell_type": "markdown",
   "id": "joint-paragraph",
   "metadata": {},
   "source": [
    "We can turn a message from ascii letters into bytes (according to UTF-8 encoding) and then transform it into its binary, hexadecimal or octal form:"
   ]
  },
  {
   "cell_type": "code",
   "execution_count": 77,
   "id": "technical-calvin",
   "metadata": {},
   "outputs": [
    {
     "name": "stdout",
     "output_type": "stream",
     "text": [
      "message:\n",
      "b'simple message'\n",
      "\n",
      "message in binary:\n",
      "0111001101101001011011010111000001101100011001010010000001101101011001010111001101110011011000010110011101100101\n",
      "\n",
      "message in hexadecimal:\n",
      "73696d706c65206d657373616765\n",
      "\n"
     ]
    }
   ],
   "source": [
    "from crypto import bytes_to_bin, bytes_to_hex\n",
    "\n",
    "message = b\"simple message\"\n",
    "\n",
    "bin_repr = bytes_to_bin(message, pre=\"\")\n",
    "hex_repr = bytes_to_hex(message, pre=\"\")\n",
    "\n",
    "print(f\"message:\\n{str(message)}\\n\")\n",
    "print(f\"message in binary:\\n{bin_repr}\\n\")\n",
    "print(f\"message in hexadecimal:\\n{hex_repr}\\n\")"
   ]
  },
  {
   "cell_type": "code",
   "execution_count": null,
   "id": "frank-quality",
   "metadata": {},
   "outputs": [],
   "source": []
  }
 ],
 "metadata": {
  "kernelspec": {
   "display_name": "Python 3",
   "language": "python",
   "name": "python3"
  },
  "language_info": {
   "codemirror_mode": {
    "name": "ipython",
    "version": 3
   },
   "file_extension": ".py",
   "mimetype": "text/x-python",
   "name": "python",
   "nbconvert_exporter": "python",
   "pygments_lexer": "ipython3",
   "version": "3.6.7"
  }
 },
 "nbformat": 4,
 "nbformat_minor": 5
}
