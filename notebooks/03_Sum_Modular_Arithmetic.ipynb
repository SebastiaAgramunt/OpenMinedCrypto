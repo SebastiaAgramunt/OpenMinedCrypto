{
 "cells": [
  {
   "cell_type": "markdown",
   "metadata": {},
   "source": [
    "# Modular arithmetic\n",
    "\n",
    "We define the modulo operation in te context of integeres as the remainder of a division. For instance being $i$ and $m$ two integers, we say that $i$ (mod $m$) is the remainder of the division of $i$ by $m$. Let's see an example:"
   ]
  },
  {
   "cell_type": "code",
   "execution_count": 1,
   "metadata": {},
   "outputs": [],
   "source": [
    "7%5"
   ]
  },
  {
   "cell_type": "code",
   "execution_count": 2,
   "metadata": {},
   "outputs": [],
   "source": [
    "m = 6\n",
    "for i in range(2*m):\n",
    "    print(f\"i={i}, {i}(mod {m})={i%m}\")"
   ]
  },
  {
   "cell_type": "markdown",
   "metadata": {},
   "source": [
    "Here all numbers are from 0 till $m-1$ so when $i$ reaches $m$, it gets back to the value of 0.\n",
    "\n",
    "# Sum modular arithmetic\n",
    "\n",
    "In modular sum we need to apply the modulo operation after we performed the sum:"
   ]
  },
  {
   "cell_type": "code",
   "execution_count": 3,
   "metadata": {},
   "outputs": [],
   "source": [
    "(4%6+5%6)%6"
   ]
  },
  {
   "cell_type": "code",
   "execution_count": 4,
   "metadata": {},
   "outputs": [],
   "source": [
    "m = 6\n",
    "j = 3\n",
    "\n",
    "for i in range(m):\n",
    "    print(f\"{i}+{j} (mod {m}), sum={(i+j)%m}\")"
   ]
  },
  {
   "cell_type": "markdown",
   "metadata": {},
   "source": [
    "# The group of the modulo sum operation\n",
    "\n",
    "Recall that for a fixed $m$ all the possible values are\n",
    "\n",
    "$G$ = {0, 1, 2, ..., $m$-1)\n",
    "\n",
    "The elements with the modulo sum operation constitutes an **algebraic group** denoted as: ($G$, $+$). An algebraic group has the following properties:\n",
    "\n",
    "\n",
    "* **Closure**: for any $a$ and $b$ in the set, the operation $a + b$ must also be in the set.\n",
    "* **Associativity** for any $a$, $b$ and $c$ in the set, $(a + b)+ c = a + (b + c)$\n",
    "* **Existence of identity**: There exist an element $e$ in the set such that for any $a$ in the set $a + e = a$\n",
    "* **Inverse Element**: For any element in the group $a$ there must be another element $b$ such that $a + b = e$\n",
    "\n",
    "If additionally the operation is commutative ($a+b$=$b+a$) then we say that the group is commutative or abelian.\n",
    "\n",
    "\n",
    "## closure\n",
    "\n",
    "Straightforward to check, any two integers (not even in positive values smaller than $m$) are smaller than $m$ when performing the modulo sum\n",
    "\n",
    "## associativity"
   ]
  },
  {
   "cell_type": "code",
   "execution_count": 5,
   "metadata": {},
   "outputs": [],
   "source": [
    "m = 7\n",
    "i, j, k = 3, 5, 2\n",
    "\n",
    "assert ((i+j)%m + k)%m==(i+(j+k)%m)%m"
   ]
  },
  {
   "cell_type": "markdown",
   "metadata": {},
   "source": [
    "## existence of identity\n",
    "\n",
    "The identity of the sum is 0"
   ]
  },
  {
   "cell_type": "code",
   "execution_count": 6,
   "metadata": {},
   "outputs": [],
   "source": [
    "m = 7\n",
    "\n",
    "i, e = 4, 0\n",
    "\n",
    "assert (i+e)%m==i%m"
   ]
  },
  {
   "cell_type": "markdown",
   "metadata": {},
   "source": [
    "## Inverse of element"
   ]
  },
  {
   "cell_type": "code",
   "execution_count": 7,
   "metadata": {},
   "outputs": [],
   "source": [
    "m = 7\n",
    "\n",
    "i = 3\n",
    "e = 0\n",
    "i_inv = m-i\n",
    "\n",
    "\n",
    "#for j in range(m):\n",
    "#    print(f\"{i}+{j}={(i+j)%m}\")\n",
    "\n",
    "assert(i+i_inv)%m==e"
   ]
  },
  {
   "cell_type": "markdown",
   "metadata": {},
   "source": [
    "# Cyclic group\n",
    "\n",
    "A special case of group is the cyclic group. We say that a group is cyclic if it is possible to generate all the elements of the group, by taking one element and sucessively apply the operation. We call such element the **generator** of the group and is commonly denoted by $g$.\n",
    "\n",
    "$$G = \\{g^0, g^1, ..., g^{m-1}\\}$$\n",
    "\n",
    "where $m$ is the number of elements of the group, also known as the **order** of the group."
   ]
  },
  {
   "cell_type": "code",
   "execution_count": 8,
   "metadata": {},
   "outputs": [
    {
     "name": "stdout",
     "output_type": "stream",
     "text": [
      "2^2=4\n",
      "2^3=6\n",
      "2^4=0\n",
      "2^5=2\n",
      "2^6=4\n",
      "2^7=6\n"
     ]
    }
   ],
   "source": [
    "m = 8\n",
    "\n",
    "g = 2\n",
    "prev_power = g\n",
    "\n",
    "for count in range(2,m):\n",
    "    prev_power = (prev_power+g)%m\n",
    "    print(f\"{g}^{count}={prev_power}\")"
   ]
  },
  {
   "cell_type": "markdown",
   "metadata": {},
   "source": [
    "# Product modulo operation\n",
    "\n",
    "We can try to define a modulo group with the product operation instead of the sum. This algebraic group **would** be denoted as: ($G$, $\\times$) where $G$ again is the set of elements {0, 1, 2, ..., $m$-1} and $\\times$ denoting the product operation.\n",
    "\n",
    "\n",
    "## closure\n",
    "\n",
    "Straightforward: The product of two any elements will be scaled down to a positive element smaller than $m$.\n",
    "\n",
    "## associativity"
   ]
  },
  {
   "cell_type": "code",
   "execution_count": 9,
   "metadata": {},
   "outputs": [],
   "source": [
    "m = 7\n",
    "\n",
    "i, j, k = 2, 3, 5\n",
    "\n",
    "assert ((i*j)%m*k)%m==(i*(j*k)%m)%m"
   ]
  },
  {
   "cell_type": "markdown",
   "metadata": {},
   "source": [
    "## Identity\n",
    "\n",
    "In the product the identity is 1"
   ]
  },
  {
   "cell_type": "code",
   "execution_count": 10,
   "metadata": {},
   "outputs": [],
   "source": [
    "m = 7\n",
    "\n",
    "i, e = 3, 1\n",
    "\n",
    "assert (i*e)%m==i%m"
   ]
  },
  {
   "cell_type": "markdown",
   "metadata": {},
   "source": [
    "## Inverse of element\n",
    "\n",
    "The inverse on the product modulo is not as straightforward."
   ]
  },
  {
   "cell_type": "code",
   "execution_count": 11,
   "metadata": {},
   "outputs": [
    {
     "name": "stdout",
     "output_type": "stream",
     "text": [
      "5*0 = 0\n",
      "5*1 = 5\n",
      "5*2 = 3\n",
      "5*3 = 1\n",
      "5*4 = 6\n",
      "5*5 = 4\n",
      "5*6 = 2\n"
     ]
    }
   ],
   "source": [
    "m = 7\n",
    "i = 5\n",
    "\n",
    "for j in range(m):\n",
    "    print(f\"{i}*{j} = {(i*j)%m}\")"
   ]
  },
  {
   "cell_type": "code",
   "execution_count": 24,
   "metadata": {},
   "outputs": [
    {
     "name": "stdout",
     "output_type": "stream",
     "text": [
      "2*0 = 0\n",
      "2*1 = 2\n",
      "2*2 = 4\n",
      "2*3 = 6\n",
      "2*4 = 8\n",
      "2*5 = 10\n",
      "2*6 = 12\n",
      "2*7 = 14\n",
      "2*8 = 16\n",
      "2*9 = 18\n",
      "2*10 = 20\n",
      "2*11 = 22\n",
      "2*12 = 24\n",
      "2*13 = 26\n",
      "2*14 = 28\n",
      "2*15 = 30\n",
      "2*16 = 32\n",
      "2*17 = 34\n",
      "2*18 = 36\n",
      "2*19 = 38\n",
      "2*20 = 40\n",
      "2*21 = 42\n",
      "2*22 = 44\n",
      "2*23 = 46\n",
      "2*24 = 48\n",
      "2*25 = 50\n",
      "2*26 = 0\n",
      "2*27 = 2\n",
      "2*28 = 4\n",
      "2*29 = 6\n",
      "2*30 = 8\n",
      "2*31 = 10\n",
      "2*32 = 12\n",
      "2*33 = 14\n",
      "2*34 = 16\n",
      "2*35 = 18\n",
      "2*36 = 20\n",
      "2*37 = 22\n",
      "2*38 = 24\n",
      "2*39 = 26\n",
      "2*40 = 28\n",
      "2*41 = 30\n",
      "2*42 = 32\n",
      "2*43 = 34\n",
      "2*44 = 36\n",
      "2*45 = 38\n",
      "2*46 = 40\n",
      "2*47 = 42\n",
      "2*48 = 44\n",
      "2*49 = 46\n",
      "2*50 = 48\n",
      "2*51 = 50\n"
     ]
    }
   ],
   "source": [
    "m = 52\n",
    "i = 2\n",
    "\n",
    "for j in range(m):\n",
    "    print(f\"{i}*{j} = {(i*j)%m}\")"
   ]
  },
  {
   "cell_type": "code",
   "execution_count": null,
   "metadata": {},
   "outputs": [],
   "source": []
  }
 ],
 "metadata": {
  "kernelspec": {
   "display_name": "Python 3",
   "language": "python",
   "name": "python3"
  },
  "language_info": {
   "codemirror_mode": {
    "name": "ipython",
    "version": 3
   },
   "file_extension": ".py",
   "mimetype": "text/x-python",
   "name": "python",
   "nbconvert_exporter": "python",
   "pygments_lexer": "ipython3",
   "version": "3.6.7"
  }
 },
 "nbformat": 4,
 "nbformat_minor": 4
}
