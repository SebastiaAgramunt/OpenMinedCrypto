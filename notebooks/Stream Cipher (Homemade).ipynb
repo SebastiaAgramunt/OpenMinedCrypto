{
 "cells": [
  {
   "cell_type": "markdown",
   "id": "sunrise-catholic",
   "metadata": {},
   "source": [
    "# Bits, bytes and encoded messages\n",
    "\n",
    "To code our first cipher based on a pseudorandom generator we need to understand a little bit better how information is encoded in python. For this, we coded several functions to help us."
   ]
  },
  {
   "cell_type": "code",
   "execution_count": 1,
   "id": "ethical-kruger",
   "metadata": {},
   "outputs": [
    {
     "name": "stdout",
     "output_type": "stream",
     "text": [
      "message:\n",
      "b'simple message'\n",
      "len bytes: 14\n",
      "\n",
      "message in binary:\n",
      "0111001101101001011011010111000001101100011001010010000001101101011001010111001101110011011000010110011101100101\n",
      "len bits: 112\n",
      "\n",
      "message in hexadecimal:\n",
      "73696d706c65206d657373616765\n",
      "len hex:28\n",
      "\n"
     ]
    }
   ],
   "source": [
    "from crypto import bytes_to_bin, bytes_to_hex\n",
    "\n",
    "message = b\"simple message\"\n",
    "\n",
    "bin_repr = bytes_to_bin(message, pre=\"\")\n",
    "hex_repr = bytes_to_hex(message, pre=\"\")\n",
    "\n",
    "print(f\"message:\\n{message}\\nlen bytes: {len(message)}\\n\")\n",
    "print(f\"message in binary:\\n{bin_repr}\\nlen bits: {len(bin_repr)}\\n\")\n",
    "print(f\"message in hexadecimal:\\n{hex_repr}\\nlen hex:{len(hex_repr)}\\n\")"
   ]
  },
  {
   "cell_type": "markdown",
   "id": "electrical-employer",
   "metadata": {},
   "source": [
    "## Padding bytes (XOR operation)\n",
    "\n",
    "We need to implement the XOR operation byte-wise, that is how we \"pad\" our message to convert it to its encrypted form."
   ]
  },
  {
   "cell_type": "code",
   "execution_count": 2,
   "id": "exposed-median",
   "metadata": {},
   "outputs": [
    {
     "name": "stdout",
     "output_type": "stream",
     "text": [
      "a: 133 (int), 85 (hex), 10000101 (bin)\n",
      "b: 37 (int), 25 (hex), 00100101 (bin)\n",
      "x: 160 (int), a0 (hex), 10100000 (bin)\n",
      "\n",
      "10000101\n",
      "+\n",
      "00100101\n",
      "=\n",
      "10100000\n"
     ]
    }
   ],
   "source": [
    "from crypto import binary, hexadecimal\n",
    "import random\n",
    "\n",
    "a = random.randrange(256)\n",
    "b = random.randrange(256)\n",
    "\n",
    "print(f\"a: {a} (int), {hexadecimal(a, pre='')} (hex), {binary(a, pre='')} (bin)\")\n",
    "print(f\"b: {b} (int), {hexadecimal(b, pre='')} (hex), {binary(b, pre='')} (bin)\")\n",
    "\n",
    "xored = a ^ b\n",
    "print(f\"x: {xored} (int), {hexadecimal(xored, pre='')} (hex), {binary(xored, pre='')} (bin)\")\n",
    "\n",
    "print(f\"\\n{binary(a, pre='')}\\n+\\n{binary(b, pre='')}\\n=\\n{binary(xored, pre='')}\")"
   ]
  },
  {
   "cell_type": "markdown",
   "id": "federal-numbers",
   "metadata": {},
   "source": [
    "## Bytes random generator\n",
    "\n",
    "We need a pseudorandom genertor for bytes, let's code it!\n",
    "\n",
    "In Python we have the ```state``` variable to store the state of the pseudorandom generator in ```random``` package."
   ]
  },
  {
   "cell_type": "code",
   "execution_count": 3,
   "id": "tested-moment",
   "metadata": {},
   "outputs": [
    {
     "name": "stdout",
     "output_type": "stream",
     "text": [
      "[16, 219, 247, 7, 105, 236, 251, 142, 82, 17]\n",
      "[16, 219, 247, 7, 105, 236, 251, 142, 82, 17, 250, 167, 38, 127, 184, 22, 215, 71, 181, 195]\n"
     ]
    }
   ],
   "source": [
    "# in random python pacakge we have the \"state\" of the PRG\n",
    "random.seed(10)\n",
    "state = random.getstate()\n",
    "\n",
    "print([random.randrange(256) for _ in range(10)])\n",
    "\n",
    "random.setstate(state)\n",
    "print([random.randrange(256) for _ in range(20)])"
   ]
  },
  {
   "cell_type": "code",
   "execution_count": 4,
   "id": "small-doctrine",
   "metadata": {},
   "outputs": [],
   "source": [
    "import random\n",
    "\n",
    "random.seed(10)\n",
    "state = random.getstate()\n",
    "\n",
    "def PseudoRandomBytes(state: tuple, l: int) -> (bytes, tuple):\n",
    "    \"\"\"\n",
    "    Generates a stream of pseudorandom bytes\n",
    "    Input:\n",
    "        - state: a state for the python random pacakge (random.getstate())\n",
    "        - l: length of the pseudorandom stream of bytes\n",
    "    Returns:\n",
    "        - state: the current state of the random\n",
    "        - bytestream: a bytes class of lenght l\n",
    "    \"\"\"\n",
    "    random.setstate(state)\n",
    "    prng = []\n",
    "    \n",
    "    while len(prng) < l:\n",
    "        prng.append(hexadecimal(random.randrange(256)))\n",
    "        \n",
    "    return random.getstate(), bytes([int(x, 0) for x in prng])"
   ]
  },
  {
   "cell_type": "markdown",
   "id": "physical-artwork",
   "metadata": {},
   "source": [
    "## A class for the parties, let's communicate securely!"
   ]
  },
  {
   "cell_type": "code",
   "execution_count": 16,
   "id": "manual-commodity",
   "metadata": {},
   "outputs": [],
   "source": [
    "class Party:\n",
    "    def __init__(self, state: tuple):\n",
    "        self._state = state\n",
    "        \n",
    "    def encrypt_decrypt(self, m: bytes) -> bytes:\n",
    "        new_state, random_bytes = PseudoRandomBytes(self._state, len(m))\n",
    "        self._state = new_state\n",
    "        \n",
    "        return bytes([a ^ b for a, b in zip(m, random_bytes)])"
   ]
  },
  {
   "cell_type": "code",
   "execution_count": 17,
   "id": "bound-marshall",
   "metadata": {},
   "outputs": [],
   "source": [
    "state = random.getstate()\n",
    "\n",
    "alice = Party(state)\n",
    "bob = Party(state)"
   ]
  },
  {
   "cell_type": "code",
   "execution_count": 18,
   "id": "terminal-swimming",
   "metadata": {},
   "outputs": [
    {
     "name": "stdout",
     "output_type": "stream",
     "text": [
      "message: \n",
      "\tb'Hi Bob, how are you doing?'\n",
      "\n",
      "ciphertext: \n",
      "\tb'\\xaa<A\\xf0\\xb2\\xb6\\xc8]\\xe4&,\\x1d\\xe9\\x9b\\xfft 5\\x80\\x91\\xc3\\xb1\\x1blq\\x96'\n",
      "\n",
      "recovered_message: \n",
      "\tb'Hi Bob, how are you doing?'\n"
     ]
    }
   ],
   "source": [
    "m = b\"Hi Bob, how are you doing?\"\n",
    "ctx = alice.encrypt_decrypt(m)\n",
    "m2 = bob.encrypt_decrypt(ctx)\n",
    "\n",
    "print(f\"message: \\n\\t{m}\\n\")\n",
    "print(f\"ciphertext: \\n\\t{ctx}\\n\")\n",
    "print(f\"recovered_message: \\n\\t{m2}\")"
   ]
  },
  {
   "cell_type": "code",
   "execution_count": 19,
   "id": "federal-society",
   "metadata": {},
   "outputs": [
    {
     "name": "stdout",
     "output_type": "stream",
     "text": [
      "message: \n",
      "\tb\"I'm good, thank you!. How do you do?\"\n",
      "\n",
      "ciphertext: \n",
      "\tb'\\xea[E\\xa6\\x82\\xa0>\\xa3\\xd1[\\xff\\x9f\\x9eN>\\xda\\x95\\xa20\\xf6\\x9c\\xe6\\xb2;\\x96\\x12\\xb0}!\\x99Nl\\x93K\"\\x08'\n",
      "\n",
      "recovered_message: \n",
      "\tb\"I'm good, thank you!. How do you do?\"\n"
     ]
    }
   ],
   "source": [
    "m = b\"I'm good, thank you!. How do you do?\"\n",
    "ctx = bob.encrypt_decrypt(m)\n",
    "m2 = alice.encrypt_decrypt(ctx)\n",
    "\n",
    "\n",
    "print(f\"message: \\n\\t{m}\\n\")\n",
    "print(f\"ciphertext: \\n\\t{ctx}\\n\")\n",
    "print(f\"recovered_message: \\n\\t{m2}\")"
   ]
  },
  {
   "cell_type": "code",
   "execution_count": null,
   "id": "continued-bowling",
   "metadata": {},
   "outputs": [],
   "source": []
  },
  {
   "cell_type": "code",
   "execution_count": null,
   "id": "approximate-clarity",
   "metadata": {},
   "outputs": [],
   "source": []
  },
  {
   "cell_type": "code",
   "execution_count": null,
   "id": "distinguished-stations",
   "metadata": {},
   "outputs": [],
   "source": []
  },
  {
   "cell_type": "code",
   "execution_count": null,
   "id": "million-villa",
   "metadata": {},
   "outputs": [],
   "source": []
  },
  {
   "cell_type": "code",
   "execution_count": null,
   "id": "deadly-fruit",
   "metadata": {},
   "outputs": [],
   "source": []
  }
 ],
 "metadata": {
  "kernelspec": {
   "display_name": "Python 3",
   "language": "python",
   "name": "python3"
  },
  "language_info": {
   "codemirror_mode": {
    "name": "ipython",
    "version": 3
   },
   "file_extension": ".py",
   "mimetype": "text/x-python",
   "name": "python",
   "nbconvert_exporter": "python",
   "pygments_lexer": "ipython3",
   "version": "3.6.7"
  }
 },
 "nbformat": 4,
 "nbformat_minor": 5
}
