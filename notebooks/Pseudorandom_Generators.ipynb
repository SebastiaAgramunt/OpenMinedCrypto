{
 "cells": [
  {
   "cell_type": "markdown",
   "metadata": {},
   "source": [
    "# Why we need to generate random numbers in crypto?\n",
    "\n",
    "Remember the one time pad:"
   ]
  },
  {
   "cell_type": "code",
   "execution_count": 90,
   "metadata": {},
   "outputs": [],
   "source": [
    "from random import randrange\n",
    "\n",
    "m = \"01011101000101110101\"\n",
    "secret_key = ''.join([str(randrange(2)) for _ in range(len(m))])\n",
    "ciphertext = ''.join([str((int(m)+int(s))%2) for m, s in zip(m, secret_key)])"
   ]
  },
  {
   "cell_type": "code",
   "execution_count": 91,
   "metadata": {},
   "outputs": [
    {
     "name": "stdout",
     "output_type": "stream",
     "text": [
      "message:\n",
      "\t01011101000101110101\n",
      "secret_key\n",
      "\t10101111001100001011\n",
      "ciphertext\n",
      "\t11110010001001111110\n"
     ]
    }
   ],
   "source": [
    "print(f\"message:\\n\\t{m}\")\n",
    "print(f\"secret_key\\n\\t{secret_key}\")\n",
    "print(f\"ciphertext\\n\\t{ciphertext}\")"
   ]
  },
  {
   "cell_type": "markdown",
   "metadata": {},
   "source": [
    "If the secret_key is a sequence known by Alice and Bob and generated completely random, then the cryptosystem is perfectly secret. Problems for one time pad?\n",
    "\n",
    "* key lenght has to be at least the same as message lenght\n",
    "* the key has to be completely random \n",
    "* Alice and Bob have to meet each time to exchange the secret key\n",
    "\n",
    "Let's design a system very close to pure random:\n",
    "\n",
    "# Linear congruential generators\n",
    "\n",
    "A linear congruential generator (LCG) is an algorithm that yields a sequence of pseudo-randomized numbers calculated with a discontinuous piecewise linear equation.\n",
    "\n",
    "$$X_{n+1}=X_n*a+s \\textrm{ (mod m)}$$.\n",
    "\n",
    "There are several LCGs, in the example we take the one of numerical recipes correspoding to the values: a = 1664525, b = 1013904223 and m = $2^{32}$."
   ]
  },
  {
   "cell_type": "code",
   "execution_count": 92,
   "metadata": {},
   "outputs": [],
   "source": [
    "a = 1664525\n",
    "c = 1013904223\n",
    "m = 2**32\n",
    "\n",
    "def lcg(s, a, c, m):    \n",
    "    return (a*s+c)%m"
   ]
  },
  {
   "cell_type": "code",
   "execution_count": 93,
   "metadata": {},
   "outputs": [],
   "source": [
    "s = 1\n",
    "l = []\n",
    "for _ in range(100000):\n",
    "    s = lcg(s, a, c, m)\n",
    "    l.append(s/2**32)"
   ]
  },
  {
   "cell_type": "code",
   "execution_count": 94,
   "metadata": {},
   "outputs": [
    {
     "data": {
      "text/plain": [
       "<Figure size 432x288 with 0 Axes>"
      ]
     },
     "metadata": {},
     "output_type": "display_data"
    },
    {
     "data": {
      "image/png": "[encoded data removed]",
      "text/plain": [
       "<Figure size 1152x504 with 1 Axes>"
      ]
     },
     "metadata": {
      "needs_background": "light"
     },
     "output_type": "display_data"
    }
   ],
   "source": [
    "import matplotlib.pyplot as plt\n",
    "\n",
    "plt.clf()\n",
    "fig = plt.figure(figsize=(16,7))\n",
    "plt.hist(l, bins=50)\n",
    "plt.show()"
   ]
  },
  {
   "cell_type": "markdown",
   "metadata": {},
   "source": [
    "The good thing about pseudorandom generators is that you can reconstruct the pseudorandom numbers taking the same initial seed"
   ]
  },
  {
   "cell_type": "code",
   "execution_count": 96,
   "metadata": {},
   "outputs": [
    {
     "name": "stdout",
     "output_type": "stream",
     "text": [
      "1022226848\n",
      "3144284287\n",
      "1043999698\n",
      "3663386889\n",
      "3076951764\n",
      "1547742243\n",
      "2142806822\n",
      "948330573\n",
      "220562760\n",
      "3732498439\n"
     ]
    }
   ],
   "source": [
    "s = 5\n",
    "for _ in range(10):\n",
    "    s = lcg(s, a, c, m)\n",
    "    print(s)"
   ]
  },
  {
   "cell_type": "code",
   "execution_count": 97,
   "metadata": {},
   "outputs": [
    {
     "name": "stdout",
     "output_type": "stream",
     "text": [
      "1022226848\n",
      "3144284287\n",
      "1043999698\n",
      "3663386889\n",
      "3076951764\n",
      "1547742243\n",
      "2142806822\n",
      "948330573\n",
      "220562760\n",
      "3732498439\n"
     ]
    }
   ],
   "source": [
    "s = 5\n",
    "for _ in range(10):\n",
    "    s = lcg(s, a, c, m)\n",
    "    print(s)"
   ]
  },
  {
   "cell_type": "markdown",
   "metadata": {},
   "source": [
    "This can be useful!. Alice and Bob can generate the same randomness if they keep the seed as a secret!. The secret is the Diffie-Hellman key they generated.\n",
    "\n",
    "# Building a cipher from the PRNG, the stream cipher"
   ]
  },
  {
   "cell_type": "code",
   "execution_count": 138,
   "metadata": {},
   "outputs": [
    {
     "name": "stdout",
     "output_type": "stream",
     "text": [
      "11101011110001101000\n",
      "11101011110001101000\n"
     ]
    }
   ],
   "source": [
    "from random import seed\n",
    "\n",
    "def PRNG(s: int, l: int) -> list:\n",
    "    seed(s)\n",
    "    psrn = []\n",
    "    while len(psrn)<l:\n",
    "        psrn.append(randrange(2))\n",
    "    return ''.join([str(n) for n in psrn])\n",
    "prng1 = PRNG(12, 20)\n",
    "prng2 = PRNG(12, 20)\n",
    "\n",
    "print(prng1)\n",
    "print(prng2)\n",
    "    "
   ]
  },
  {
   "cell_type": "code",
   "execution_count": 112,
   "metadata": {},
   "outputs": [
    {
     "data": {
      "text/plain": [
       "38290"
      ]
     },
     "execution_count": 112,
     "metadata": {},
     "output_type": "execute_result"
    }
   ],
   "source": [
    "import secrets\n",
    "\n",
    "secrets.randbits(16)"
   ]
  },
  {
   "cell_type": "code",
   "execution_count": null,
   "metadata": {},
   "outputs": [],
   "source": []
  },
  {
   "cell_type": "code",
   "execution_count": null,
   "metadata": {},
   "outputs": [],
   "source": []
  }
 ],
 "metadata": {
  "kernelspec": {
   "display_name": "Python 3",
   "language": "python",
   "name": "python3"
  },
  "language_info": {
   "codemirror_mode": {
    "name": "ipython",
    "version": 3
   },
   "file_extension": ".py",
   "mimetype": "text/x-python",
   "name": "python",
   "nbconvert_exporter": "python",
   "pygments_lexer": "ipython3",
   "version": "3.6.7"
  }
 },
 "nbformat": 4,
 "nbformat_minor": 4
}
