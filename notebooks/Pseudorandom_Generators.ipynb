{
 "cells": [
  {
   "cell_type": "markdown",
   "metadata": {},
   "source": [
    "# Pseudorandom number generators\n",
    "\n",
    "Remember the one time pad:"
   ]
  },
  {
   "cell_type": "code",
   "execution_count": null,
   "metadata": {},
   "outputs": [],
   "source": [
    "from random import randrange\n",
    "import string\n",
    "\n",
    "def vigenere_key_generator(secret_key_size: int) -> str:\n",
    "    n = len(string.ascii_lowercase)\n",
    "    secret_key = ''\n",
    "    while len(secret_key) < secret_key_size:\n",
    "        secret_key += string.ascii_lowercase[randrange(n)]\n",
    "    return secret_key\n",
    "\n",
    "def shift_letter(letter: str, shiftby: str, forward: bool=True) -> str:\n",
    "    n = len(string.ascii_lowercase)\n",
    "    \n",
    "    letter_int = ord(letter) - 97\n",
    "    shiftby_int = ord(shiftby) - 97\n",
    "    \n",
    "    if forward:\n",
    "        return string.ascii_lowercase[(letter_int+shiftby_int)%n]\n",
    "    else:\n",
    "        return string.ascii_lowercase[(letter_int-shiftby_int)%n]\n",
    "    \n",
    "def vigenere_encrypt_decrypt(message: str, secret_key: str, encrypt:bool = True) -> str:\n",
    "    key_len = len(secret_key)\n",
    "    \n",
    "    encoded = ''\n",
    "    for i, letter in enumerate(message):\n",
    "        if letter != \" \":\n",
    "            encoded += shift_letter(letter, secret_key[i%key_len], forward=encrypt)\n",
    "        else:\n",
    "            encoded += letter\n",
    "    return encoded"
   ]
  },
  {
   "cell_type": "code",
   "execution_count": null,
   "metadata": {},
   "outputs": [],
   "source": [
    "message = \"helloworld\"\n",
    "secret_key = vigenere_key_generator(len(message))\n",
    "ciphertext = vigenere_encrypt_decrypt(message, secret_key, encrypt=True)\n",
    "\n",
    "print(f\"message = {message}\\nsecret_key = {secret_key}\\nciphertext = {ciphertext}\")"
   ]
  },
  {
   "cell_type": "markdown",
   "metadata": {},
   "source": [
    "The one time pad in bits:"
   ]
  },
  {
   "cell_type": "code",
   "execution_count": null,
   "metadata": {},
   "outputs": [],
   "source": [
    "from random import randrange\n",
    "\n",
    "message = \"01011101000101110101\"\n",
    "secret_key = ''.join([str(randrange(2)) for _ in range(len(message))])\n",
    "ciphertext = ''.join([str((int(m)+int(s))%2) for m, s in zip(message, secret_key)])"
   ]
  },
  {
   "cell_type": "code",
   "execution_count": null,
   "metadata": {},
   "outputs": [],
   "source": [
    "print(f\"message:\\n\\t{message}\")\n",
    "print(f\"secret_key\\n\\t{secret_key}\")\n",
    "print(f\"ciphertext\\n\\t{ciphertext}\")"
   ]
  },
  {
   "cell_type": "markdown",
   "metadata": {},
   "source": [
    "If the secret_key is a sequence known by Alice and Bob and generated completely random, then the cryptosystem is perfectly secret. Problems for one time pad?\n",
    "\n",
    "* key lenght has to be at least the same as message lenght\n",
    "* the key has to be completely random \n",
    "* Alice and Bob have to meet each time to exchange the secret key\n",
    "\n",
    "Let's design a system very close to pure random:\n",
    "\n",
    "# Linear congruential generators\n",
    "\n",
    "A linear congruential generator (LCG) is an algorithm that yields a sequence of pseudo-randomized numbers calculated with a discontinuous piecewise linear equation.\n",
    "\n",
    "$$X_{n+1}=X_n*a+c \\textrm{ (mod m)}$$.\n",
    "\n",
    "There are several LCGs, in the example we take the one of numerical recipes correspoding to the values: a = 1664525, c = 1013904223 and m = $2^{32}$. The initial value $X_0$ is called the seed of the pseudoradom generator."
   ]
  },
  {
   "cell_type": "code",
   "execution_count": null,
   "metadata": {},
   "outputs": [],
   "source": [
    "a = 1664525\n",
    "c = 1013904223\n",
    "m = 2**32\n",
    "\n",
    "def lcg(x0: int, a: int, c: int, m: int) -> int:\n",
    "    return (x0*a+c)%m"
   ]
  },
  {
   "cell_type": "code",
   "execution_count": null,
   "metadata": {},
   "outputs": [],
   "source": [
    "x0 = 433\n",
    "\n",
    "l = []\n",
    "\n",
    "xn = x0\n",
    "for _ in range(100000):\n",
    "    xn = lcg(xn, a, c, m)\n",
    "    l.append(xn/m)"
   ]
  },
  {
   "cell_type": "code",
   "execution_count": null,
   "metadata": {},
   "outputs": [],
   "source": [
    "import matplotlib.pyplot as plt\n",
    "\n",
    "plt.clf()\n",
    "fig = plt.figure(figsize=(16,7))\n",
    "plt.hist(l, bins=50)\n",
    "plt.show()"
   ]
  },
  {
   "cell_type": "markdown",
   "metadata": {},
   "source": [
    "The good thing about pseudorandom generators is that you can reconstruct the pseudorandom numbers taking the same initial seed"
   ]
  },
  {
   "cell_type": "code",
   "execution_count": null,
   "metadata": {},
   "outputs": [],
   "source": [
    "x0 = 53\n",
    "\n",
    "xn = x0\n",
    "for _ in range(10):\n",
    "    xn = lcg(xn, a, c, m)\n",
    "    print(xn)"
   ]
  },
  {
   "cell_type": "code",
   "execution_count": null,
   "metadata": {},
   "outputs": [],
   "source": [
    "x0 = 53\n",
    "\n",
    "xn = x0\n",
    "for _ in range(10):\n",
    "    xn = lcg(xn, a, c, m)\n",
    "    print(xn)"
   ]
  },
  {
   "cell_type": "markdown",
   "metadata": {},
   "source": [
    "This can be useful!. Alice and Bob can generate the same randomness if they keep the seed as a secret!. The secret is the Diffie-Hellman key they generated.\n",
    "\n",
    "# Building PRNG function\n",
    "\n",
    "We will use the common function ```randrange``` from random to create a binary pseudorandom generator."
   ]
  },
  {
   "cell_type": "code",
   "execution_count": null,
   "metadata": {},
   "outputs": [],
   "source": [
    "from random import seed\n",
    "\n",
    "def PRNG(s: int, l: int) -> list:\n",
    "    seed(s)\n",
    "    \n",
    "    prng = []\n",
    "    while len(prng) < l:\n",
    "        prng.append(randrange(2))\n",
    "    return ''.join([str(n) for n in prng])"
   ]
  },
  {
   "cell_type": "code",
   "execution_count": null,
   "metadata": {},
   "outputs": [],
   "source": [
    "s = 134323\n",
    "\n",
    "# Alice's end\n",
    "prng_alice = PRNG(s, 10)\n",
    "\n",
    "# Bob's end\n",
    "prng_bob = PRNG(s, 10)\n",
    "\n",
    "print(prng_alice)\n",
    "print(prng_bob)"
   ]
  },
  {
   "cell_type": "markdown",
   "metadata": {},
   "source": [
    "# Better ways to generate random numbers in the computer\n",
    "\n",
    "Our PRNG uses a seed as the source for the entropy for the random numbers. We can use **other seeds like environmental computer noise** (frequency of typing, temperature variation...). "
   ]
  },
  {
   "cell_type": "markdown",
   "metadata": {},
   "source": [
    "Using your system ```/dev/urandom```, e.g generate 10 random bytes (using MacOS). Open a terminal and run:\n",
    "\n",
    "```head -c 10 /dev/urandom```\n",
    "\n",
    "to see the output."
   ]
  },
  {
   "cell_type": "code",
   "execution_count": 43,
   "metadata": {},
   "outputs": [
    {
     "name": "stdout",
     "output_type": "stream",
     "text": [
      "Random bytes:\n",
      "\tb'\\xd2P\\xbf\\xbe\\xb7D\\xf1{\\xc6\\xc2'\n"
     ]
    }
   ],
   "source": [
    "# calling the urandom function\n",
    "import subprocess\n",
    "\n",
    "command = \"head -c 10 /dev/urandom\"\n",
    "process = subprocess.Popen(command.split(), stdout=subprocess.PIPE)\n",
    "output, error = process.communicate()\n",
    "\n",
    "print(f\"Random bytes:\\n\\t{output}\")"
   ]
  },
  {
   "cell_type": "code",
   "execution_count": 44,
   "metadata": {},
   "outputs": [
    {
     "name": "stdout",
     "output_type": "stream",
     "text": [
      "Random bytes:\n",
      "\tb'\\xd2P\\xbf\\xbe\\xb7D\\xf1{\\xc6\\xc2'\n",
      "converted integers:\n",
      "\t[210, 80, 191, 190, 183, 68, 241, 123, 198, 194]\n"
     ]
    }
   ],
   "source": [
    "# transform to integer bytes\n",
    "int_bytes = [b for b in output]\n",
    "\n",
    "print(f\"Random bytes:\\n\\t{output}\\nconverted integers:\\n\\t{int_bytes}\")"
   ]
  },
  {
   "cell_type": "code",
   "execution_count": 45,
   "metadata": {},
   "outputs": [
    {
     "data": {
      "text/plain": [
       "993186517610735815345858"
      ]
     },
     "execution_count": 45,
     "metadata": {},
     "output_type": "execute_result"
    }
   ],
   "source": [
    "# transform to integer\n",
    "int.from_bytes(output, \"big\")"
   ]
  },
  {
   "cell_type": "markdown",
   "metadata": {},
   "source": [
    "With the system random we can generate random bits of information. For instance:"
   ]
  },
  {
   "cell_type": "code",
   "execution_count": 213,
   "metadata": {},
   "outputs": [
    {
     "data": {
      "text/plain": [
       "'10101010000011100000010100010111111110000000001110101010011001111001000001000111101000101100011011111111110000110000110101100000001011101000101011101011100111000010010111110011001110101110011001111110111001101111100111100010100110100011111011100010011111101011111011100101011011000010101001110100010110001001010110111011010110001010011100010111101001111100110111110111011001011101011101001001110000110011000000111001110011010100111010111000010010100110110010010100000010111110001011000010100010111001000110100011'"
      ]
     },
     "execution_count": 213,
     "metadata": {},
     "output_type": "execute_result"
    }
   ],
   "source": [
    "# using secrets to acess the sytem random\n",
    "import secrets\n",
    "\n",
    "r = secrets.SystemRandom()\n",
    "r.seed(23123)\n",
    "bin(r.getrandbits(512))[2:]"
   ]
  },
  {
   "cell_type": "markdown",
   "metadata": {},
   "source": [
    "## The quest for a perfect **random generator**\n",
    "\n",
    "Using environmental computer noise is great as a source of entropy to generate random numbers, however the noise that Alice generates is differen than what Bob generates so they do not generate the same stream of bits. For now, we are forced to use pseudorandom generators based on a single seed, the secret key.\n",
    "\n",
    "We need that:\n",
    "\n",
    "* The probability to randomly generate each bit 1 or 0 is 0.5\n",
    "* Alice and Bob generate the same exact stream of random bits\n",
    "\n",
    "How can we do that?\n",
    "\n",
    "Hopefully quantum physics comes to help. Quantum physics is intrinsecally random and therfore we can use it to generate purely random numbers. Also there are ways to correlate two systems (Alice and Bob) so that they generate the same stream of random numbers. This physics phenomenon is called [quantum entanglement](https://en.wikipedia.org/wiki/Quantum_entanglement) and is an active field of research in both experimental and theoretical physics."
   ]
  },
  {
   "cell_type": "code",
   "execution_count": null,
   "metadata": {},
   "outputs": [],
   "source": []
  }
 ],
 "metadata": {
  "kernelspec": {
   "display_name": "Python 3",
   "language": "python",
   "name": "python3"
  },
  "language_info": {
   "codemirror_mode": {
    "name": "ipython",
    "version": 3
   },
   "file_extension": ".py",
   "mimetype": "text/x-python",
   "name": "python",
   "nbconvert_exporter": "python",
   "pygments_lexer": "ipython3",
   "version": "3.6.7"
  }
 },
 "nbformat": 4,
 "nbformat_minor": 4
}
