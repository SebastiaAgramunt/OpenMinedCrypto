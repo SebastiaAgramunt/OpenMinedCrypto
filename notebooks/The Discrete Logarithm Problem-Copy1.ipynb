{
 "cells": [
  {
   "cell_type": "markdown",
   "metadata": {},
   "source": [
    "# The problem of exchanging a key through an insecure channel\n",
    "\n",
    "For Alice and Bob to comunicate securely they need to stablish a secret key before. For now we've assumed that they do so by meeting in person but what if... they can stablish the key through an insecure channel?. To understand how to do so we need first to understand the discrete logarithm problem. For a different explanation check this [post](https://sebastiaagramunt.medium.com/discrete-logarithm-problem-and-diffie-hellman-key-exchange-821a45202d26).\n",
    "\n",
    "## Discrete logarithm problem\n",
    "\n",
    "You may know logarithms from your math class at school. They are pretty simple. The function logarithm is normally represented as\n",
    "\n",
    "$$y=\\log_b(x)$$\n",
    "\n",
    "where $x$, $y$ and $b$ are related by\n",
    "\n",
    "$$x=b^y$$\n",
    "\n",
    "here b is known as the base of the logarithm. The logarithm problem is the problem of finding $y$ knowing $b$ and $x$, i.e. calculate the logarithm of $x$ base $b$. This is straighforward, let's plot the logarithm function:"
   ]
  },
  {
   "cell_type": "code",
   "execution_count": 49,
   "metadata": {},
   "outputs": [
    {
     "data": {
      "text/plain": [
       "<Figure size 432x288 with 0 Axes>"
      ]
     },
     "metadata": {},
     "output_type": "display_data"
    },
    {
     "data": {
      "image/png": "[encoded data removed]",
      "text/plain": [
       "<Figure size 1008x288 with 1 Axes>"
      ]
     },
     "metadata": {
      "needs_background": "light"
     },
     "output_type": "display_data"
    }
   ],
   "source": [
    "import matplotlib.pyplot as plt\n",
    "import numpy as np\n",
    "\n",
    "xmax = 1000\n",
    "ymax = np.log10(xmax)\n",
    "\n",
    "x = np.linspace(1, xmax, xmax)\n",
    "y = np.log10(x)\n",
    "\n",
    "plt.clf()\n",
    "\n",
    "fig = plt.figure(figsize=(14,4))\n",
    "ax = fig.add_subplot(1, 1, 1)\n",
    "ax.plot(x, y)\n",
    "\n",
    "ax.set_xticks(np.arange(0, xmax+1, xmax//10))\n",
    "ax.set_yticks(np.arange(0, ymax+1, 1))\n",
    "\n",
    "ax.set_title(\"$y=log_{10}(x)$\")\n",
    "ax.set_xlabel(\"$x$\")\n",
    "ax.set_ylabel(\"$y$\")\n",
    "#ax.set_xscale('log')\n",
    "plt.grid()\n"
   ]
  },
  {
   "cell_type": "markdown",
   "metadata": {},
   "source": [
    "It is easy to find $y$ knowing $x$ and $b$ (in this case $b$=10). What if we move to the modulo $p$ with product group?\n",
    "\n",
    "The discrete logarithm problem is the problem of **finding $y$** knowing $x$, $p$ (prime) and $g$ (generator for the group of $p$) such that:\n",
    "\n",
    "$$x=g^y \\textit{(mod p)}$$\n",
    "\n",
    "We take $g$ because it can generate all the possible values $x$ and therefore is more difficult to find $y$ such that the equation above is true. Let's plot this for a certain $p$ and $g$."
   ]
  },
  {
   "cell_type": "code",
   "execution_count": 2,
   "metadata": {},
   "outputs": [
    {
     "name": "stdout",
     "output_type": "stream",
     "text": [
      "Prime number:\n",
      "\t157\n",
      "Generator:\n",
      "\t61\n"
     ]
    }
   ],
   "source": [
    "from crypto import GeneratePrimeGeneratorPair\n",
    "\n",
    "p, g = GeneratePrimeGeneratorPair(8)\n",
    "\n",
    "print(f\"Prime number:\\n\\t{p}\\nGenerator:\\n\\t{g}\")"
   ]
  },
  {
   "cell_type": "code",
   "execution_count": 3,
   "metadata": {},
   "outputs": [
    {
     "ename": "NameError",
     "evalue": "name 'np' is not defined",
     "output_type": "error",
     "traceback": [
      "\u001b[0;31m-------------------------------------\u001b[0m",
      "\u001b[0;31mNameError\u001b[0mTraceback (most recent call last)",
      "\u001b[0;32m<ipython-input-3-30b9d94b44ed>\u001b[0m in \u001b[0;36m<module>\u001b[0;34m\u001b[0m\n\u001b[0;32m----> 1\u001b[0;31m \u001b[0my\u001b[0m \u001b[0;34m=\u001b[0m \u001b[0mnp\u001b[0m\u001b[0;34m.\u001b[0m\u001b[0marange\u001b[0m\u001b[0;34m(\u001b[0m\u001b[0;36m1\u001b[0m\u001b[0;34m,\u001b[0m \u001b[0mp\u001b[0m\u001b[0;34m)\u001b[0m\u001b[0;34m\u001b[0m\u001b[0;34m\u001b[0m\u001b[0m\n\u001b[0m\u001b[1;32m      2\u001b[0m \u001b[0mx\u001b[0m \u001b[0;34m=\u001b[0m \u001b[0mnp\u001b[0m\u001b[0;34m.\u001b[0m\u001b[0marray\u001b[0m\u001b[0;34m(\u001b[0m\u001b[0;34m[\u001b[0m\u001b[0mpow\u001b[0m\u001b[0;34m(\u001b[0m\u001b[0mg\u001b[0m\u001b[0;34m,\u001b[0m \u001b[0mint\u001b[0m\u001b[0;34m(\u001b[0m\u001b[0my_\u001b[0m\u001b[0;34m)\u001b[0m\u001b[0;34m,\u001b[0m\u001b[0mp\u001b[0m\u001b[0;34m)\u001b[0m \u001b[0;32mfor\u001b[0m \u001b[0my_\u001b[0m \u001b[0;32min\u001b[0m \u001b[0my\u001b[0m\u001b[0;34m]\u001b[0m\u001b[0;34m)\u001b[0m\u001b[0;34m\u001b[0m\u001b[0;34m\u001b[0m\u001b[0m\n",
      "\u001b[0;31mNameError\u001b[0m: name 'np' is not defined"
     ]
    }
   ],
   "source": [
    "y = np.arange(1, p)\n",
    "x = np.array([pow(g, int(y_),p) for y_ in y])"
   ]
  },
  {
   "cell_type": "code",
   "execution_count": 4,
   "metadata": {},
   "outputs": [
    {
     "ename": "NameError",
     "evalue": "name 'plt' is not defined",
     "output_type": "error",
     "traceback": [
      "\u001b[0;31m-------------------------------------\u001b[0m",
      "\u001b[0;31mNameError\u001b[0mTraceback (most recent call last)",
      "\u001b[0;32m<ipython-input-4-edfda12afe9c>\u001b[0m in \u001b[0;36m<module>\u001b[0;34m\u001b[0m\n\u001b[0;32m----> 1\u001b[0;31m \u001b[0mplt\u001b[0m\u001b[0;34m.\u001b[0m\u001b[0mclf\u001b[0m\u001b[0;34m(\u001b[0m\u001b[0;34m)\u001b[0m\u001b[0;34m\u001b[0m\u001b[0;34m\u001b[0m\u001b[0m\n\u001b[0m\u001b[1;32m      2\u001b[0m \u001b[0;34m\u001b[0m\u001b[0m\n\u001b[1;32m      3\u001b[0m \u001b[0mfig\u001b[0m \u001b[0;34m=\u001b[0m \u001b[0mplt\u001b[0m\u001b[0;34m.\u001b[0m\u001b[0mfigure\u001b[0m\u001b[0;34m(\u001b[0m\u001b[0mfigsize\u001b[0m\u001b[0;34m=\u001b[0m\u001b[0;34m(\u001b[0m\u001b[0;36m8\u001b[0m\u001b[0;34m,\u001b[0m\u001b[0;36m8\u001b[0m\u001b[0;34m)\u001b[0m\u001b[0;34m)\u001b[0m\u001b[0;34m\u001b[0m\u001b[0;34m\u001b[0m\u001b[0m\n\u001b[1;32m      4\u001b[0m \u001b[0max\u001b[0m \u001b[0;34m=\u001b[0m \u001b[0mfig\u001b[0m\u001b[0;34m.\u001b[0m\u001b[0madd_subplot\u001b[0m\u001b[0;34m(\u001b[0m\u001b[0;36m1\u001b[0m\u001b[0;34m,\u001b[0m \u001b[0;36m1\u001b[0m\u001b[0;34m,\u001b[0m \u001b[0;36m1\u001b[0m\u001b[0;34m)\u001b[0m\u001b[0;34m\u001b[0m\u001b[0;34m\u001b[0m\u001b[0m\n\u001b[1;32m      5\u001b[0m \u001b[0max\u001b[0m\u001b[0;34m.\u001b[0m\u001b[0mscatter\u001b[0m\u001b[0;34m(\u001b[0m\u001b[0mx\u001b[0m\u001b[0;34m,\u001b[0m \u001b[0my\u001b[0m\u001b[0;34m)\u001b[0m\u001b[0;34m\u001b[0m\u001b[0;34m\u001b[0m\u001b[0m\n",
      "\u001b[0;31mNameError\u001b[0m: name 'plt' is not defined"
     ]
    }
   ],
   "source": [
    "plt.clf()\n",
    "\n",
    "fig = plt.figure(figsize=(8,8))\n",
    "ax = fig.add_subplot(1, 1, 1)\n",
    "ax.scatter(x, y)\n",
    "\n",
    "ax.set_xticks(np.arange(0, p+1, p//10))\n",
    "ax.set_yticks(np.arange(0, p+1, p//10))\n",
    "\n",
    "ax.set_title(\"Discrete Logarithm\")\n",
    "ax.set_xlabel(\"$x=g^y (mod $p)\")\n",
    "ax.set_ylabel(\"$y$\")\n",
    "#ax.set_xscale('log')\n",
    "plt.grid()"
   ]
  },
  {
   "cell_type": "markdown",
   "metadata": {},
   "source": [
    "The discrete logarithm problem is a difficult problem to solve, there's a priori no way of finding $y$, we have to test all the possible values of $y$.\n",
    "\n",
    "## How hard is it to find $y$ in the DLP?\n",
    "\n",
    "We are going to solve the DLP: First we set up the problem by generating a random prime number $p$ of $n$ bits and a corresponding generator $g$. Then randomly pick a value $x$ (spoiler, this will be our secret key) in between 0 and $p$-1. Now the \"attack\" by randomly sampling values of $y$ in between 0 and $p$-1 and compute $g^y$(mod $p$). When we find the $y$ such that $x=g^y$(mod $p$), then we know the secret $x$."
   ]
  },
  {
   "cell_type": "code",
   "execution_count": 5,
   "metadata": {},
   "outputs": [
    {
     "name": "stdout",
     "output_type": "stream",
     "text": [
      "Prime number:\n",
      "\t137\n",
      "Generator:\n",
      "\t42\n"
     ]
    }
   ],
   "source": [
    "p, g = GeneratePrimeGeneratorPair(8)\n",
    "\n",
    "print(f\"Prime number:\\n\\t{p}\\nGenerator:\\n\\t{g}\")"
   ]
  },
  {
   "cell_type": "code",
   "execution_count": 6,
   "metadata": {},
   "outputs": [],
   "source": [
    "from random import randrange\n",
    "\n",
    "def find_y(x:int, p:int , g:int, max_iter:int = 5000) ->int:\n",
    "    i=0\n",
    "    while i<max_iter:\n",
    "        a = randrange(1, p)\n",
    "        i+=1\n",
    "        if pow(g, a, p) == x:\n",
    "            return a\n",
    "    return None\n"
   ]
  },
  {
   "cell_type": "code",
   "execution_count": 7,
   "metadata": {},
   "outputs": [
    {
     "name": "stdout",
     "output_type": "stream",
     "text": [
      "CPU times: user 500 µs, sys: 0 ns, total: 500 µs\n",
      "Wall time: 504 µs\n"
     ]
    }
   ],
   "source": [
    "%%time\n",
    "x = randrange(1, p)\n",
    "y = find_y(x, p, g)\n",
    "\n",
    "assert x==pow(g, y, p), \"x not found\""
   ]
  },
  {
   "cell_type": "code",
   "execution_count": 8,
   "metadata": {},
   "outputs": [
    {
     "data": {
      "text/plain": [
       "range(4, 64, 4)"
      ]
     },
     "execution_count": 8,
     "metadata": {},
     "output_type": "execute_result"
    }
   ],
   "source": [
    "range(4, 64, 4)"
   ]
  },
  {
   "cell_type": "code",
   "execution_count": 9,
   "metadata": {},
   "outputs": [
    {
     "name": "stdout",
     "output_type": "stream",
     "text": [
      "4 cracked in 3.790855407714844e-05 seconds\n",
      "8 cracked in 0.00016689300537109375 seconds\n",
      "12 cracked in 0.0022940635681152344 seconds\n",
      "16 cracked in 0.016499042510986328 seconds\n",
      "20 cracked in 0.02032780647277832 seconds\n",
      "24 cracked in 0.019973039627075195 seconds\n",
      "28 cracked in 0.01920604705810547 seconds\n",
      "32 cracked in 0.03633880615234375 seconds\n",
      "36 cracked in 0.046959877014160156 seconds\n",
      "40 cracked in 0.03914999961853027 seconds\n",
      "44 cracked in 0.0473170280456543 seconds\n",
      "48 cracked in 0.053476810455322266 seconds\n",
      "52 cracked in 0.054965972900390625 seconds\n",
      "56 cracked in 0.051628828048706055 seconds\n",
      "60 cracked in 0.06239509582519531 seconds\n",
      "64 cracked in 0.07889938354492188 seconds\n",
      "68 cracked in 0.07699012756347656 seconds\n",
      "72 cracked in 0.08201408386230469 seconds\n",
      "76 cracked in 0.09290909767150879 seconds\n",
      "80 cracked in 0.09875607490539551 seconds\n",
      "84 cracked in 0.10877418518066406 seconds\n",
      "88 cracked in 0.10406613349914551 seconds\n",
      "92 cracked in 0.12116408348083496 seconds\n",
      "96 cracked in 0.13457679748535156 seconds\n",
      "100 cracked in 0.12775611877441406 seconds\n",
      "104 cracked in 0.15050315856933594 seconds\n",
      "108 cracked in 0.14970183372497559 seconds\n",
      "112 cracked in 0.14890408515930176 seconds\n",
      "116 cracked in 0.16472196578979492 seconds\n",
      "120 cracked in 0.17554831504821777 seconds\n",
      "124 cracked in 0.21222805976867676 seconds\n",
      "128 cracked in 0.21299004554748535 seconds\n",
      "132 cracked in 0.21225881576538086 seconds\n",
      "136 cracked in 0.22497820854187012 seconds\n",
      "140 cracked in 0.21902990341186523 seconds\n",
      "144 cracked in 0.23533105850219727 seconds\n",
      "148 cracked in 0.2411966323852539 seconds\n",
      "152 cracked in 0.3006289005279541 seconds\n",
      "156 cracked in 0.29710984230041504 seconds\n",
      "160 cracked in 0.3131730556488037 seconds\n",
      "164 cracked in 0.30698490142822266 seconds\n",
      "168 cracked in 0.3187870979309082 seconds\n",
      "172 cracked in 0.3375399112701416 seconds\n",
      "176 cracked in 0.3138558864593506 seconds\n",
      "180 cracked in 0.3493161201477051 seconds\n",
      "184 cracked in 0.3920159339904785 seconds\n",
      "188 cracked in 0.40050482749938965 seconds\n",
      "192 cracked in 0.401386022567749 seconds\n",
      "196 cracked in 0.4315497875213623 seconds\n",
      "200 cracked in 0.43269872665405273 seconds\n",
      "204 cracked in 0.4605119228363037 seconds\n",
      "208 cracked in 0.44855785369873047 seconds\n",
      "212 cracked in 0.5439019203186035 seconds\n",
      "216 cracked in 0.5457980632781982 seconds\n",
      "220 cracked in 0.5564589500427246 seconds\n",
      "224 cracked in 0.5440261363983154 seconds\n",
      "228 cracked in 0.5727019309997559 seconds\n",
      "232 cracked in 0.5346288681030273 seconds\n",
      "236 cracked in 0.5975558757781982 seconds\n",
      "240 cracked in 0.6056866645812988 seconds\n",
      "244 cracked in 0.6405937671661377 seconds\n",
      "248 cracked in 0.5886378288269043 seconds\n",
      "252 cracked in 0.5792062282562256 seconds\n",
      "256 cracked in 0.6434550285339355 seconds\n",
      "260 cracked in 0.6526880264282227 seconds\n",
      "264 cracked in 0.6355669498443604 seconds\n",
      "268 cracked in 0.6167099475860596 seconds\n",
      "272 cracked in 0.7609579563140869 seconds\n",
      "276 cracked in 0.7625489234924316 seconds\n",
      "280 cracked in 0.7816951274871826 seconds\n",
      "284 cracked in 0.7431540489196777 seconds\n",
      "288 cracked in 0.7703490257263184 seconds\n",
      "292 cracked in 0.8047952651977539 seconds\n",
      "296 cracked in 0.8439741134643555 seconds\n",
      "300 cracked in 0.852362871170044 seconds\n",
      "304 cracked in 0.9611828327178955 seconds\n",
      "308 cracked in 0.9628357887268066 seconds\n",
      "312 cracked in 0.922461986541748 seconds\n",
      "316 cracked in 1.017773151397705 seconds\n",
      "320 cracked in 0.9930911064147949 seconds\n",
      "324 cracked in 1.0203049182891846 seconds\n",
      "328 cracked in 1.066004991531372 seconds\n",
      "332 cracked in 1.1852977275848389 seconds\n",
      "336 cracked in 1.2744791507720947 seconds\n"
     ]
    },
    {
     "ename": "KeyboardInterrupt",
     "evalue": "",
     "output_type": "error",
     "traceback": [
      "\u001b[0;31m-------------------------------------\u001b[0m",
      "\u001b[0;31mKeyboardInterrupt\u001b[0mTraceback (most recent call last)",
      "\u001b[0;32m<ipython-input-9-7d9eb34dd94b>\u001b[0m in \u001b[0;36m<module>\u001b[0;34m\u001b[0m\n\u001b[1;32m      6\u001b[0m     \u001b[0mx\u001b[0m \u001b[0;34m=\u001b[0m \u001b[0mrandrange\u001b[0m\u001b[0;34m(\u001b[0m\u001b[0;36m1\u001b[0m\u001b[0;34m,\u001b[0m \u001b[0mp\u001b[0m\u001b[0;34m)\u001b[0m\u001b[0;34m\u001b[0m\u001b[0;34m\u001b[0m\u001b[0m\n\u001b[1;32m      7\u001b[0m     \u001b[0mt_start\u001b[0m \u001b[0;34m=\u001b[0m \u001b[0mtime\u001b[0m\u001b[0;34m(\u001b[0m\u001b[0;34m)\u001b[0m\u001b[0;34m\u001b[0m\u001b[0;34m\u001b[0m\u001b[0m\n\u001b[0;32m----> 8\u001b[0;31m     \u001b[0my\u001b[0m \u001b[0;34m=\u001b[0m \u001b[0mfind_y\u001b[0m\u001b[0;34m(\u001b[0m\u001b[0mx\u001b[0m\u001b[0;34m,\u001b[0m \u001b[0mp\u001b[0m\u001b[0;34m,\u001b[0m \u001b[0mg\u001b[0m\u001b[0;34m)\u001b[0m\u001b[0;34m\u001b[0m\u001b[0;34m\u001b[0m\u001b[0m\n\u001b[0m\u001b[1;32m      9\u001b[0m     \u001b[0mt_end\u001b[0m \u001b[0;34m=\u001b[0m \u001b[0mtime\u001b[0m\u001b[0;34m(\u001b[0m\u001b[0;34m)\u001b[0m\u001b[0;34m\u001b[0m\u001b[0;34m\u001b[0m\u001b[0m\n\u001b[1;32m     10\u001b[0m     \u001b[0mtimes\u001b[0m\u001b[0;34m.\u001b[0m\u001b[0mappend\u001b[0m\u001b[0;34m(\u001b[0m\u001b[0;34m(\u001b[0m\u001b[0mbits\u001b[0m\u001b[0;34m,\u001b[0m \u001b[0mt_end\u001b[0m\u001b[0;34m-\u001b[0m\u001b[0mt_start\u001b[0m\u001b[0;34m)\u001b[0m\u001b[0;34m)\u001b[0m\u001b[0;34m\u001b[0m\u001b[0;34m\u001b[0m\u001b[0m\n",
      "\u001b[0;32m<ipython-input-6-de092999327f>\u001b[0m in \u001b[0;36mfind_y\u001b[0;34m(x, p, g, max_iter)\u001b[0m\n\u001b[1;32m      6\u001b[0m         \u001b[0ma\u001b[0m \u001b[0;34m=\u001b[0m \u001b[0mrandrange\u001b[0m\u001b[0;34m(\u001b[0m\u001b[0;36m1\u001b[0m\u001b[0;34m,\u001b[0m \u001b[0mp\u001b[0m\u001b[0;34m)\u001b[0m\u001b[0;34m\u001b[0m\u001b[0;34m\u001b[0m\u001b[0m\n\u001b[1;32m      7\u001b[0m         \u001b[0mi\u001b[0m\u001b[0;34m+=\u001b[0m\u001b[0;36m1\u001b[0m\u001b[0;34m\u001b[0m\u001b[0;34m\u001b[0m\u001b[0m\n\u001b[0;32m----> 8\u001b[0;31m         \u001b[0;32mif\u001b[0m \u001b[0mpow\u001b[0m\u001b[0;34m(\u001b[0m\u001b[0mg\u001b[0m\u001b[0;34m,\u001b[0m \u001b[0ma\u001b[0m\u001b[0;34m,\u001b[0m \u001b[0mp\u001b[0m\u001b[0;34m)\u001b[0m \u001b[0;34m==\u001b[0m \u001b[0mx\u001b[0m\u001b[0;34m:\u001b[0m\u001b[0;34m\u001b[0m\u001b[0;34m\u001b[0m\u001b[0m\n\u001b[0m\u001b[1;32m      9\u001b[0m             \u001b[0;32mreturn\u001b[0m \u001b[0ma\u001b[0m\u001b[0;34m\u001b[0m\u001b[0;34m\u001b[0m\u001b[0m\n\u001b[1;32m     10\u001b[0m     \u001b[0;32mreturn\u001b[0m \u001b[0;32mNone\u001b[0m\u001b[0;34m\u001b[0m\u001b[0;34m\u001b[0m\u001b[0m\n",
      "\u001b[0;31mKeyboardInterrupt\u001b[0m: "
     ]
    }
   ],
   "source": [
    "from time import time\n",
    "from random import seed \n",
    "\n",
    "times = []\n",
    "trials = 20\n",
    "seed(4)\n",
    "\n",
    "for bits in range(4, 18, 1):\n",
    "    count = 0\n",
    "    avg_times = []\n",
    "    while count < trials:\n",
    "        p, g = GeneratePrimeGeneratorPair(bits)\n",
    "        x = randrange(1, p)\n",
    "\n",
    "        t_start = time()\n",
    "        y = find_y(x, p, g, 9999999999)\n",
    "        t_end = time()\n",
    "        \n",
    "        avg_times.append(t_end-t_start)\n",
    "        count += 1\n",
    "    print(f\"bits: {bits}, time: {np.mean(np.array(avg_times))}\")\n",
    "    times.append((bits, np.mean(np.array(avg_times))))"
   ]
  },
  {
   "cell_type": "code",
   "execution_count": 146,
   "metadata": {},
   "outputs": [
    {
     "data": {
      "text/plain": [
       "<Figure size 432x288 with 0 Axes>"
      ]
     },
     "metadata": {},
     "output_type": "display_data"
    },
    {
     "data": {
      "image/png": "[encoded data removed]",
      "text/plain": [
       "<Figure size 576x576 with 1 Axes>"
      ]
     },
     "metadata": {
      "needs_background": "light"
     },
     "output_type": "display_data"
    }
   ],
   "source": [
    "plt.clf()\n",
    "\n",
    "bits = [x[0] for x in times]\n",
    "t = [x[1] for x in times]\n",
    "\n",
    "fig = plt.figure(figsize=(8,8))\n",
    "ax = fig.add_subplot(1, 1, 1)\n",
    "ax.scatter(bits, t)\n",
    "\n",
    "ax.set_title(\"Time for cracking the discrete logarithm problem\")\n",
    "ax.set_xlabel(\"bytes of $p$\")\n",
    "ax.set_ylabel(\"time ($s$)\")\n",
    "#ax.set_yscale('log')\n",
    "\n",
    "plt.grid()"
   ]
  },
  {
   "cell_type": "code",
   "execution_count": null,
   "metadata": {},
   "outputs": [],
   "source": []
  },
  {
   "cell_type": "code",
   "execution_count": null,
   "metadata": {},
   "outputs": [],
   "source": []
  },
  {
   "cell_type": "code",
   "execution_count": null,
   "metadata": {},
   "outputs": [],
   "source": []
  },
  {
   "cell_type": "code",
   "execution_count": null,
   "metadata": {},
   "outputs": [],
   "source": []
  }
 ],
 "metadata": {
  "kernelspec": {
   "display_name": "Python 3",
   "language": "python",
   "name": "python3"
  },
  "language_info": {
   "codemirror_mode": {
    "name": "ipython",
    "version": 3
   },
   "file_extension": ".py",
   "mimetype": "text/x-python",
   "name": "python",
   "nbconvert_exporter": "python",
   "pygments_lexer": "ipython3",
   "version": "3.6.7"
  }
 },
 "nbformat": 4,
 "nbformat_minor": 4
}
