{
 "cells": [
  {
   "cell_type": "markdown",
   "id": "educated-slope",
   "metadata": {},
   "source": [
    "# The Paillier Cryptosystem"
   ]
  },
  {
   "cell_type": "markdown",
   "id": "romance-philippines",
   "metadata": {},
   "source": [
    "## Key generation steps\n",
    "\n",
    "* Generate two random primes $p$ and $q$\n",
    "* Calculate $N$, the product of $p$ and $q$\n",
    "* if $N$ and $\\phi(N)$ have common factors, go back to first step and generate new $p$ and $q$\n",
    "* if $N$ and $\\phi(N)$ don't share common factors (i.e. gcd is 1) then:\n",
    "    * calculate $l$, the least common multiple of $p-1$ and $q-1$\n",
    "    * calculate $N^2$\n",
    "    * draw a random number $g$ in between 1 and $N^2$\n",
    "    * calculate $\\mu$ as the inverse of $L(g^l \\textit{mod }N^2, N)$ in modulo $N$ where $L(x, n)=(x-1)/n$\n",
    "    \n",
    "The public key is ($N$, $g$) and the private key is ($N$, $l$, $\\mu$) "
   ]
  },
  {
   "cell_type": "markdown",
   "id": "demanding-solid",
   "metadata": {},
   "source": [
    "### Drawing two prime numbers"
   ]
  },
  {
   "cell_type": "code",
   "execution_count": 1,
   "id": "proprietary-congress",
   "metadata": {},
   "outputs": [
    {
     "name": "stdout",
     "output_type": "stream",
     "text": [
      "p = 53327\n",
      "q = 56533\n",
      "gcd(N, (p-1)*(q-1))=1\n"
     ]
    }
   ],
   "source": [
    "from crypto import RandomPrime\n",
    "from crypto import xgcd\n",
    "\n",
    "size_bits = 16\n",
    "\n",
    "p = RandomPrime(size_bits, m=40)\n",
    "q = RandomPrime(size_bits, m=40)\n",
    "\n",
    "while p==q:\n",
    "    q = RandomPrime(size_bits, m=40)\n",
    "\n",
    "N = p*q\n",
    "gcd, _, _ = xgcd(N, (p-1)*(q-1))\n",
    "\n",
    "print(f\"p = {p}\")\n",
    "print(f\"q = {q}\")\n",
    "print(f\"gcd(N, (p-1)*(q-1))={gcd}\")"
   ]
  },
  {
   "cell_type": "markdown",
   "id": "color-boundary",
   "metadata": {},
   "source": [
    "### Calculating l, g and mu"
   ]
  },
  {
   "cell_type": "code",
   "execution_count": 2,
   "id": "mental-office",
   "metadata": {},
   "outputs": [
    {
     "name": "stdout",
     "output_type": "stream",
     "text": [
      "l = 215330388\n",
      "N^2 = 9088628874800854681\n",
      "mu = 2106565611\n"
     ]
    }
   ],
   "source": [
    "from random import randrange\n",
    "from crypto import LCM, InverseMod\n",
    "\n",
    "def _L(x, n):\n",
    "    return (x-1)//n\n",
    "\n",
    "l = LCM(p-1, q-1)\n",
    "nsq = N*N\n",
    "g = randrange(1, nsq)\n",
    "mu = InverseMod(_L(pow(g, l, nsq), N), N)\n",
    "\n",
    "print(f\"l = {l}\")\n",
    "print(f\"N^2 = {nsq}\")\n",
    "print(f\"mu = {mu}\")"
   ]
  },
  {
   "cell_type": "code",
   "execution_count": 3,
   "id": "oriented-courtesy",
   "metadata": {},
   "outputs": [
    {
     "name": "stdout",
     "output_type": "stream",
     "text": [
      "PublicKey = (N, g) = (3014735291, 1698245462146605806)\n",
      "PrivateKey = (N, l, mu) = (3014735291, 215330388, 2106565611)\n"
     ]
    }
   ],
   "source": [
    "PublicKey = (N, g)\n",
    "PrivateKey = (N, l, mu)\n",
    "\n",
    "print(f\"PublicKey = (N, g) = ({N}, {g})\")\n",
    "print(f\"PrivateKey = (N, l, mu) = ({N}, {l}, {mu})\")"
   ]
  },
  {
   "cell_type": "markdown",
   "id": "signed-aging",
   "metadata": {},
   "source": [
    "## Encryption function\n",
    "\n",
    "Take the public key ($N$, $g$) and the message you want to send $m$. Find a random number $r<N$ such that it has no common factors with $N$. Then compute the ciphertext $c$ as:\n",
    "\n",
    "$$c = g^{m}*r^{N}(\\text{mod }N^2)$$"
   ]
  },
  {
   "cell_type": "code",
   "execution_count": 4,
   "id": "verbal-nudist",
   "metadata": {},
   "outputs": [
    {
     "name": "stdout",
     "output_type": "stream",
     "text": [
      "m: 2471308924\n",
      "c: 4332288696113767125\n"
     ]
    }
   ],
   "source": [
    "m = randrange(0, N)\n",
    "\n",
    "N, g = PublicKey[0], PublicKey[1]\n",
    "gcd = 2\n",
    "\n",
    "while gcd!=1:\n",
    "    r = randrange(1, N)\n",
    "    gcd, _, _ = xgcd(r, N)\n",
    "\n",
    "c = pow(g, m, N*N)*pow(r, N, N*N)%(N*N)\n",
    "\n",
    "print(f\"m: {m}\")\n",
    "print(f\"c: {c}\")"
   ]
  },
  {
   "cell_type": "markdown",
   "id": "chemical-strain",
   "metadata": {},
   "source": [
    "## Decryption function\n",
    "\n",
    "Take the private key ($N$, $l$, $\\mu$) and the ciphertext $c$ and compute:\n",
    "\n",
    "$$m = L(c^l(\\text{mod }N^2), N)*\\mu (\\text{mod }N)$$"
   ]
  },
  {
   "cell_type": "code",
   "execution_count": 5,
   "id": "gothic-province",
   "metadata": {},
   "outputs": [
    {
     "name": "stdout",
     "output_type": "stream",
     "text": [
      "Recovered message: 2471308924\n"
     ]
    }
   ],
   "source": [
    "N, l, mu = PrivateKey[0], PrivateKey[1], PrivateKey[2]\n",
    "m2 = _L(pow(c, l, N*N), N)*mu%N\n",
    "\n",
    "print(f\"Recovered message: {m2}\")"
   ]
  },
  {
   "cell_type": "code",
   "execution_count": 6,
   "id": "electric-supplement",
   "metadata": {},
   "outputs": [],
   "source": [
    "from typing import Tuple\n",
    "\n",
    "\n",
    "def PaillierKeyGenerator(size: int = 64):\n",
    "    '''\n",
    "    Implementation of Paillier Cryptosystem\n",
    "    This function generates p                                                                                                                                                                                                                                                                                                                        .\n",
    "    ublic and private keys\n",
    "    Input:\n",
    "        size: size in bits of the field\n",
    "    Output:\n",
    "        PublicKey: (n, g)\n",
    "        PrivateKey: (n, l, mu)\n",
    "    '''\n",
    "    \n",
    "    gcd = 2\n",
    "    while gcd!=1:\n",
    "        p = RandomPrime(size, 40)\n",
    "        q = RandomPrime(size, 40)\n",
    "        N = p*q\n",
    "\n",
    "        gcd, _, _ = xgcd(N, (p-1)*(q-1))\n",
    "\n",
    "        if gcd==1:\n",
    "            l = LCM(p-1, q-1)\n",
    "            nsq = N*N\n",
    "            g = randrange(1, nsq)\n",
    "            mu = InverseMod(_L(pow(g, l, nsq), N), N)\n",
    "\n",
    "    return (N, g), (N, l, mu)\n",
    "\n",
    "def PaillierEncrypt(m: int, PublicKey: Tuple[int, int]):\n",
    "    '''\n",
    "    Encrypts a message m using the Paillier public key\n",
    "    Input:\n",
    "        m: message (An integer message) (mod n)\n",
    "        PublicKey: A tuple (N, g)\n",
    "    Output:\n",
    "        c: Encrypted message\n",
    "    '''\n",
    "    N, g = PublicKey[0], PublicKey[1]\n",
    "    gcd = 2\n",
    "    while gcd!=1:\n",
    "        r = randrange(1, N)\n",
    "        gcd, _, _ = xgcd(r, N)\n",
    "\n",
    "    return pow(g, m, N*N)*pow(r, N, N*N)%(N*N)\n",
    "\n",
    "\n",
    "def PaillierDecrypt(c: int, PrivateKey: Tuple[int, int, int]):\n",
    "    '''\n",
    "    Decrypts a ciphertext m using the Paillier private key\n",
    "    Input:\n",
    "        m: message (An integer message) (mod n)\n",
    "        PublicKey: A tuple (n, l, mu)\n",
    "    Output:\n",
    "        m: Decrypted message\n",
    "    '''\n",
    "    N, l, mu = PrivateKey[0], PrivateKey[1], PrivateKey[2]\n",
    "    return _L(pow(c, l, N*N), N)*mu%N"
   ]
  },
  {
   "cell_type": "code",
   "execution_count": 7,
   "id": "complete-modification",
   "metadata": {},
   "outputs": [
    {
     "name": "stdout",
     "output_type": "stream",
     "text": [
      "PublicKey = (9267623274722409313, 83695160699575164744975302747966218772)\n",
      "PrivateKey = (9267623274722409313, 1544603878095019350, 1566882554582969803)\n"
     ]
    }
   ],
   "source": [
    "PublicKey, PrivateKey = PaillierKeyGenerator(32)\n",
    "\n",
    "print(f\"PublicKey = {PublicKey}\")\n",
    "print(f\"PrivateKey = {PrivateKey}\")"
   ]
  },
  {
   "cell_type": "code",
   "execution_count": 52,
   "id": "embedded-proposition",
   "metadata": {},
   "outputs": [
    {
     "name": "stdout",
     "output_type": "stream",
     "text": [
      "message: 1843263063\n",
      "ciphertext: 35509801174405282742644239699714465305\n",
      "recovered_message: 1843263063\n"
     ]
    }
   ],
   "source": [
    "m = randrange(0, N)\n",
    "c = PaillierEncrypt(m, PublicKey)\n",
    "m2 = PaillierDecrypt(c, PrivateKey)\n",
    "\n",
    "print(f\"message: {m}\")\n",
    "print(f\"ciphertext: {c}\")\n",
    "print(f\"recovered_message: {m2}\")"
   ]
  },
  {
   "cell_type": "code",
   "execution_count": null,
   "id": "acquired-field",
   "metadata": {},
   "outputs": [],
   "source": []
  },
  {
   "cell_type": "code",
   "execution_count": null,
   "id": "minimal-millennium",
   "metadata": {},
   "outputs": [],
   "source": []
  }
 ],
 "metadata": {
  "kernelspec": {
   "display_name": "Python 3",
   "language": "python",
   "name": "python3"
  },
  "language_info": {
   "codemirror_mode": {
    "name": "ipython",
    "version": 3
   },
   "file_extension": ".py",
   "mimetype": "text/x-python",
   "name": "python",
   "nbconvert_exporter": "python",
   "pygments_lexer": "ipython3",
   "version": "3.6.7"
  }
 },
 "nbformat": 4,
 "nbformat_minor": 5
}
