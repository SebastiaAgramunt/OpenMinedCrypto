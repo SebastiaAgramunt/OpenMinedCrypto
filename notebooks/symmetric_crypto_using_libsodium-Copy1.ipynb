{
 "cells": [
  {
   "cell_type": "markdown",
   "metadata": {},
   "source": [
    "# Symmetric cryptography using PyNaCl\n",
    "\n",
    "We are going to use libsodium library to do a practical example of symmetric cipher. First, Alice and Bob establish a common random key using cryptographically secure pseudorandom generators, in this example we skip the Diffie-Hellman key exchange (shown already) and generate a fresh key using the system random."
   ]
  },
  {
   "cell_type": "markdown",
   "metadata": {},
   "source": [
    "## Step 1: Generating key using Diffie-Hellman\n",
    "\n",
    "Alice and Bob need to perform DH exchange protocol to get the key. Here for simplicity we'll generate a random key of 32 bytes with the system random."
   ]
  },
  {
   "cell_type": "code",
   "execution_count": 14,
   "metadata": {},
   "outputs": [],
   "source": [
    "import secrets\n",
    "\n",
    "r = secrets.SystemRandom()\n",
    "\n",
    "# our key is going to be 32 bytes or lager\n",
    "key_bytes = 32\n",
    "\n",
    "key_int = r.getrandbits(8*key_bytes)\n",
    "key_bytes = key_int.to_bytes(key_bytes, 'big')\n",
    "\n",
    "# alternativelly you can use the default by nacl package\n",
    "#key_bytes = nacl.utils.random(key_bytes)"
   ]
  },
  {
   "cell_type": "code",
   "execution_count": 15,
   "metadata": {},
   "outputs": [
    {
     "name": "stdout",
     "output_type": "stream",
     "text": [
      "key in different bases:\n",
      "\n",
      "(bytes):\n",
      "b'\\xa9\\xa0A^fPS\\x07\\xd4\\x05\\xe0\\x83\\xd4iK|\\xbey+6\\xc40\\xbd\\xbbs;\\x1d\\xdc\\x99\\xf9\\xbf\\x99'\n",
      "\n",
      "(int):\n",
      "76724018099458986492966865218514208743877189162187690893866404943530533961625\n",
      "\n",
      "(bits):\n",
      "1010100110100000010000010101111001100110010100000101001100000111110101000000010111100000100000111101010001101001010010110111110010111110011110010010101100110110110001000011000010111101101110110111001100111011000111011101110010011001111110011011111110011001\n",
      "\n",
      "(individual bytes in integer):\n",
      "[169, 160, 65, 94, 102, 80, 83, 7, 212, 5, 224, 131, 212, 105, 75, 124, 190, 121, 43, 54, 196, 48, 189, 187, 115, 59, 29, 220, 153, 249, 191, 153]\n",
      "\n"
     ]
    }
   ],
   "source": [
    "print(f\"key in different bases:\\n\")\n",
    "\n",
    "print(f\"(bytes):\\n{key}\\n\")\n",
    "print(f\"(int):\\n{int.from_bytes(key, 'big')}\\n\")\n",
    "print(f\"(bits):\\n{bin(int.from_bytes(key, 'big'))[2:]}\\n\")\n",
    "print(f\"(individual bytes in integer):\\n{[k for k in key]}\\n\")"
   ]
  },
  {
   "cell_type": "markdown",
   "metadata": {},
   "source": [
    "## Use PyNaCl to secure communication"
   ]
  },
  {
   "cell_type": "code",
   "execution_count": 2,
   "metadata": {},
   "outputs": [],
   "source": [
    "import nacl.secret\n",
    "import nacl.utils\n",
    "\n",
    "# define a box, an object to encrypt/decrypt\n",
    "box = nacl.secret.SecretBox(key)"
   ]
  },
  {
   "cell_type": "code",
   "execution_count": 9,
   "metadata": {},
   "outputs": [],
   "source": [
    "# the message one wants to send\n",
    "message = b\"How much wood would a woodchuck chuck if a woodchuck could chuck wood?\""
   ]
  },
  {
   "cell_type": "code",
   "execution_count": 10,
   "metadata": {},
   "outputs": [],
   "source": [
    "# nonce (number used once) can be public but never reused for the same key\n",
    "nonce = nacl.utils.random(nacl.secret.SecretBox.NONCE_SIZE)\n",
    "\n",
    "# encryption with the message and the nonce\n",
    "encrypted = box.encrypt(message, nonce)"
   ]
  },
  {
   "cell_type": "code",
   "execution_count": 20,
   "metadata": {},
   "outputs": [
    {
     "data": {
      "text/plain": [
       "86"
      ]
     },
     "execution_count": 20,
     "metadata": {},
     "output_type": "execute_result"
    }
   ],
   "source": [
    "len(encrypted.ciphertext)"
   ]
  },
  {
   "cell_type": "code",
   "execution_count": 19,
   "metadata": {},
   "outputs": [
    {
     "data": {
      "text/plain": [
       "70"
      ]
     },
     "execution_count": 19,
     "metadata": {},
     "output_type": "execute_result"
    }
   ],
   "source": [
    "len(message)"
   ]
  },
  {
   "cell_type": "code",
   "execution_count": 18,
   "metadata": {},
   "outputs": [
    {
     "data": {
      "text/plain": [
       "24"
      ]
     },
     "execution_count": 18,
     "metadata": {},
     "output_type": "execute_result"
    }
   ],
   "source": [
    "len(nonce)"
   ]
  },
  {
   "cell_type": "code",
   "execution_count": 17,
   "metadata": {},
   "outputs": [
    {
     "data": {
      "text/plain": [
       "16"
      ]
     },
     "execution_count": 17,
     "metadata": {},
     "output_type": "execute_result"
    }
   ],
   "source": [
    "box.MACBYTES"
   ]
  },
  {
   "cell_type": "code",
   "execution_count": 11,
   "metadata": {},
   "outputs": [],
   "source": [
    "# checking the length of the \n",
    "assert len(encrypted.ciphertext) == len(message) + box.MACBYTES"
   ]
  },
  {
   "cell_type": "code",
   "execution_count": 16,
   "metadata": {},
   "outputs": [
    {
     "name": "stdout",
     "output_type": "stream",
     "text": [
      "How much wood would a woodchuck chuck if a woodchuck could chuck wood?\n",
      "b'How much wood would a woodchuck chuck if a woodchuck could chuck wood?'\n"
     ]
    }
   ],
   "source": [
    "plaintext = box.decrypt(encrypted)\n",
    "print(plaintext)"
   ]
  },
  {
   "cell_type": "code",
   "execution_count": null,
   "metadata": {},
   "outputs": [],
   "source": []
  },
  {
   "cell_type": "code",
   "execution_count": null,
   "metadata": {},
   "outputs": [],
   "source": []
  }
 ],
 "metadata": {
  "kernelspec": {
   "display_name": "Python 3",
   "language": "python",
   "name": "python3"
  },
  "language_info": {
   "codemirror_mode": {
    "name": "ipython",
    "version": 3
   },
   "file_extension": ".py",
   "mimetype": "text/x-python",
   "name": "python",
   "nbconvert_exporter": "python",
   "pygments_lexer": "ipython3",
   "version": "3.6.7"
  }
 },
 "nbformat": 4,
 "nbformat_minor": 4
}
