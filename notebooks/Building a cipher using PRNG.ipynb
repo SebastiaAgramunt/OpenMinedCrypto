{
 "cells": [
  {
   "cell_type": "markdown",
   "id": "electrical-employer",
   "metadata": {},
   "source": [
    "## Padding bytes (XOR operation)\n",
    "\n",
    "We need to implement the XOR operation byte-wise, that is how we \"pad\" our message to convert it to its encrypted form."
   ]
  },
  {
   "cell_type": "code",
   "execution_count": null,
   "id": "exposed-median",
   "metadata": {},
   "outputs": [],
   "source": []
  },
  {
   "cell_type": "markdown",
   "id": "federal-numbers",
   "metadata": {},
   "source": [
    "## Bytes random generator\n",
    "\n",
    "We need a pseudorandom genertor for bytes, let's code it!\n",
    "\n",
    "In Python we have the ```state``` variable to store the state of the pseudorandom generator in ```random``` package."
   ]
  },
  {
   "cell_type": "code",
   "execution_count": null,
   "id": "tested-moment",
   "metadata": {},
   "outputs": [],
   "source": [
    "# in random python pacakge we have the \"state\" of the PRG\n"
   ]
  },
  {
   "cell_type": "code",
   "execution_count": null,
   "id": "small-doctrine",
   "metadata": {},
   "outputs": [],
   "source": []
  },
  {
   "cell_type": "markdown",
   "id": "physical-artwork",
   "metadata": {},
   "source": [
    "## A class for the parties, let's communicate securely!"
   ]
  },
  {
   "cell_type": "code",
   "execution_count": null,
   "id": "manual-commodity",
   "metadata": {},
   "outputs": [],
   "source": []
  },
  {
   "cell_type": "code",
   "execution_count": null,
   "id": "bound-marshall",
   "metadata": {},
   "outputs": [],
   "source": []
  },
  {
   "cell_type": "code",
   "execution_count": null,
   "id": "terminal-swimming",
   "metadata": {},
   "outputs": [],
   "source": []
  },
  {
   "cell_type": "code",
   "execution_count": null,
   "id": "federal-society",
   "metadata": {},
   "outputs": [],
   "source": []
  },
  {
   "cell_type": "code",
   "execution_count": null,
   "id": "continued-bowling",
   "metadata": {},
   "outputs": [],
   "source": []
  },
  {
   "cell_type": "code",
   "execution_count": null,
   "id": "approximate-clarity",
   "metadata": {},
   "outputs": [],
   "source": []
  },
  {
   "cell_type": "code",
   "execution_count": null,
   "id": "distinguished-stations",
   "metadata": {},
   "outputs": [],
   "source": []
  },
  {
   "cell_type": "code",
   "execution_count": null,
   "id": "million-villa",
   "metadata": {},
   "outputs": [],
   "source": []
  },
  {
   "cell_type": "code",
   "execution_count": null,
   "id": "deadly-fruit",
   "metadata": {},
   "outputs": [],
   "source": []
  }
 ],
 "metadata": {
  "kernelspec": {
   "display_name": "Python 3",
   "language": "python",
   "name": "python3"
  },
  "language_info": {
   "codemirror_mode": {
    "name": "ipython",
    "version": 3
   },
   "file_extension": ".py",
   "mimetype": "text/x-python",
   "name": "python",
   "nbconvert_exporter": "python",
   "pygments_lexer": "ipython3",
   "version": "3.6.7"
  }
 },
 "nbformat": 4,
 "nbformat_minor": 5
}
