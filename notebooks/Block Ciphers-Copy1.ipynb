{
 "cells": [
  {
   "cell_type": "markdown",
   "id": "strategic-sponsorship",
   "metadata": {},
   "source": [
    "# Bock ciphers\n",
    "\n",
    "Data is encrypted in blocks of certain amount of bytes, for instance 16 bytes. In general a block cipher that encodes with size 16 calculates ciphertexts of size multiple 16."
   ]
  },
  {
   "cell_type": "markdown",
   "id": "vertical-webmaster",
   "metadata": {},
   "source": [
    "<img src=\"img/block_cipher.png\" style=\"width:1100px\"/>"
   ]
  },
  {
   "cell_type": "markdown",
   "id": "constant-bulletin",
   "metadata": {},
   "source": [
    "## Padding a message\n",
    "\n",
    "Most of the times the lenght of the message is not a multiple of the block size so we need to \"pad\" the message to have the required length. A common padding function is [PKCS7](https://en.wikipedia.org/wiki/Padding_(cryptography)). Basically what PKCS7 does is appendinng a list of bytes with the same value corresponding to the number of bytes needed to complete the block.\n",
    "\n",
    "\n",
    "We will use PKCS7 it in the next example:"
   ]
  },
  {
   "cell_type": "code",
   "execution_count": 1,
   "id": "surrounded-cylinder",
   "metadata": {},
   "outputs": [
    {
     "name": "stdout",
     "output_type": "stream",
     "text": [
      "message:\n",
      "\tb'Cryptography is a complex subject after all...'\n",
      "(bin) \n",
      "\t01000011011100100111100101110000011101000110111101100111011100100110000101110000011010000111100100100000011010010111001100100000011000010010000001100011011011110110110101110000011011000110010101111000001000000111001101110101011000100110101001100101011000110111010000100000011000010110011001110100011001010111001000100000011000010110110001101100001011100010111000101110\n",
      "(hex) \n",
      "\t43727970746f677261706879206973206120636f6d706c6578207375626a65637420616674657220616c6c2e2e2e\n"
     ]
    }
   ],
   "source": [
    "from crypto import bytes_to_bin, bytes_to_hex\n",
    "\n",
    "message = b\"Cryptography is a complex subject after all...\"\n",
    "bin_repr = bytes_to_bin(message, pre=\"\")\n",
    "hex_repr = bytes_to_hex(message, pre=\"\")\n",
    "\n",
    "print(f\"message:\\n\\t{message}\")\n",
    "print(f\"(bin) \\n\\t{bin_repr}\")\n",
    "print(f\"(hex) \\n\\t{hex_repr}\")"
   ]
  },
  {
   "cell_type": "code",
   "execution_count": 2,
   "id": "accompanied-oakland",
   "metadata": {},
   "outputs": [
    {
     "name": "stdout",
     "output_type": "stream",
     "text": [
      "message is 46 bytes or 368 bits\n"
     ]
    }
   ],
   "source": [
    "print(f\"message is {len(message)} bytes or {len(bin_repr)} bits\")"
   ]
  },
  {
   "cell_type": "code",
   "execution_count": 3,
   "id": "nervous-burden",
   "metadata": {},
   "outputs": [
    {
     "name": "stdout",
     "output_type": "stream",
     "text": [
      "b'Cryptography is a complex subject after all...\\x02\\x02'\n"
     ]
    }
   ],
   "source": [
    "def PKCS7(m: bytes, block_size_bytes = 16):\n",
    "    n_bytes = block_size_bytes - len(m)%block_size_bytes\n",
    "    pad = bytes([n_bytes for _ in range(n_bytes)])\n",
    "    return m + pad\n",
    "    \n",
    "padded_message = PKCS7(message)\n",
    "print(padded_message)"
   ]
  },
  {
   "cell_type": "code",
   "execution_count": null,
   "id": "extreme-capture",
   "metadata": {},
   "outputs": [],
   "source": [
    "from cryptography.hazmat.primitives import padding\n",
    "\n",
    "block_size_bits = 128\n",
    "\n",
    "padder = padding.PKCS7(block_size_bits).padder()\n",
    "padded_mesage = padder.update(message) + padder.finalize()\n",
    "\n",
    "print(f\"message:\\n\\t'{message}'\")\n",
    "print(f\"\\npadded_data: \\n\\t{padded_mesage}\\n\")\n",
    "\n",
    "print(f\"bytes per block: {int(block_size_bits/8)}\")\n",
    "print(f\"bits per block: {block_size_bits}\")\n",
    "print(f\"message length: {len(message)}\")\n",
    "print(f\"padded_message lenght: {len(padded_mesage)}\")"
   ]
  },
  {
   "cell_type": "markdown",
   "id": "organized-moment",
   "metadata": {},
   "source": [
    "## Encrypting using AES (Advanced Encryption Algorithm)\n",
    "\n",
    "AES is a block cipher that was established as a standard by NIST in 2001. AES is a subset of the Rijndael block cipher developed by Vincent Rijmen and Joan Daemen submitted to NIST during the [AES selection process](https://en.wikipedia.org/wiki/Advanced_Encryption_Standard_process).\n",
    "\n",
    "\n",
    "We are not going to go into the details of te exact implementation but the readers are referred to the book of [Katz and Lindell](http://www.cs.umd.edu/~jkatz/imc.html) Chapter 6 section 2. Also Mike Pound explains AES in this [video](https://www.youtube.com/watch?v=O4xNJsjtN6E&t=524s&ab_channel=Computerphile), check it out!"
   ]
  },
  {
   "cell_type": "code",
   "execution_count": null,
   "id": "sunset-extraction",
   "metadata": {},
   "outputs": [],
   "source": [
    "from cryptography.hazmat.primitives.ciphers import Cipher, algorithms, modes\n",
    "from cryptography.hazmat.backends import default_backend\n",
    "import os\n",
    "\n",
    "\n",
    "secret_key = os.urandom(32)\n",
    "\n",
    "cipher = Cipher(algorithms.AES(secret_key), modes.ECB(), backend=default_backend())\n",
    "\n",
    "encryptor = cipher.encryptor()\n",
    "decryptor = cipher.decryptor()"
   ]
  },
  {
   "cell_type": "code",
   "execution_count": null,
   "id": "aware-sacrifice",
   "metadata": {},
   "outputs": [],
   "source": [
    "ctx = encryptor.update(padded_message) + encryptor.finalize()\n",
    "print(f\"Decrypted message:\\n{decryptor.update(ctx) + decryptor.finalize()}\")"
   ]
  },
  {
   "cell_type": "markdown",
   "id": "weird-filename",
   "metadata": {},
   "source": [
    "## The mode of operation\n",
    "\n",
    "A block cipher by itself is only suitable for the secure cryptographic transformation (encryption or decryption) of one fixed-length group of bits called a block. A mode of operation describes how to repeatedly apply a cipher's single-block operation to securely transform amounts of data larger than a block ([Wikipedia](https://en.wikipedia.org/wiki/Block_cipher_mode_of_operation)).\n",
    "\n",
    "The first mode is \"not doing anything\", this is the Electronic Codebook mode. See the figure below (from Wikipedia)."
   ]
  },
  {
   "cell_type": "markdown",
   "id": "capable-command",
   "metadata": {},
   "source": [
    "<img src=\"img/ECB_mode.png\" style=\"width:1100px\"/>"
   ]
  },
  {
   "cell_type": "markdown",
   "id": "critical-cinema",
   "metadata": {},
   "source": [
    "We are lucky and in ```cryptography``` package ECB implemented in ```cryptography.hazmat.primitives.ciphers.ECB``` function (we've seen in the previous example!)."
   ]
  },
  {
   "cell_type": "code",
   "execution_count": null,
   "id": "falling-breeding",
   "metadata": {},
   "outputs": [],
   "source": [
    "secret_key = os.urandom(32)\n",
    "\n",
    "cipher = Cipher(algorithms.AES(secret_key), modes.ECB(), backend=default_backend())\n",
    "\n",
    "encryptor = cipher.encryptor()\n",
    "decryptor = cipher.decryptor()"
   ]
  },
  {
   "cell_type": "markdown",
   "id": "surprised-aspect",
   "metadata": {},
   "source": [
    "Now we can encrypt the same message twice and see what we get in the ciphertext:"
   ]
  },
  {
   "cell_type": "code",
   "execution_count": null,
   "id": "bigger-suspension",
   "metadata": {},
   "outputs": [],
   "source": [
    "ctx = encryptor.update(padded_message+padded_message) + encryptor.finalize()\n",
    "print(ctx[0: len(padded_message)])\n",
    "print(ctx[len(padded_message):])"
   ]
  },
  {
   "cell_type": "markdown",
   "id": "bronze-column",
   "metadata": {},
   "source": [
    "This is not a desirable outcome. If I want to send the same message twice, I really don't want to send the same ciphertext. What if in all comunications I start by \"Dear...\" and the attacker knows it?. A better mode is the Cipher block chaining (CBC):"
   ]
  },
  {
   "cell_type": "markdown",
   "id": "sonic-ranking",
   "metadata": {},
   "source": [
    "<img src=\"img/CBC_mode.png\" style=\"width:1100px\"/>"
   ]
  },
  {
   "cell_type": "markdown",
   "id": "meaningful-preview",
   "metadata": {},
   "source": [
    "In this case we take a random initialization vector and perform XOR operation with the block of plaintext, then we feed this into the encryptor, after that we obtain the ciphertext. This ciphertext is used as the initialization vector to encrypt the next block."
   ]
  },
  {
   "cell_type": "code",
   "execution_count": null,
   "id": "breeding-transportation",
   "metadata": {},
   "outputs": [],
   "source": [
    "secret_key = os.urandom(32)\n",
    "iv = os.urandom(16)\n",
    "\n",
    "cipher = Cipher(algorithms.AES(secret_key), modes.CBC(iv), backend=default_backend())\n",
    "\n",
    "encryptor = cipher.encryptor()\n",
    "decryptor = cipher.decryptor()"
   ]
  },
  {
   "cell_type": "code",
   "execution_count": null,
   "id": "smooth-celtic",
   "metadata": {},
   "outputs": [],
   "source": [
    "ctx = encryptor.update(padded_message+padded_message) + encryptor.finalize()\n",
    "print(ctx[0: len(padded_message)])\n",
    "print(ctx[len(padded_message):])"
   ]
  },
  {
   "cell_type": "markdown",
   "id": "cutting-demographic",
   "metadata": {},
   "source": [
    "## Size of ciphertext"
   ]
  },
  {
   "cell_type": "code",
   "execution_count": null,
   "id": "quick-multiple",
   "metadata": {},
   "outputs": [],
   "source": [
    "block_size_bits = 128\n",
    "\n",
    "for message_len in range(128):\n",
    "    m = str.encode(\"a\"*message_len)\n",
    "    \n",
    "    padder = padding.PKCS7(block_size_bits).padder()\n",
    "    m_padded = padder.update(m) + padder.finalize()\n",
    "    encryptor = cipher.encryptor()\n",
    "    \n",
    "    ctx = encryptor.update(m_padded) + encryptor.finalize()\n",
    "    print(len(m_padded))"
   ]
  },
  {
   "cell_type": "markdown",
   "id": "polish-parts",
   "metadata": {},
   "source": [
    "## Fernet"
   ]
  },
  {
   "cell_type": "code",
   "execution_count": null,
   "id": "choice-supply",
   "metadata": {},
   "outputs": [],
   "source": [
    "from cryptography.fernet import Fernet\n",
    "\n",
    "# secret key generation\n",
    "secret_key = Fernet.generate_key()\n",
    "box = Fernet(secret_key)\n",
    "\n",
    "max_len = 100\n",
    "for n in range(1, max_len):\n",
    "    # generate messages of n a's\n",
    "    message = \"\".join([\"a\" for _ in range(n)])\n",
    "    message = str.encode(message)\n",
    "    \n",
    "    ciphertext = box.encrypt(message)\n",
    "    print(f\"len_message: {len(message)}, len_ciphertext: {len(ciphertext)}\")\n"
   ]
  },
  {
   "cell_type": "code",
   "execution_count": null,
   "id": "raised-steps",
   "metadata": {},
   "outputs": [],
   "source": []
  }
 ],
 "metadata": {
  "kernelspec": {
   "display_name": "Python 3",
   "language": "python",
   "name": "python3"
  },
  "language_info": {
   "codemirror_mode": {
    "name": "ipython",
    "version": 3
   },
   "file_extension": ".py",
   "mimetype": "text/x-python",
   "name": "python",
   "nbconvert_exporter": "python",
   "pygments_lexer": "ipython3",
   "version": "3.6.7"
  }
 },
 "nbformat": 4,
 "nbformat_minor": 5
}
