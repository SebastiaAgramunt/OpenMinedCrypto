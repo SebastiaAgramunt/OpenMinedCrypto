{
 "cells": [
  {
   "cell_type": "markdown",
   "metadata": {},
   "source": [
    "# Basic helping functions"
   ]
  },
  {
   "cell_type": "code",
   "execution_count": 1,
   "metadata": {},
   "outputs": [],
   "source": [
    "from crypto import binary, hexadecimal, bytes_to_bin, bytes_to_hex"
   ]
  },
  {
   "cell_type": "code",
   "execution_count": 2,
   "metadata": {},
   "outputs": [
    {
     "name": "stdout",
     "output_type": "stream",
     "text": [
      "message:\n",
      "b'simple message'\n",
      "len bytes: 14\n",
      "\n",
      "message in binary:\n",
      "0111001101101001011011010111000001101100011001010010000001101101011001010111001101110011011000010110011101100101\n",
      "len bits: 112\n",
      "\n",
      "message in hexadecimal:\n",
      "73696d706c65206d657373616765\n",
      "len hex:28\n",
      "\n"
     ]
    }
   ],
   "source": [
    "message = b\"simple message\"\n",
    "\n",
    "bin_repr = bytes_to_bin(message, pre=\"\")\n",
    "hex_repr = bytes_to_hex(message, pre=\"\")\n",
    "\n",
    "print(f\"message:\\n{message}\\nlen bytes: {len(message)}\\n\")\n",
    "print(f\"message in binary:\\n{bin_repr}\\nlen bits: {len(bin_repr)}\\n\")\n",
    "print(f\"message in hexadecimal:\\n{hex_repr}\\nlen hex:{len(hex_repr)}\\n\")"
   ]
  },
  {
   "cell_type": "markdown",
   "metadata": {},
   "source": [
    "# Stream and Block ciphers\n",
    "\n",
    "According to the lenght of the ciphertext compared do the lenght of the original message we can classify ciphers as being stream or block.\n",
    "\n",
    "# Stream ciphers\n"
   ]
  },
  {
   "cell_type": "markdown",
   "metadata": {},
   "source": [
    "<img src=\"img/stream_cipher.png\" style=\"width:900px\"/>"
   ]
  },
  {
   "cell_type": "markdown",
   "metadata": {},
   "source": [
    "The ciphertext has the same lenght as the plaintext, if we add one more bit to the plaintext that would result in one more bit in the plaintext. Let's use a stream cipher called [ChaCha20](https://tools.ietf.org/html/draft-strombergson-chacha-test-vectors-00), you can find a python implementation [here](https://asecuritysite.com/encryption/chacha)."
   ]
  },
  {
   "cell_type": "code",
   "execution_count": 3,
   "metadata": {},
   "outputs": [],
   "source": [
    "import os\n",
    "from cryptography.hazmat.primitives.ciphers import Cipher, algorithms, modes\n",
    "from cryptography.hazmat.backends import default_backend\n",
    "\n",
    "# we need a key and a nonce generated using urandom from your os\n",
    "secret_key = os.urandom(32)\n",
    "nonce = os.urandom(16)\n",
    "algorithm = algorithms.ChaCha20(secret_key, nonce)\n",
    "\n",
    "# we define here the cipher\n",
    "chachacipher = Cipher(algorithm, mode=None, backend=default_backend())\n",
    "encryptor = chachacipher.encryptor()\n",
    "decryptor = chachacipher.decryptor()"
   ]
  },
  {
   "cell_type": "code",
   "execution_count": 4,
   "metadata": {},
   "outputs": [],
   "source": [
    "message = b\"A super secret message\"\n",
    "ctx = encryptor.update(message)\n",
    "ptx = decryptor.update(ctx)"
   ]
  },
  {
   "cell_type": "code",
   "execution_count": 5,
   "metadata": {},
   "outputs": [
    {
     "name": "stdout",
     "output_type": "stream",
     "text": [
      "message_len: 0, ciphertext_len: 0\n",
      "message_len: 1, ciphertext_len: 1\n",
      "message_len: 2, ciphertext_len: 2\n",
      "message_len: 3, ciphertext_len: 3\n",
      "message_len: 4, ciphertext_len: 4\n",
      "message_len: 5, ciphertext_len: 5\n",
      "message_len: 6, ciphertext_len: 6\n",
      "message_len: 7, ciphertext_len: 7\n",
      "message_len: 8, ciphertext_len: 8\n",
      "message_len: 9, ciphertext_len: 9\n",
      "message_len: 10, ciphertext_len: 10\n",
      "message_len: 11, ciphertext_len: 11\n",
      "message_len: 12, ciphertext_len: 12\n",
      "message_len: 13, ciphertext_len: 13\n",
      "message_len: 14, ciphertext_len: 14\n",
      "message_len: 15, ciphertext_len: 15\n",
      "message_len: 16, ciphertext_len: 16\n",
      "message_len: 17, ciphertext_len: 17\n",
      "message_len: 18, ciphertext_len: 18\n",
      "message_len: 19, ciphertext_len: 19\n",
      "message_len: 20, ciphertext_len: 20\n",
      "message_len: 21, ciphertext_len: 21\n",
      "message_len: 22, ciphertext_len: 22\n",
      "message_len: 23, ciphertext_len: 23\n",
      "message_len: 24, ciphertext_len: 24\n",
      "message_len: 25, ciphertext_len: 25\n",
      "message_len: 26, ciphertext_len: 26\n",
      "message_len: 27, ciphertext_len: 27\n",
      "message_len: 28, ciphertext_len: 28\n",
      "message_len: 29, ciphertext_len: 29\n",
      "message_len: 30, ciphertext_len: 30\n",
      "message_len: 31, ciphertext_len: 31\n"
     ]
    }
   ],
   "source": [
    "for message_len in range(32):\n",
    "    message = str.encode(\"a\"*message_len)\n",
    "    ctx = encryptor.update(message)\n",
    "    print(f\"message_len: {message_len}, ciphertext_len: {len(ctx)}\")"
   ]
  },
  {
   "cell_type": "markdown",
   "metadata": {},
   "source": [
    "The lenght of the ciphertext is the same as the lenght of the plaintext in stream ciphers."
   ]
  },
  {
   "cell_type": "markdown",
   "metadata": {},
   "source": [
    "# Bock ciphers\n",
    "\n",
    "Data is encrypted in blocks of certain amount of bytes, for instance 16 bytes. In general a block cipher that encodes with size 16 calculates ciphertexts of size multiple 16."
   ]
  },
  {
   "cell_type": "markdown",
   "metadata": {},
   "source": [
    "<img src=\"img/block_cipher.png\" style=\"width:1100px\"/>"
   ]
  },
  {
   "cell_type": "markdown",
   "metadata": {},
   "source": [
    "## Padding a message\n",
    "\n",
    "Most of the times the lenght of the message is not a multiple of the block size so we need to \"pad\" the message to have the required length. A common padding function is [PKCS7](https://en.wikipedia.org/wiki/Padding_(cryptography)). Basically what PKCS7 does is appendinng a list of bytes with the same value corresponding to the number of bytes needed to complete the block.\n",
    "\n",
    "\n",
    "We will use PKCS7 it in the next example:"
   ]
  },
  {
   "cell_type": "code",
   "execution_count": 6,
   "metadata": {},
   "outputs": [],
   "source": [
    "message = b\"Cryptography is a complex subject after all...\"\n",
    "bin_repr = bytes_to_bin(message, pre=\"\")\n",
    "hex_repr = bytes_to_hex(message, pre=\"\")"
   ]
  },
  {
   "cell_type": "code",
   "execution_count": 7,
   "metadata": {},
   "outputs": [
    {
     "name": "stdout",
     "output_type": "stream",
     "text": [
      "message 'b'Cryptography is a complex subject after all...'' is 46 bytes or 368 bits\n",
      "block is of 16 bytes or 128 bits\n",
      "\n",
      "padded_data: \n",
      "\tb'Cryptography is a complex subject after all...\\x02\\x02'\n",
      "len_padded_data: \n",
      "\t48\n"
     ]
    }
   ],
   "source": [
    "from cryptography.hazmat.primitives import padding\n",
    "\n",
    "block_size_bits = 128\n",
    "\n",
    "padder = padding.PKCS7(block_size_bits).padder()\n",
    "message_padded = padder.update(message) + padder.finalize()\n",
    "\n",
    "print(f\"message '{message}' is {len(message)} bytes or {len(bin_repr)} bits\")\n",
    "print(f\"block is of {int(block_size_bits/8)} bytes or {block_size_bits} bits\\n\")\n",
    "print(f\"padded_data: \\n\\t{message_padded}\\nlen_padded_data: \\n\\t{len(message_padded)}\")\n",
    "#print(f\"padded_data: {hexadecimal(int(message))}\")"
   ]
  },
  {
   "cell_type": "markdown",
   "metadata": {},
   "source": [
    "Recall that the bytes added to the message is the number of bytes we were missing to get 16 bytes:"
   ]
  },
  {
   "cell_type": "code",
   "execution_count": 8,
   "metadata": {},
   "outputs": [
    {
     "name": "stdout",
     "output_type": "stream",
     "text": [
      "This is, 32 bytes\n"
     ]
    }
   ],
   "source": [
    "print(f\"This is, {message_padded[15]} bytes\")"
   ]
  },
  {
   "cell_type": "markdown",
   "metadata": {},
   "source": [
    "## Encrypting using Advanced Encryption Standard algorithm (AES)"
   ]
  },
  {
   "cell_type": "code",
   "execution_count": 9,
   "metadata": {},
   "outputs": [],
   "source": [
    "secret_key = os.urandom(32)\n",
    "\n",
    "cipher = Cipher(algorithms.AES(secret_key), modes.ECB(), backend=default_backend())\n",
    "\n",
    "encryptor = cipher.encryptor()\n",
    "decryptor = cipher.decryptor()"
   ]
  },
  {
   "cell_type": "code",
   "execution_count": 10,
   "metadata": {},
   "outputs": [
    {
     "name": "stdout",
     "output_type": "stream",
     "text": [
      "Decrypted message:\n",
      "b'Cryptography is a complex subject after all...\\x02\\x02'\n"
     ]
    }
   ],
   "source": [
    "ctx = encryptor.update(message_padded) + encryptor.finalize()\n",
    "print(f\"Decrypted message:\\n{decryptor.update(ctx) + decryptor.finalize()}\")"
   ]
  },
  {
   "cell_type": "markdown",
   "metadata": {},
   "source": [
    "## The mode of operation\n",
    "\n",
    "A block cipher by itself is only suitable for the secure cryptographic transformation (encryption or decryption) of one fixed-length group of bits called a block. A mode of operation describes how to repeatedly apply a cipher's single-block operation to securely transform amounts of data larger than a block ([Wikipedia](https://en.wikipedia.org/wiki/Block_cipher_mode_of_operation)).\n",
    "\n",
    "The first mode is \"not doing anything\", this is the Electronic Codebook node, in ```cryptography``` package is implemented in ```cryptography.hazmat.primitives.ciphers.ECB``` function (we've seen in the previous example!)."
   ]
  },
  {
   "cell_type": "code",
   "execution_count": 11,
   "metadata": {},
   "outputs": [],
   "source": [
    "secret_key = os.urandom(32)\n",
    "\n",
    "cipher = Cipher(algorithms.AES(secret_key), modes.ECB(), backend=default_backend())\n",
    "\n",
    "encryptor = cipher.encryptor()\n",
    "decryptor = cipher.decryptor()"
   ]
  },
  {
   "cell_type": "code",
   "execution_count": 12,
   "metadata": {},
   "outputs": [
    {
     "name": "stdout",
     "output_type": "stream",
     "text": [
      "b'Z\\xdd&a\\xbeTj\\xd7\\xa9pu!\\xdcp\\xeb\\x84\\xb6\\xd1k\\xa1\\x83\\xaf\\xae\\xe3\\xd6\\t\\xce\\xbc\\xc6\\xc3 {VM\\xe3\\xcf\\xa1e\\xa2\\xe3\\x04\\x03\\xcb\\x19&\\xac\\xc6VZ\\xdd&a\\xbeTj\\xd7\\xa9pu!\\xdcp\\xeb\\x84\\xb6\\xd1k\\xa1\\x83\\xaf\\xae\\xe3\\xd6\\t\\xce\\xbc\\xc6\\xc3 {VM\\xe3\\xcf\\xa1e\\xa2\\xe3\\x04\\x03\\xcb\\x19&\\xac\\xc6V'\n"
     ]
    }
   ],
   "source": [
    "ctx = encryptor.update(message_padded+message_padded) + encryptor.finalize()\n",
    "print(ctx)"
   ]
  },
  {
   "cell_type": "code",
   "execution_count": 13,
   "metadata": {},
   "outputs": [],
   "source": [
    "secret_key = os.urandom(32)\n",
    "\n",
    "# initialization vector\n",
    "# https://en.wikipedia.org/wiki/Initialization_vector\n",
    "iv = os.urandom(16)\n",
    "\n",
    "cipher = Cipher(algorithms.AES(secret_key), modes.CBC(iv), backend=default_backend())\n",
    "\n",
    "encryptor = cipher.encryptor()\n",
    "decryptor = cipher.decryptor()"
   ]
  },
  {
   "cell_type": "code",
   "execution_count": 14,
   "metadata": {},
   "outputs": [
    {
     "name": "stdout",
     "output_type": "stream",
     "text": [
      "b'\\x01#\\xcc\\xbc\\x07\\x1f-;\\x01\\x19\\xd6\\xa9\\xbdk\\xc5\\x02\\x07\\xc5\\xd4\\xd8\\xdc:\\x9e\\xba\\xbf\\x04\\xffH\\xf9\\xe5\\x1fQ\\xc3\\x92#\\x87\\xde\\xe1\\xefVi\\xa5\\xdc\\xb1\\x91m\\xa9\\xb6\\xbe\\x83\\xb6\\xc0/\\x03\\x83\\x01\\r\\x8b\\x94\\xd2hz\\xa9!c)\\xf0\\xd2\\x15\\xe3o8\\xbb\\xc1\\x06|C*\\xa25e\\xdf\\x8b\\xd1\\xabP\\xcax\\xa2\\xd2\\xe2n\\xb7,x\\xa9'\n"
     ]
    }
   ],
   "source": [
    "ctx = encryptor.update(message_padded+message_padded) + encryptor.finalize()\n",
    "print(ctx)"
   ]
  },
  {
   "cell_type": "code",
   "execution_count": 15,
   "metadata": {},
   "outputs": [
    {
     "name": "stdout",
     "output_type": "stream",
     "text": [
      "16\n",
      "16\n",
      "16\n",
      "16\n",
      "16\n",
      "16\n",
      "16\n",
      "16\n",
      "16\n",
      "16\n",
      "16\n",
      "16\n",
      "16\n",
      "16\n",
      "16\n",
      "16\n",
      "32\n",
      "32\n",
      "32\n",
      "32\n",
      "32\n",
      "32\n",
      "32\n",
      "32\n",
      "32\n",
      "32\n",
      "32\n",
      "32\n",
      "32\n",
      "32\n",
      "32\n",
      "32\n",
      "48\n",
      "48\n",
      "48\n",
      "48\n",
      "48\n",
      "48\n",
      "48\n",
      "48\n",
      "48\n",
      "48\n",
      "48\n",
      "48\n",
      "48\n",
      "48\n",
      "48\n",
      "48\n",
      "64\n",
      "64\n",
      "64\n",
      "64\n",
      "64\n",
      "64\n",
      "64\n",
      "64\n",
      "64\n",
      "64\n",
      "64\n",
      "64\n",
      "64\n",
      "64\n",
      "64\n",
      "64\n",
      "80\n",
      "80\n",
      "80\n",
      "80\n",
      "80\n",
      "80\n",
      "80\n",
      "80\n",
      "80\n",
      "80\n",
      "80\n",
      "80\n",
      "80\n",
      "80\n",
      "80\n",
      "80\n",
      "96\n",
      "96\n",
      "96\n",
      "96\n",
      "96\n",
      "96\n",
      "96\n",
      "96\n",
      "96\n",
      "96\n",
      "96\n",
      "96\n",
      "96\n",
      "96\n",
      "96\n",
      "96\n",
      "112\n",
      "112\n",
      "112\n",
      "112\n",
      "112\n",
      "112\n",
      "112\n",
      "112\n",
      "112\n",
      "112\n",
      "112\n",
      "112\n",
      "112\n",
      "112\n",
      "112\n",
      "112\n",
      "128\n",
      "128\n",
      "128\n",
      "128\n",
      "128\n",
      "128\n",
      "128\n",
      "128\n",
      "128\n",
      "128\n",
      "128\n",
      "128\n",
      "128\n",
      "128\n",
      "128\n",
      "128\n"
     ]
    }
   ],
   "source": [
    "block_size_bits = 128\n",
    "\n",
    "for message_len in range(128):\n",
    "    m = str.encode(\"a\"*message_len)\n",
    "    \n",
    "    padder = padding.PKCS7(block_size_bits).padder()\n",
    "    m_padded = padder.update(m) + padder.finalize()\n",
    "    encryptor = cipher.encryptor()\n",
    "    \n",
    "    ctx = encryptor.update(m_padded) + encryptor.finalize()\n",
    "    print(len(m_padded))"
   ]
  },
  {
   "cell_type": "code",
   "execution_count": null,
   "metadata": {},
   "outputs": [],
   "source": []
  },
  {
   "cell_type": "code",
   "execution_count": null,
   "metadata": {},
   "outputs": [],
   "source": []
  },
  {
   "cell_type": "code",
   "execution_count": null,
   "metadata": {},
   "outputs": [],
   "source": []
  },
  {
   "cell_type": "code",
   "execution_count": null,
   "metadata": {},
   "outputs": [],
   "source": []
  },
  {
   "cell_type": "code",
   "execution_count": null,
   "metadata": {},
   "outputs": [],
   "source": []
  },
  {
   "cell_type": "code",
   "execution_count": null,
   "metadata": {},
   "outputs": [],
   "source": []
  },
  {
   "cell_type": "code",
   "execution_count": null,
   "metadata": {},
   "outputs": [],
   "source": []
  },
  {
   "cell_type": "markdown",
   "metadata": {},
   "source": [
    "## Fernet"
   ]
  },
  {
   "cell_type": "code",
   "execution_count": 16,
   "metadata": {},
   "outputs": [
    {
     "name": "stdout",
     "output_type": "stream",
     "text": [
      "len_message: 1, len_ciphertext: 100\n",
      "len_message: 2, len_ciphertext: 100\n",
      "len_message: 3, len_ciphertext: 100\n",
      "len_message: 4, len_ciphertext: 100\n",
      "len_message: 5, len_ciphertext: 100\n",
      "len_message: 6, len_ciphertext: 100\n",
      "len_message: 7, len_ciphertext: 100\n",
      "len_message: 8, len_ciphertext: 100\n",
      "len_message: 9, len_ciphertext: 100\n",
      "len_message: 10, len_ciphertext: 100\n",
      "len_message: 11, len_ciphertext: 100\n",
      "len_message: 12, len_ciphertext: 100\n",
      "len_message: 13, len_ciphertext: 100\n",
      "len_message: 14, len_ciphertext: 100\n",
      "len_message: 15, len_ciphertext: 100\n",
      "len_message: 16, len_ciphertext: 120\n",
      "len_message: 17, len_ciphertext: 120\n",
      "len_message: 18, len_ciphertext: 120\n",
      "len_message: 19, len_ciphertext: 120\n",
      "len_message: 20, len_ciphertext: 120\n",
      "len_message: 21, len_ciphertext: 120\n",
      "len_message: 22, len_ciphertext: 120\n",
      "len_message: 23, len_ciphertext: 120\n",
      "len_message: 24, len_ciphertext: 120\n",
      "len_message: 25, len_ciphertext: 120\n",
      "len_message: 26, len_ciphertext: 120\n",
      "len_message: 27, len_ciphertext: 120\n",
      "len_message: 28, len_ciphertext: 120\n",
      "len_message: 29, len_ciphertext: 120\n",
      "len_message: 30, len_ciphertext: 120\n",
      "len_message: 31, len_ciphertext: 120\n",
      "len_message: 32, len_ciphertext: 140\n",
      "len_message: 33, len_ciphertext: 140\n",
      "len_message: 34, len_ciphertext: 140\n",
      "len_message: 35, len_ciphertext: 140\n",
      "len_message: 36, len_ciphertext: 140\n",
      "len_message: 37, len_ciphertext: 140\n",
      "len_message: 38, len_ciphertext: 140\n",
      "len_message: 39, len_ciphertext: 140\n",
      "len_message: 40, len_ciphertext: 140\n",
      "len_message: 41, len_ciphertext: 140\n",
      "len_message: 42, len_ciphertext: 140\n",
      "len_message: 43, len_ciphertext: 140\n",
      "len_message: 44, len_ciphertext: 140\n",
      "len_message: 45, len_ciphertext: 140\n",
      "len_message: 46, len_ciphertext: 140\n",
      "len_message: 47, len_ciphertext: 140\n",
      "len_message: 48, len_ciphertext: 164\n",
      "len_message: 49, len_ciphertext: 164\n",
      "len_message: 50, len_ciphertext: 164\n",
      "len_message: 51, len_ciphertext: 164\n",
      "len_message: 52, len_ciphertext: 164\n",
      "len_message: 53, len_ciphertext: 164\n",
      "len_message: 54, len_ciphertext: 164\n",
      "len_message: 55, len_ciphertext: 164\n",
      "len_message: 56, len_ciphertext: 164\n",
      "len_message: 57, len_ciphertext: 164\n",
      "len_message: 58, len_ciphertext: 164\n",
      "len_message: 59, len_ciphertext: 164\n",
      "len_message: 60, len_ciphertext: 164\n",
      "len_message: 61, len_ciphertext: 164\n",
      "len_message: 62, len_ciphertext: 164\n",
      "len_message: 63, len_ciphertext: 164\n",
      "len_message: 64, len_ciphertext: 184\n",
      "len_message: 65, len_ciphertext: 184\n",
      "len_message: 66, len_ciphertext: 184\n",
      "len_message: 67, len_ciphertext: 184\n",
      "len_message: 68, len_ciphertext: 184\n",
      "len_message: 69, len_ciphertext: 184\n",
      "len_message: 70, len_ciphertext: 184\n",
      "len_message: 71, len_ciphertext: 184\n",
      "len_message: 72, len_ciphertext: 184\n",
      "len_message: 73, len_ciphertext: 184\n",
      "len_message: 74, len_ciphertext: 184\n",
      "len_message: 75, len_ciphertext: 184\n",
      "len_message: 76, len_ciphertext: 184\n",
      "len_message: 77, len_ciphertext: 184\n",
      "len_message: 78, len_ciphertext: 184\n",
      "len_message: 79, len_ciphertext: 184\n",
      "len_message: 80, len_ciphertext: 204\n",
      "len_message: 81, len_ciphertext: 204\n",
      "len_message: 82, len_ciphertext: 204\n",
      "len_message: 83, len_ciphertext: 204\n",
      "len_message: 84, len_ciphertext: 204\n",
      "len_message: 85, len_ciphertext: 204\n",
      "len_message: 86, len_ciphertext: 204\n",
      "len_message: 87, len_ciphertext: 204\n",
      "len_message: 88, len_ciphertext: 204\n",
      "len_message: 89, len_ciphertext: 204\n",
      "len_message: 90, len_ciphertext: 204\n",
      "len_message: 91, len_ciphertext: 204\n",
      "len_message: 92, len_ciphertext: 204\n",
      "len_message: 93, len_ciphertext: 204\n",
      "len_message: 94, len_ciphertext: 204\n",
      "len_message: 95, len_ciphertext: 204\n",
      "len_message: 96, len_ciphertext: 228\n",
      "len_message: 97, len_ciphertext: 228\n",
      "len_message: 98, len_ciphertext: 228\n",
      "len_message: 99, len_ciphertext: 228\n"
     ]
    }
   ],
   "source": [
    "from cryptography.fernet import Fernet\n",
    "\n",
    "# secret key generation\n",
    "secret_key = Fernet.generate_key()\n",
    "box = Fernet(secret_key)\n",
    "\n",
    "max_len = 100\n",
    "for n in range(1, max_len):\n",
    "    # generate messages of n a's\n",
    "    message = \"\".join([\"a\" for _ in range(n)])\n",
    "    message = str.encode(message)\n",
    "    \n",
    "    ciphertext = box.encrypt(message)\n",
    "    print(f\"len_message: {len(message)}, len_ciphertext: {len(ciphertext)}\")\n"
   ]
  }
 ],
 "metadata": {
  "kernelspec": {
   "display_name": "Python 3",
   "language": "python",
   "name": "python3"
  },
  "language_info": {
   "codemirror_mode": {
    "name": "ipython",
    "version": 3
   },
   "file_extension": ".py",
   "mimetype": "text/x-python",
   "name": "python",
   "nbconvert_exporter": "python",
   "pygments_lexer": "ipython3",
   "version": "3.6.7"
  }
 },
 "nbformat": 4,
 "nbformat_minor": 4
}
