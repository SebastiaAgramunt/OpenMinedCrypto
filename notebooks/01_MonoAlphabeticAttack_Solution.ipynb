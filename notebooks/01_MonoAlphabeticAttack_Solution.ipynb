{
 "cells": [
  {
   "cell_type": "markdown",
   "metadata": {},
   "source": [
    "# Exercice: Attack on mono alphabetic cipher\n",
    "\n",
    "In this exercice you will implement an attack to the mono alphabetic cipher using the corpus of the book Nineteen eighty four by George Orwell. Needless to say, a masterpiece worth reading for anyone intereted in privacy.\n",
    "\n",
    "Alice and Bob want to communicate secretly so they meet in person and choose a key that nobody else knows. They agree on using the mono alphabetic cipher to encrypt and decrypt their messages. An attacker (Charlie) is eavesdroping the communication betweeen Alice and Bob so he's able to see all the ciphertext they send to each other. Charlie only knows that Alice and Bob communicate in english and that they use the mono alphabetic cipher. Our question here is, can Charlie crack the secret key with just this information? We will see how in this exercice"
   ]
  },
  {
   "cell_type": "markdown",
   "metadata": {},
   "source": [
    "## Alice and Bob's communication\n",
    "\n",
    "As mentioned, first alice and Bob meet and agree on a secret key, for simplicity here, we copy the code of the Monoalphabetic cipher we coded in the Ciphers notebook"
   ]
  },
  {
   "cell_type": "code",
   "execution_count": 1,
   "metadata": {},
   "outputs": [],
   "source": [
    "from random import randrange, seed\n",
    "from copy import deepcopy\n",
    "import string\n",
    "\n",
    "\n",
    "seed(3)\n",
    "characters = string.ascii_lowercase\n",
    "\n",
    "def MonoKeyGenerator(characters):\n",
    "    old_chars = list(deepcopy(characters))\n",
    "    permut_ = []\n",
    "    \n",
    "    while len(old_chars)>0:\n",
    "        elem = old_chars.pop(randrange(len(old_chars)))\n",
    "        permut_.append(elem)\n",
    "    return ''.join(permut_)\n",
    "    \n",
    "def MonoEncrypt(plaintext, characters, secret_key):\n",
    "    convert_dict = {}\n",
    "    for p, c in zip(characters, secret_key):\n",
    "        convert_dict[p] = c    \n",
    "    convert_dict[' '] = ' '\n",
    "    \n",
    "    c = ''\n",
    "    for p in plaintext:\n",
    "        if p not in secret_key + \" \":\n",
    "            c += \"_\"\n",
    "        else:\n",
    "            c += convert_dict[p]   \n",
    "    return c\n",
    "\n",
    "\n",
    "def MonoDecrypt(ciphertext, characters, secret_key):\n",
    "    convert_dict = {}\n",
    "    for p, c in zip(characters, secret_key):\n",
    "        convert_dict[c] = p    \n",
    "    convert_dict[' '] = ' '\n",
    "    \n",
    "    c = ''\n",
    "    for p in  ciphertext:\n",
    "        if p not in secret_key + \" \":\n",
    "            c += \"_\"\n",
    "        else:\n",
    "            c += convert_dict[p]\n",
    "        \n",
    "    return c"
   ]
  },
  {
   "cell_type": "code",
   "execution_count": 4,
   "metadata": {},
   "outputs": [
    {
     "name": "stdout",
     "output_type": "stream",
     "text": [
      "Secret key shared between Alice and Bob: tizmxsarjchdlpgqwenbykvofu\n"
     ]
    }
   ],
   "source": [
    "seed(5)\n",
    "secret_key = MonoKeyGenerator(characters)\n",
    "print(f\"Secret key shared between Alice and Bob: {secret_key}\")"
   ]
  },
  {
   "cell_type": "code",
   "execution_count": 10,
   "metadata": {},
   "outputs": [
    {
     "name": "stdout",
     "output_type": "stream",
     "text": [
      "message:\n",
      "this is a top secret message\n",
      "\n",
      "ciphertext:\n",
      "brjn jn t bgq nxzexb lxnntax\n",
      "\n",
      "decrypted_ciphertext:\n",
      "this is a top secret message\n"
     ]
    }
   ],
   "source": [
    "message = \"this is a top secret message\"\n",
    "encrypted_message = MonoEncrypt(message, characters, secret_key)\n",
    "decrypted_ciphertext = MonoDecrypt(encrypted_message, characters, secret_key)\n",
    "\n",
    "print(f\"message:\\n{message}\\n\\nciphertext:\\n{encrypted_message}\\n\\ndecrypted_ciphertext:\\n{decrypted_ciphertext}\")"
   ]
  },
  {
   "cell_type": "markdown",
   "metadata": {},
   "source": [
    "To get real words used in english we can download a corpora in this language. For instance we can download a book and use it as the messages Alice and Bob will send to each other. In the following chunk of code we download Nineteen Eighty Four by George Orwell from [Project Gutenberg](http://gutenberg.net.au)."
   ]
  },
  {
   "cell_type": "code",
   "execution_count": 11,
   "metadata": {},
   "outputs": [],
   "source": [
    "from utils import download_data, process_load_textfile\n",
    "import string\n",
    "import os\n",
    "\n",
    "url = 'http://gutenberg.net.au/ebooks01/0100021.txt'\n",
    "filename = 'Nineteen-eighty-four_Orwell.txt'\n",
    "download_path = '/'.join(os.getcwd().split('/')[:-1]) + '/data/'\n",
    "\n",
    "#download data to specified path\n",
    "download_data(url, filename, download_path)\n",
    "\n",
    "#load data and process\n",
    "data = process_load_textfile(filename, download_path)"
   ]
  },
  {
   "cell_type": "markdown",
   "metadata": {},
   "source": [
    "Let's see how it looks after some processing"
   ]
  },
  {
   "cell_type": "code",
   "execution_count": 12,
   "metadata": {},
   "outputs": [
    {
     "data": {
      "text/plain": [
       "'ook its smooth creamy paper a little yellowed by age was of a kind that had not been manufactured for at least forty years past he could guess however that the book was much older than that he had seen it lying in the window of a frowsy little junkshop in a slummy quarter of the town just what quarter he did not now remember and had been stricken immediately by an overwhelming desire to possess it party members were supposed not to go into ordinary shops dealing on the free market it was called but the rule was not strictly kept because there were various things such as shoelaces and razor blades which it was impossible to get hold of in any other way he had given a quick glance up and down the street and then had slipped inside and bought the book for two dollars fifty at the time he was not conscious of wanting it for any particular purpose he had carried it guiltily home in his briefcase even with nothing written in it it was a compromising possession the thing that he was about to '"
      ]
     },
     "execution_count": 12,
     "metadata": {},
     "output_type": "execute_result"
    }
   ],
   "source": [
    "data[10000:11000]"
   ]
  },
  {
   "cell_type": "markdown",
   "metadata": {},
   "source": [
    "So Alice wants to send a very long message to Bob from the book Nineteen Eighty Four, this is the same as sending many messages of one word each. Let's code this part"
   ]
  },
  {
   "cell_type": "code",
   "execution_count": 13,
   "metadata": {},
   "outputs": [],
   "source": [
    "data_len = len(data)\n",
    "\n",
    "init_letter = data_len//2\n",
    "final_letter = init_letter + data_len//4\n",
    "\n",
    "message = data[init_letter:final_letter]\n",
    "encrypted_message = MonoEncrypt(message, characters, secret_key)"
   ]
  },
  {
   "cell_type": "markdown",
   "metadata": {},
   "source": [
    "## Charlie's side\n",
    "\n",
    "As we mentioned, Charlie only knows that Alice and Bob communciate in english and that they use the Monoalphabetic cipher. He's a smart guy and knows what are the most frequent words in english. His attack will consist on compare the words of the ciphertxt (encrypted data) that Alice sends to Bob and compare them with the most frequent words in english.\n",
    "\n",
    "First things first, we need to calculate the most frequent words in english, for that we will use the same book, Nineteen Eighty Four to have an estimate. There are other sources for these frequences, look at [wikipedia](https://en.wikipedia.org/wiki/Most_common_words_in_English).\n",
    "\n",
    "### Exercice 1: Word Counts"
   ]
  },
  {
   "cell_type": "code",
   "execution_count": 14,
   "metadata": {},
   "outputs": [],
   "source": [
    "from collections import Counter\n",
    "from typing import List, Tuple\n",
    "\n",
    "## Write a function that inputs a text and outputs a list of tuples with frequencies of words, hint: use Counter from package collections\n",
    "def word_count(text: str) -> List[Tuple[str, int]]:\n",
    "    # step 1: split the string into words, words are separated by space\n",
    "    \n",
    "    # step 2: return the most common words sorted using Counter from collections\n",
    "    pass\n",
    "\n",
    "# solution for exercice\n",
    "def word_count(text: str) -> List[Tuple[str, int]]:\n",
    "    words = text.split(\" \")\n",
    "    return Counter(words).most_common()"
   ]
  },
  {
   "cell_type": "code",
   "execution_count": 15,
   "metadata": {},
   "outputs": [
    {
     "data": {
      "text/plain": [
       "[('the', 6507),\n",
       " ('of', 3497),\n",
       " ('a', 2552),\n",
       " ('and', 2423),\n",
       " ('to', 2336),\n",
       " ('was', 2306),\n",
       " ('he', 1953),\n",
       " ('in', 1854),\n",
       " ('it', 1853),\n",
       " ('that', 1456)]"
      ]
     },
     "execution_count": 15,
     "metadata": {},
     "output_type": "execute_result"
    }
   ],
   "source": [
    "wc = word_count(data)\n",
    "\n",
    "assert wc[0][0]==\"the\", \"word_count not well implemented\"\n",
    "assert wc[1][0]==\"of\", \"word_count not well implemented\"\n",
    "assert wc[2][0]==\"a\", \"word_count not well implemented\"\n",
    "assert wc[3][0]==\"and\", \"word_count not well implemented\"\n",
    "assert wc[4][0]==\"to\", \"word_count not well implemented\"\n",
    "assert wc[5][0]==\"was\", \"word_count not well implemented\"\n",
    "\n",
    "wc[:10]"
   ]
  },
  {
   "cell_type": "markdown",
   "metadata": {},
   "source": [
    "### Exercice 2: Most common words lenghts\n",
    "\n",
    "Once we have the most common words we need to find the most common word for each length, this is what we are going to use to perform the attack. Program a function that inputs the whole text as a string and outputs a sorted list of the most common word with one letter, the most common word with two letters and so on. An example of output is\n",
    "\n",
    "```python\n",
    "[('a', 2552),\n",
    " ('of', 3497),\n",
    " ('the', 6507),\n",
    " ('that', 1456),\n",
    " ('there', 542)]\n",
    "```\n",
    "\n",
    "i.e. the most common word with one letter is \"a\" with a frequency of 2552, the most common word of two letters is \"of\" with a frequency of 2497 and so on."
   ]
  },
  {
   "cell_type": "code",
   "execution_count": 16,
   "metadata": {},
   "outputs": [],
   "source": [
    "## Write a function to get the most common words by length, i.e. the most common word with 1 letter, with 2 letters...\n",
    "def most_common_words_lenght(text: str) -> List[Tuple[str, int]]:\n",
    "    # Step 1: use function word_count to count all the words and have them sorted\n",
    "    \n",
    "    # Step 2: loop over the word_count list and find the first occu\n",
    "    pass\n",
    "\n",
    "\n",
    "def most_common_words_lenght(text: str) -> List[Tuple[str, int]]:\n",
    "    wc = word_count(text)\n",
    "    \n",
    "    word_freq = []\n",
    "    max_word_size = max([len(word) for word, occurrence in wc])\n",
    "    \n",
    "    size = 1\n",
    "    while size < max_word_size:\n",
    "        found = False\n",
    "        for word, occurrence in wc:\n",
    "            if len(word)==size:\n",
    "                found = True\n",
    "                word_freq.append((word, occurrence))\n",
    "                size+=1\n",
    "                break\n",
    "        if not found:\n",
    "            size += 1\n",
    "    return word_freq"
   ]
  },
  {
   "cell_type": "code",
   "execution_count": 17,
   "metadata": {},
   "outputs": [
    {
     "data": {
      "text/plain": [
       "[('a', 2552),\n",
       " ('of', 3497),\n",
       " ('the', 6507),\n",
       " ('that', 1456),\n",
       " ('there', 542),\n",
       " ('obrien', 174),\n",
       " ('winston', 450),\n",
       " ('newspeak', 83),\n",
       " ('something', 97),\n",
       " ('telescreen', 91),\n",
       " ('doublethink', 30),\n",
       " ('intellectual', 15),\n",
       " ('consciousness', 23),\n",
       " ('simultaneously', 16),\n",
       " ('extraordinarily', 5),\n",
       " ('thoughtcriminals', 7),\n",
       " ('nineteenthcentury', 4),\n",
       " ('disproportionately', 2),\n",
       " ('insufficientnothing', 1),\n",
       " ('counterrevolutionary', 1),\n",
       " ('demoralizationcontrol', 1),\n",
       " ('counterrevolutionaries', 1),\n",
       " ('impedimentahockeysticks', 1),\n",
       " ('dirtymindednesseverything', 1)]"
      ]
     },
     "execution_count": 17,
     "metadata": {},
     "output_type": "execute_result"
    }
   ],
   "source": [
    "common_words = most_common_words_lenght(data)\n",
    "\n",
    "assert common_words[0][0]==\"a\", \"common words not well implemented\"\n",
    "assert common_words[1][0]==\"of\", \"common words not well implemented\"\n",
    "assert common_words[2][0]==\"the\", \"common words not well implemented\"\n",
    "assert common_words[3][0]==\"that\", \"common words not well implemented\"\n",
    "assert common_words[4][0]==\"there\", \"common words not well implemented\"\n",
    "assert common_words[5][0]==\"obrien\", \"common words not well implemented\"\n",
    "\n",
    "common_words"
   ]
  },
  {
   "cell_type": "markdown",
   "metadata": {},
   "source": [
    "### Exercice 3: Charlie's attack\n",
    "\n",
    "Now Charlie can calculate the most common word for each word lenght in english and compare them to the most common words in the ciphertext. Let's have a look what are the most common words in the ciphertext that Alice sends to Bob. Remember Charlie is eavesdroping all encrypted communications between Alice and Bob."
   ]
  },
  {
   "cell_type": "code",
   "execution_count": 18,
   "metadata": {},
   "outputs": [
    {
     "data": {
      "text/plain": [
       "[('t', 535),\n",
       " ('gs', 952),\n",
       " ('brx', 1759),\n",
       " ('brtb', 359),\n",
       " ('vrjzr', 135),\n",
       " ('nxxlxm', 43),\n",
       " ('vjpnbgp', 79),\n",
       " ('qgnnjidx', 19),\n",
       " ('pxzxnntef', 35),\n",
       " ('bxdxnzexxp', 21),\n",
       " ('mgyidxbrjph', 18),\n",
       " ('rjxetezrjztd', 7),\n",
       " ('zgpnzjgynpxnn', 7),\n",
       " ('njlydbtpxgyndf', 6),\n",
       " ('mjnbjpayjnrtidx', 2),\n",
       " ('zgpnbeyzbjgpvjnx', 1),\n",
       " ('ltpbxdqjxzxtdvtfn', 1),\n",
       " ('mjnqegqgebjgptbxdf', 1)]"
      ]
     },
     "execution_count": 18,
     "metadata": {},
     "output_type": "execute_result"
    }
   ],
   "source": [
    "most_common_words_lenght(encrypted_message)"
   ]
  },
  {
   "cell_type": "markdown",
   "metadata": {},
   "source": [
    "Looking at the above we may be tempted to think that the letter \"a\" is substituted by letter \"t\" because both are the most frequent word with one letter. Likewise the word \"of\" would be encrypted as \"gs\" so we would substitute \"o\" by \"g\" and \"f\" by \"s\". In this exercice you need to come up with a function to try to guess the secret key from the frequencies of the words"
   ]
  },
  {
   "cell_type": "code",
   "execution_count": 24,
   "metadata": {},
   "outputs": [],
   "source": [
    "def plaintext_attack(data: str, encrypted_message: str) -> str:\n",
    "    # data is the book nineteen eighty four to calculate the frequency of words\n",
    "    # encrypted message is the message that Alice sends to Bob\n",
    "    \n",
    "    # first calculate the frequencies in plaintext and ciphertext\n",
    "    common_words_plaintext = most_common_words_lenght(data)\n",
    "    common_words_ciphertext = most_common_words_lenght(encrypted_message)\n",
    "    \n",
    "    # a dictionary that holds each letter in plaintext the conversion to ciphertext\n",
    "    key_dict = {}\n",
    "    for (word_pt, _), (word_ctx, _) in zip(common_words_plaintext, common_words_ciphertext):\n",
    "        for letter_pt, letter_ctx in zip(word_pt, word_ctx):\n",
    "            # TODO: add the letter conversion if it hasn't been added\n",
    "            pass\n",
    "        \n",
    "    # TODO: from key_dict calculate the secret_key putting the character \"_\" if the\n",
    "    # conversion hasn't been found\n",
    "    inferred_secret_key = ''\n",
    "    \n",
    "    return inferred_secret_key\n",
    "\n",
    "\n",
    "def plaintext_attack(data: str, encrypted_message: str) -> str:\n",
    "    \n",
    "    common_words_plaintext = most_common_words_lenght(data)\n",
    "    common_words_ciphertext = most_common_words_lenght(encrypted_message)\n",
    "    \n",
    "    key_dict = {}\n",
    "    for (word_pt, _), (word_ctx, _) in zip(common_words_plaintext, common_words_ciphertext):\n",
    "        for letter_pt, letter_ctx in zip(word_pt, word_ctx):\n",
    "            if key_dict.get(letter_pt) is None:\n",
    "                key_dict[letter_pt] = letter_ctx\n",
    "    \n",
    "    inferred_secret_key = ''\n",
    "    for letter in characters:\n",
    "        if key_dict.get(letter) is not None:\n",
    "            inferred_secret_key+=key_dict[letter]\n",
    "        else:\n",
    "            inferred_secret_key+=\"_\"\n",
    "    return inferred_secret_key"
   ]
  },
  {
   "cell_type": "markdown",
   "metadata": {},
   "source": [
    "And finally let's test our algorithm"
   ]
  },
  {
   "cell_type": "code",
   "execution_count": 30,
   "metadata": {},
   "outputs": [
    {
     "name": "stdout",
     "output_type": "stream",
     "text": [
      "secret_key:\n",
      "\ttizmxsarjchdlpgqwenbykvofu\n",
      "inferred_secret_key:\n",
      "\ttxzmxsfrl_xdzmgj_znby_vjf_\n",
      "\n",
      "Correctly guessed 13 out of 26\n"
     ]
    }
   ],
   "source": [
    "inferred_secret_key = plaintext_attack(data, encrypted_message)\n",
    "print(f\"secret_key:\\n\\t{secret_key}\\ninferred_secret_key:\\n\\t{inferred_secret_key}\")\n",
    "\n",
    "correctly_guessed = 0\n",
    "for sk, isk in zip(secret_key, inferred_secret_key):\n",
    "    if sk==isk:\n",
    "        correctly_guessed+=1\n",
    "print(f\"\\nCorrectly guessed {correctly_guessed} out of {len(secret_key)}\")"
   ]
  },
  {
   "cell_type": "markdown",
   "metadata": {},
   "source": [
    "Not bad! we've guessed 13 out of 26 characters!, let's see how the decrypted text would look like with our inferred key and compare it to the original"
   ]
  },
  {
   "cell_type": "code",
   "execution_count": 31,
   "metadata": {},
   "outputs": [
    {
     "data": {
      "text/plain": [
       "'x_ukn fo_wa_n x_ thk saik io_kik_t layx__ a f_xk_nly ha_n fo_ a ioik_t o_ wx_sto_s a_i so that thk two of thki wk_k wal_x__ sxnk _y sxnk hk _k_a_ s_ka_x__ wxth thk _krulxa_ __a_k rou_tksy that nxffk_k_txatkn hxi f_oi thk ia_o_xty of x__k_ _a_ty iki_k_s x han _kk_ ho_x__ fo_ a_ o__o_tu_xty of tal_x__ to you hk saxn x was _kanx__ o_k of you_ _kws_ka_ a_txrlks x_ thk txiks thk othk_ nay you ta_k a srhola_ly x_tk_kst x_ _kws_ka_ x _klxk_k wx_sto_ han _kro_k_kn _a_t of hxs sklf_osskssxo_ ha_nly srhol'"
      ]
     },
     "execution_count": 31,
     "metadata": {},
     "output_type": "execute_result"
    }
   ],
   "source": [
    "MonoDecrypt(encrypted_message, characters, inferred_secret_key)[0:500]"
   ]
  },
  {
   "cell_type": "code",
   "execution_count": 32,
   "metadata": {},
   "outputs": [
    {
     "data": {
      "text/plain": [
       "'inued forward in the same movement laying a friendly hand for a moment on winstons arm so that the two of them were walking side by side he began speaking with the peculiar grave courtesy that differentiated him from the majority of inner party members i had been hoping for an opportunity of talking to you he said i was reading one of your newspeak articles in the times the other day you take a scholarly interest in newspeak i believe winston had recovered part of his selfpossession hardly schol'"
      ]
     },
     "execution_count": 32,
     "metadata": {},
     "output_type": "execute_result"
    }
   ],
   "source": [
    "message[0:500]"
   ]
  },
  {
   "cell_type": "markdown",
   "metadata": {},
   "source": [
    "# Conslusions\n",
    "\n",
    "Charlie has been able to correctly guess 13 out of 26 characters from the key with this very simple attack!. The main takeaway from this exercice is that one can take information by simply looking at the ciphertext. Can we construct a perfectly secure cipher so that the ciphertext carries no information about the original message?. This is what we are going to see in the next section."
   ]
  },
  {
   "cell_type": "code",
   "execution_count": null,
   "metadata": {},
   "outputs": [],
   "source": []
  },
  {
   "cell_type": "code",
   "execution_count": null,
   "metadata": {},
   "outputs": [],
   "source": []
  }
 ],
 "metadata": {
  "kernelspec": {
   "display_name": "Python 3",
   "language": "python",
   "name": "python3"
  },
  "language_info": {
   "codemirror_mode": {
    "name": "ipython",
    "version": 3
   },
   "file_extension": ".py",
   "mimetype": "text/x-python",
   "name": "python",
   "nbconvert_exporter": "python",
   "pygments_lexer": "ipython3",
   "version": "3.6.7"
  }
 },
 "nbformat": 4,
 "nbformat_minor": 4
}
