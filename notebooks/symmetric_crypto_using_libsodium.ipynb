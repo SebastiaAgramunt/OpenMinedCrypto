{
 "cells": [
  {
   "cell_type": "markdown",
   "metadata": {},
   "source": [
    "# Symmetric cryptography using PyNaCl\n",
    "\n",
    "We are going to use libsodium library to do a practical example of symmetric cipher. First, Alice and Bob establish a common random key using cryptographically secure pseudorandom generators, in this example we skip the Diffie-Hellman key exchange (shown already) and generate a fresh key using the system random."
   ]
  },
  {
   "cell_type": "markdown",
   "metadata": {},
   "source": [
    "## Step 1: Generating key using Diffie-Hellman\n",
    "\n",
    "Alice and Bob need to perform DH exchange protocol to get the key. Here for simplicity we'll generate a random key of 32 bytes with the system random."
   ]
  },
  {
   "cell_type": "code",
   "execution_count": 1,
   "metadata": {},
   "outputs": [],
   "source": [
    "import secrets\n",
    "\n",
    "r = secrets.SystemRandom()\n",
    "\n",
    "# our key is going to be 32 bytes or larger\n",
    "key_len = 32\n",
    "\n",
    "key_int = r.getrandbits(8*key_len)\n",
    "key_bytes = key_int.to_bytes(key_len, 'big')"
   ]
  },
  {
   "cell_type": "code",
   "execution_count": 2,
   "metadata": {},
   "outputs": [
    {
     "name": "stdout",
     "output_type": "stream",
     "text": [
      "key in different basis:\n",
      "\n",
      "(bytes):\n",
      "b'\\xf6\\x8fs\\xa0u\\xc8-\\xfb\\x90\\x954f\\xf3m\\xd9\\xed\\xa1\\xe8o\\x92\\xea\\xa6\\xee|\\x97\\x96\\xf3\\xc1\\xe3\\x03J\\x08'\n",
      "\n",
      "(int):\n",
      "111522417908572075402303016172274297589925356449568312866119151854730992634376\n",
      "\n",
      "(binary):\n",
      "1111011010001111011100111010000001110101110010000010110111111011100100001001010100110100011001101111001101101101110110011110110110100001111010000110111110010010111010101010011011101110011111001001011110010110111100111100000111100011000000110100101000001000\n",
      "\n",
      "(individual bytes in integer)\n",
      "[246, 143, 115, 160, 117, 200, 45, 251, 144, 149, 52, 102, 243, 109, 217, 237, 161, 232, 111, 146, 234, 166, 238, 124, 151, 150, 243, 193, 227, 3, 74, 8]\n"
     ]
    }
   ],
   "source": [
    "print(\"key in different basis:\\n\")\n",
    "\n",
    "print(f\"(bytes):\\n{key_bytes}\\n\")\n",
    "print(f\"(int):\\n{key_int}\\n\")\n",
    "print(f\"(binary):\\n{bin(key_int)[2:]}\\n\")\n",
    "print(f\"(individual bytes in integer)\\n{[k for k in key_bytes]}\")"
   ]
  },
  {
   "cell_type": "markdown",
   "metadata": {},
   "source": [
    "## Use PyNaCl to secure communication"
   ]
  },
  {
   "cell_type": "code",
   "execution_count": 3,
   "metadata": {},
   "outputs": [],
   "source": [
    "import nacl.secret as secret\n",
    "import nacl.utils as utils\n",
    "\n",
    "# define the box, an object to encrypt/decrypt\n",
    "box = secret.SecretBox(key_bytes)"
   ]
  },
  {
   "cell_type": "code",
   "execution_count": 4,
   "metadata": {},
   "outputs": [],
   "source": [
    "# the message one wants to send\n",
    "\n",
    "message = b\"How much wood would a woochuck chuck if a woodchuck...?\""
   ]
  },
  {
   "cell_type": "code",
   "execution_count": 5,
   "metadata": {},
   "outputs": [],
   "source": [
    "# nonce (number used once) can be public but never reused for the same key\n",
    "nonce = utils.random(secret.SecretBox.NONCE_SIZE)\n",
    "\n",
    "# encryption with the message and the nonce\n",
    "ciphertext = box.encrypt(message, nonce)"
   ]
  },
  {
   "cell_type": "code",
   "execution_count": 6,
   "metadata": {},
   "outputs": [
    {
     "name": "stdout",
     "output_type": "stream",
     "text": [
      "secet_key:\n",
      "b'\\xf6\\x8fs\\xa0u\\xc8-\\xfb\\x90\\x954f\\xf3m\\xd9\\xed\\xa1\\xe8o\\x92\\xea\\xa6\\xee|\\x97\\x96\\xf3\\xc1\\xe3\\x03J\\x08'\n",
      "\n",
      "nonce:\n",
      "b'6\\x01\\xc3h4\\x9a\\xa7\\xa4N=\\xf5_*J\\xb1uL\\xa4\\xac\\x83\\x8ai\\xd0\\x16'\n",
      "\n",
      "ciphertext:\n",
      "b'\" \\xcc\\x05\\xc3\\xa6\\x1f\\x1c\\x8a\\xb14N\\x11v \\xb9\\xaePK>\\xaa\\xde\\xcb8\\x04\\xef>/%0\\x86}\\xfa\\x1d\\xdb\\x9d\\x10\\xd5\\xfd\\x18aUf:Xp\\xd5\\nk\\xd1\\x98K\\xeb\\xb2\\xe4+\\xa1\\xf8\\xa2\\xb6\\x1aD\\xad.\\xdc\\xb6\\xac\\x7f\\xcc\\xc1.'\n",
      "\n",
      "recovered secret:\n",
      "b'How much wood would a woochuck chuck if a woodchuck...?'\n",
      "\n"
     ]
    }
   ],
   "source": [
    "print(f\"secet_key:\\n{key_bytes}\\n\")\n",
    "print(f\"nonce:\\n{nonce}\\n\")\n",
    "print(f\"ciphertext:\\n{ciphertext.ciphertext}\\n\")\n",
    "\n",
    "decrypted_message = box.decrypt(ciphertext)\n",
    "print(f\"recovered secret:\\n{decrypted_message}\\n\")"
   ]
  },
  {
   "cell_type": "code",
   "execution_count": 7,
   "metadata": {},
   "outputs": [],
   "source": [
    "assert len(ciphertext.ciphertext)==len(message) + box.MACBYTES"
   ]
  },
  {
   "cell_type": "markdown",
   "metadata": {},
   "source": [
    "## Other libraries, cryptogrhapy and Fernet encryption"
   ]
  },
  {
   "cell_type": "code",
   "execution_count": 19,
   "metadata": {},
   "outputs": [
    {
     "name": "stdout",
     "output_type": "stream",
     "text": [
      "secret key:\n",
      "\tb'AbxDtYJXuTw3xwoX_ZbFxLnf6OqveoE1OLNfRmzbuhg='\n",
      "message:\n",
      "\tb'aabbc'\n",
      "ciphertext:\n",
      "\tb'gAAAAABgJREs_pN04OFlpgExVaBgnmYbCuYJTd51aW_VT8RhgmviEq6Ckgsw1_PSbWxb61Turl9H6Ry-8DldMlx6291RT8H5ZQ=='\n",
      "recovered message:\n",
      "\tb'aabbc'\n"
     ]
    }
   ],
   "source": [
    "from cryptography.fernet import Fernet\n",
    "\n",
    "message = b\"aabbc\"\n",
    "# secret key generation\n",
    "secret_key = Fernet.generate_key()\n",
    "\n",
    "print(f\"secret key:\\n\\t{secret_key}\")\n",
    "print(f\"message:\\n\\t{message}\")\n",
    "\n",
    "encrypt_decrypt = Fernet(secret_key)\n",
    "ciphertext = encrypt_decrypt.encrypt(message)\n",
    "print(f\"ciphertext:\\n\\t{ciphertext}\")\n",
    "\n",
    "recovered_message = encrypt_decrypt.decrypt(ciphertext)\n",
    "print(f\"recovered message:\\n\\t{recovered_message}\")"
   ]
  },
  {
   "cell_type": "code",
   "execution_count": null,
   "metadata": {},
   "outputs": [],
   "source": []
  }
 ],
 "metadata": {
  "kernelspec": {
   "display_name": "Python 3",
   "language": "python",
   "name": "python3"
  },
  "language_info": {
   "codemirror_mode": {
    "name": "ipython",
    "version": 3
   },
   "file_extension": ".py",
   "mimetype": "text/x-python",
   "name": "python",
   "nbconvert_exporter": "python",
   "pygments_lexer": "ipython3",
   "version": "3.6.7"
  }
 },
 "nbformat": 4,
 "nbformat_minor": 4
}
